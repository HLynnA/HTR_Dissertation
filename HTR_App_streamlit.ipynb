{
  "cells": [
    {
      "cell_type": "markdown",
      "metadata": {
        "id": "0WiLEJgGBoFP"
      },
      "source": [
        "### Connect Google Drive"
      ]
    },
    {
      "cell_type": "code",
      "execution_count": 23,
      "metadata": {
        "colab": {
          "base_uri": "https://localhost:8080/"
        },
        "id": "E2KOy5zpXATQ",
        "outputId": "630964be-8afc-486a-e287-2f9a2fef2921"
      },
      "outputs": [
        {
          "output_type": "stream",
          "name": "stdout",
          "text": [
            "Drive already mounted at /content/drive/; to attempt to forcibly remount, call drive.mount(\"/content/drive/\", force_remount=True).\n"
          ]
        }
      ],
      "source": [
        "from google.colab import drive\n",
        "\n",
        "drive.mount(\"/content/drive/\")"
      ]
    },
    {
      "cell_type": "markdown",
      "source": [
        "### Find your folder path in google drive"
      ],
      "metadata": {
        "id": "4b1lqjcwA9uw"
      }
    },
    {
      "cell_type": "code",
      "execution_count": 25,
      "metadata": {
        "colab": {
          "base_uri": "https://localhost:8080/"
        },
        "id": "09G_IETKYbnt",
        "outputId": "b17368c3-abc3-4534-e06f-88fd827adb17"
      },
      "outputs": [
        {
          "output_type": "stream",
          "name": "stdout",
          "text": [
            "/content/drive/My Drive/Handwritten_Recognition/HTR_application_files\n"
          ]
        }
      ],
      "source": [
        "%cd /content/drive/My Drive/Handwritten_Recognition/HTR_application_files/"
      ]
    },
    {
      "cell_type": "markdown",
      "metadata": {
        "id": "xzMUnyoKqXbj"
      },
      "source": [
        "### Unzip the streamlit_HTR_app file."
      ]
    },
    {
      "cell_type": "code",
      "execution_count": 26,
      "metadata": {
        "id": "kd2npOxQYuKg",
        "colab": {
          "base_uri": "https://localhost:8080/"
        },
        "outputId": "e437c87e-57de-4846-d9e5-772095e68ca9"
      },
      "outputs": [
        {
          "output_type": "stream",
          "name": "stdout",
          "text": [
            "replace ./__MACOSX/._streamlit_HTR_app? [y]es, [n]o, [A]ll, [N]one, [r]ename: A\n"
          ]
        }
      ],
      "source": [
        "!unzip -q streamlit_HTR_app.zip -d ./"
      ]
    },
    {
      "cell_type": "markdown",
      "metadata": {
        "id": "UuNpRJIoq0ap"
      },
      "source": [
        "## Change folder path to streamlit_HTR_app"
      ]
    },
    {
      "cell_type": "code",
      "execution_count": 1,
      "metadata": {
        "colab": {
          "base_uri": "https://localhost:8080/"
        },
        "id": "4cmt8QVUYyMO",
        "outputId": "f645acf6-e3f6-4fdd-89db-146fb0a29620"
      },
      "outputs": [
        {
          "output_type": "stream",
          "name": "stdout",
          "text": [
            "/content/drive/My Drive/Handwritten_Recognition/HTR_application_files/streamlit_HTR_app\n"
          ]
        }
      ],
      "source": [
        "%cd /content/drive/My Drive/Handwritten_Recognition/HTR_application_files/streamlit_HTR_app"
      ]
    },
    {
      "cell_type": "markdown",
      "metadata": {
        "id": "IWzcSh9qq8yd"
      },
      "source": [
        "## Requirements installation\n",
        "\n",
        "When everything setup, run requirement.txt file to install the dependencies.\n",
        "After running below code chunk, restart the runtime.\n",
        "\n",
        "After restart the runtime, start run the code chunk from the beginning again but this code chunk is not require to run again. You can skip this."
      ]
    },
    {
      "cell_type": "code",
      "execution_count": 28,
      "metadata": {
        "colab": {
          "base_uri": "https://localhost:8080/"
        },
        "id": "OAGwjx9GY42X",
        "outputId": "645f1d31-1d24-45dd-bbe6-caf620548f36"
      },
      "outputs": [
        {
          "output_type": "stream",
          "name": "stdout",
          "text": [
            "Looking in indexes: https://pypi.org/simple, https://us-python.pkg.dev/colab-wheels/public/simple/\n",
            "Requirement already satisfied: absl-py==1.3.0 in /usr/local/lib/python3.8/dist-packages (from -r requirements.txt (line 1)) (1.3.0)\n",
            "Requirement already satisfied: altair==4.2.0 in /usr/local/lib/python3.8/dist-packages (from -r requirements.txt (line 2)) (4.2.0)\n",
            "Requirement already satisfied: astunparse==1.6.3 in /usr/local/lib/python3.8/dist-packages (from -r requirements.txt (line 3)) (1.6.3)\n",
            "Requirement already satisfied: attrs==22.1.0 in /usr/local/lib/python3.8/dist-packages (from -r requirements.txt (line 4)) (22.1.0)\n",
            "Requirement already satisfied: autocorrect==2.6.1 in /usr/local/lib/python3.8/dist-packages (from -r requirements.txt (line 5)) (2.6.1)\n",
            "Requirement already satisfied: beautifulsoup4==4.11.1 in /usr/local/lib/python3.8/dist-packages (from -r requirements.txt (line 6)) (4.11.1)\n",
            "Requirement already satisfied: blinker==1.5 in /usr/local/lib/python3.8/dist-packages (from -r requirements.txt (line 7)) (1.5)\n",
            "Requirement already satisfied: cachetools==5.2.0 in /usr/local/lib/python3.8/dist-packages (from -r requirements.txt (line 8)) (5.2.0)\n",
            "Requirement already satisfied: certifi==2022.12.7 in /usr/local/lib/python3.8/dist-packages (from -r requirements.txt (line 9)) (2022.12.7)\n",
            "Requirement already satisfied: charset-normalizer==2.1.1 in /usr/local/lib/python3.8/dist-packages (from -r requirements.txt (line 10)) (2.1.1)\n",
            "Requirement already satisfied: click==8.1.3 in /usr/local/lib/python3.8/dist-packages (from -r requirements.txt (line 11)) (8.1.3)\n",
            "Requirement already satisfied: commonmark==0.9.1 in /usr/local/lib/python3.8/dist-packages (from -r requirements.txt (line 12)) (0.9.1)\n",
            "Requirement already satisfied: contourpy==1.0.6 in /usr/local/lib/python3.8/dist-packages (from -r requirements.txt (line 13)) (1.0.6)\n",
            "Requirement already satisfied: cycler==0.11.0 in /usr/local/lib/python3.8/dist-packages (from -r requirements.txt (line 14)) (0.11.0)\n",
            "Requirement already satisfied: decorator==5.1.1 in /usr/local/lib/python3.8/dist-packages (from -r requirements.txt (line 15)) (5.1.1)\n",
            "Requirement already satisfied: entrypoints==0.4 in /usr/local/lib/python3.8/dist-packages (from -r requirements.txt (line 16)) (0.4)\n",
            "Requirement already satisfied: Faker==15.3.4 in /usr/local/lib/python3.8/dist-packages (from -r requirements.txt (line 17)) (15.3.4)\n",
            "Requirement already satisfied: favicon==0.7.0 in /usr/local/lib/python3.8/dist-packages (from -r requirements.txt (line 18)) (0.7.0)\n",
            "Requirement already satisfied: flatbuffers==1.12 in /usr/local/lib/python3.8/dist-packages (from -r requirements.txt (line 19)) (1.12)\n",
            "Requirement already satisfied: fonttools==4.38.0 in /usr/local/lib/python3.8/dist-packages (from -r requirements.txt (line 20)) (4.38.0)\n",
            "Requirement already satisfied: gast==0.4.0 in /usr/local/lib/python3.8/dist-packages (from -r requirements.txt (line 21)) (0.4.0)\n",
            "Requirement already satisfied: gitdb==4.0.10 in /usr/local/lib/python3.8/dist-packages (from -r requirements.txt (line 22)) (4.0.10)\n",
            "Requirement already satisfied: GitPython==3.1.29 in /usr/local/lib/python3.8/dist-packages (from -r requirements.txt (line 23)) (3.1.29)\n",
            "Requirement already satisfied: google-auth==2.15.0 in /usr/local/lib/python3.8/dist-packages (from -r requirements.txt (line 24)) (2.15.0)\n",
            "Requirement already satisfied: google-auth-oauthlib==0.4.6 in /usr/local/lib/python3.8/dist-packages (from -r requirements.txt (line 25)) (0.4.6)\n",
            "Requirement already satisfied: google-pasta==0.2.0 in /usr/local/lib/python3.8/dist-packages (from -r requirements.txt (line 26)) (0.2.0)\n",
            "Requirement already satisfied: grpcio==1.51.1 in /usr/local/lib/python3.8/dist-packages (from -r requirements.txt (line 27)) (1.51.1)\n",
            "Requirement already satisfied: h5py==3.7.0 in /usr/local/lib/python3.8/dist-packages (from -r requirements.txt (line 28)) (3.7.0)\n",
            "Requirement already satisfied: htbuilder==0.6.1 in /usr/local/lib/python3.8/dist-packages (from -r requirements.txt (line 29)) (0.6.1)\n",
            "Requirement already satisfied: idna==3.4 in /usr/local/lib/python3.8/dist-packages (from -r requirements.txt (line 30)) (3.4)\n",
            "Requirement already satisfied: importlib-metadata==5.1.0 in /usr/local/lib/python3.8/dist-packages (from -r requirements.txt (line 31)) (5.1.0)\n",
            "Requirement already satisfied: Jinja2==3.1.2 in /usr/local/lib/python3.8/dist-packages (from -r requirements.txt (line 32)) (3.1.2)\n",
            "Requirement already satisfied: joblib==1.2.0 in /usr/local/lib/python3.8/dist-packages (from -r requirements.txt (line 33)) (1.2.0)\n",
            "Requirement already satisfied: jsonschema==4.17.3 in /usr/local/lib/python3.8/dist-packages (from -r requirements.txt (line 34)) (4.17.3)\n",
            "Requirement already satisfied: keras==2.9.0 in /usr/local/lib/python3.8/dist-packages (from -r requirements.txt (line 35)) (2.9.0)\n",
            "Requirement already satisfied: Keras-Preprocessing==1.1.2 in /usr/local/lib/python3.8/dist-packages (from -r requirements.txt (line 36)) (1.1.2)\n",
            "Requirement already satisfied: kiwisolver==1.4.4 in /usr/local/lib/python3.8/dist-packages (from -r requirements.txt (line 37)) (1.4.4)\n",
            "Requirement already satisfied: libclang==14.0.6 in /usr/local/lib/python3.8/dist-packages (from -r requirements.txt (line 38)) (14.0.6)\n",
            "Requirement already satisfied: lxml==4.9.1 in /usr/local/lib/python3.8/dist-packages (from -r requirements.txt (line 39)) (4.9.1)\n",
            "Requirement already satisfied: Markdown==3.4.1 in /usr/local/lib/python3.8/dist-packages (from -r requirements.txt (line 40)) (3.4.1)\n",
            "Requirement already satisfied: markdownlit==0.0.5 in /usr/local/lib/python3.8/dist-packages (from -r requirements.txt (line 41)) (0.0.5)\n",
            "Requirement already satisfied: MarkupSafe==2.1.1 in /usr/local/lib/python3.8/dist-packages (from -r requirements.txt (line 42)) (2.1.1)\n",
            "Requirement already satisfied: matplotlib==3.6.2 in /usr/local/lib/python3.8/dist-packages (from -r requirements.txt (line 43)) (3.6.2)\n",
            "Requirement already satisfied: more-itertools==9.0.0 in /usr/local/lib/python3.8/dist-packages (from -r requirements.txt (line 44)) (9.0.0)\n",
            "Requirement already satisfied: numpy==1.23.5 in /usr/local/lib/python3.8/dist-packages (from -r requirements.txt (line 45)) (1.23.5)\n",
            "Requirement already satisfied: oauthlib==3.2.2 in /usr/local/lib/python3.8/dist-packages (from -r requirements.txt (line 46)) (3.2.2)\n",
            "Requirement already satisfied: opencv-python==4.6.0.66 in /usr/local/lib/python3.8/dist-packages (from -r requirements.txt (line 47)) (4.6.0.66)\n",
            "Requirement already satisfied: opt-einsum==3.3.0 in /usr/local/lib/python3.8/dist-packages (from -r requirements.txt (line 48)) (3.3.0)\n",
            "Requirement already satisfied: packaging==22.0 in /usr/local/lib/python3.8/dist-packages (from -r requirements.txt (line 49)) (22.0)\n",
            "Requirement already satisfied: pandas==1.5.2 in /usr/local/lib/python3.8/dist-packages (from -r requirements.txt (line 50)) (1.5.2)\n",
            "Requirement already satisfied: Pillow==9.3.0 in /usr/local/lib/python3.8/dist-packages (from -r requirements.txt (line 51)) (9.3.0)\n",
            "Requirement already satisfied: protobuf==3.19.6 in /usr/local/lib/python3.8/dist-packages (from -r requirements.txt (line 52)) (3.19.6)\n",
            "Requirement already satisfied: pyarrow==10.0.1 in /usr/local/lib/python3.8/dist-packages (from -r requirements.txt (line 53)) (10.0.1)\n",
            "Requirement already satisfied: pyasn1==0.4.8 in /usr/local/lib/python3.8/dist-packages (from -r requirements.txt (line 54)) (0.4.8)\n",
            "Requirement already satisfied: pyasn1-modules==0.2.8 in /usr/local/lib/python3.8/dist-packages (from -r requirements.txt (line 55)) (0.2.8)\n",
            "Requirement already satisfied: pydeck==0.8.0 in /usr/local/lib/python3.8/dist-packages (from -r requirements.txt (line 56)) (0.8.0)\n",
            "Requirement already satisfied: Pygments==2.13.0 in /usr/local/lib/python3.8/dist-packages (from -r requirements.txt (line 57)) (2.13.0)\n",
            "Requirement already satisfied: pymdown-extensions==9.9 in /usr/local/lib/python3.8/dist-packages (from -r requirements.txt (line 58)) (9.9)\n",
            "Requirement already satisfied: Pympler==1.0.1 in /usr/local/lib/python3.8/dist-packages (from -r requirements.txt (line 59)) (1.0.1)\n",
            "Requirement already satisfied: pyparsing==3.0.9 in /usr/local/lib/python3.8/dist-packages (from -r requirements.txt (line 60)) (3.0.9)\n",
            "Requirement already satisfied: pyperclip==1.8.2 in /usr/local/lib/python3.8/dist-packages (from -r requirements.txt (line 61)) (1.8.2)\n",
            "Requirement already satisfied: pyrsistent==0.19.2 in /usr/local/lib/python3.8/dist-packages (from -r requirements.txt (line 62)) (0.19.2)\n",
            "Requirement already satisfied: python-dateutil==2.8.2 in /usr/local/lib/python3.8/dist-packages (from -r requirements.txt (line 63)) (2.8.2)\n",
            "Requirement already satisfied: pytz==2022.6 in /usr/local/lib/python3.8/dist-packages (from -r requirements.txt (line 64)) (2022.6)\n",
            "Requirement already satisfied: pytz-deprecation-shim==0.1.0.post0 in /usr/local/lib/python3.8/dist-packages (from -r requirements.txt (line 65)) (0.1.0.post0)\n",
            "Requirement already satisfied: requests==2.28.1 in /usr/local/lib/python3.8/dist-packages (from -r requirements.txt (line 66)) (2.28.1)\n",
            "Requirement already satisfied: requests-oauthlib==1.3.1 in /usr/local/lib/python3.8/dist-packages (from -r requirements.txt (line 67)) (1.3.1)\n",
            "Requirement already satisfied: rich==12.6.0 in /usr/local/lib/python3.8/dist-packages (from -r requirements.txt (line 68)) (12.6.0)\n",
            "Requirement already satisfied: rsa==4.9 in /usr/local/lib/python3.8/dist-packages (from -r requirements.txt (line 69)) (4.9)\n",
            "Requirement already satisfied: scikit-learn==1.2.0 in /usr/local/lib/python3.8/dist-packages (from -r requirements.txt (line 70)) (1.2.0)\n",
            "Requirement already satisfied: scipy==1.9.3 in /usr/local/lib/python3.8/dist-packages (from -r requirements.txt (line 71)) (1.9.3)\n",
            "Requirement already satisfied: semver==2.13.0 in /usr/local/lib/python3.8/dist-packages (from -r requirements.txt (line 72)) (2.13.0)\n",
            "Requirement already satisfied: six==1.16.0 in /usr/local/lib/python3.8/dist-packages (from -r requirements.txt (line 73)) (1.16.0)\n",
            "Requirement already satisfied: smmap==5.0.0 in /usr/local/lib/python3.8/dist-packages (from -r requirements.txt (line 74)) (5.0.0)\n",
            "Requirement already satisfied: soupsieve==2.3.2.post1 in /usr/local/lib/python3.8/dist-packages (from -r requirements.txt (line 75)) (2.3.2.post1)\n",
            "Requirement already satisfied: st-annotated-text==3.0.0 in /usr/local/lib/python3.8/dist-packages (from -r requirements.txt (line 76)) (3.0.0)\n",
            "Requirement already satisfied: streamlit==1.15.2 in /usr/local/lib/python3.8/dist-packages (from -r requirements.txt (line 77)) (1.15.2)\n",
            "Requirement already satisfied: streamlit-camera-input-live==0.2.0 in /usr/local/lib/python3.8/dist-packages (from -r requirements.txt (line 78)) (0.2.0)\n",
            "Requirement already satisfied: streamlit-card==0.0.4 in /usr/local/lib/python3.8/dist-packages (from -r requirements.txt (line 79)) (0.0.4)\n",
            "Requirement already satisfied: streamlit-embedcode==0.1.2 in /usr/local/lib/python3.8/dist-packages (from -r requirements.txt (line 80)) (0.1.2)\n",
            "Requirement already satisfied: streamlit-extras==0.2.4 in /usr/local/lib/python3.8/dist-packages (from -r requirements.txt (line 81)) (0.2.4)\n",
            "Requirement already satisfied: streamlit-faker==0.0.2 in /usr/local/lib/python3.8/dist-packages (from -r requirements.txt (line 82)) (0.0.2)\n",
            "Requirement already satisfied: streamlit-keyup==0.2.0 in /usr/local/lib/python3.8/dist-packages (from -r requirements.txt (line 83)) (0.2.0)\n",
            "Requirement already satisfied: streamlit-toggle-switch==1.0.2 in /usr/local/lib/python3.8/dist-packages (from -r requirements.txt (line 84)) (1.0.2)\n",
            "Requirement already satisfied: streamlit-vertical-slider==1.0.2 in /usr/local/lib/python3.8/dist-packages (from -r requirements.txt (line 85)) (1.0.2)\n",
            "Requirement already satisfied: tensorboard==2.9.1 in /usr/local/lib/python3.8/dist-packages (from -r requirements.txt (line 86)) (2.9.1)\n",
            "Requirement already satisfied: tensorboard-data-server==0.6.1 in /usr/local/lib/python3.8/dist-packages (from -r requirements.txt (line 87)) (0.6.1)\n",
            "Requirement already satisfied: tensorboard-plugin-wit==1.8.1 in /usr/local/lib/python3.8/dist-packages (from -r requirements.txt (line 88)) (1.8.1)\n",
            "Requirement already satisfied: tensorflow==2.9.3 in /usr/local/lib/python3.8/dist-packages (from -r requirements.txt (line 89)) (2.9.3)\n",
            "Requirement already satisfied: tensorflow-estimator==2.9.0 in /usr/local/lib/python3.8/dist-packages (from -r requirements.txt (line 90)) (2.9.0)\n",
            "Requirement already satisfied: tensorflow-io-gcs-filesystem==0.28.0 in /usr/local/lib/python3.8/dist-packages (from -r requirements.txt (line 91)) (0.28.0)\n",
            "Requirement already satisfied: termcolor==2.1.1 in /usr/local/lib/python3.8/dist-packages (from -r requirements.txt (line 92)) (2.1.1)\n",
            "Requirement already satisfied: threadpoolctl==3.1.0 in /usr/local/lib/python3.8/dist-packages (from -r requirements.txt (line 93)) (3.1.0)\n",
            "Requirement already satisfied: toml==0.10.2 in /usr/local/lib/python3.8/dist-packages (from -r requirements.txt (line 94)) (0.10.2)\n",
            "Requirement already satisfied: toolz==0.12.0 in /usr/local/lib/python3.8/dist-packages (from -r requirements.txt (line 95)) (0.12.0)\n",
            "Requirement already satisfied: tornado==6.2 in /usr/local/lib/python3.8/dist-packages (from -r requirements.txt (line 96)) (6.2)\n",
            "Requirement already satisfied: tqdm==4.64.1 in /usr/local/lib/python3.8/dist-packages (from -r requirements.txt (line 97)) (4.64.1)\n",
            "Requirement already satisfied: typing_extensions==4.4.0 in /usr/local/lib/python3.8/dist-packages (from -r requirements.txt (line 98)) (4.4.0)\n",
            "Requirement already satisfied: tzdata==2022.7 in /usr/local/lib/python3.8/dist-packages (from -r requirements.txt (line 99)) (2022.7)\n",
            "Requirement already satisfied: tzlocal==4.2 in /usr/local/lib/python3.8/dist-packages (from -r requirements.txt (line 100)) (4.2)\n",
            "Requirement already satisfied: urllib3==1.26.13 in /usr/local/lib/python3.8/dist-packages (from -r requirements.txt (line 101)) (1.26.13)\n",
            "Requirement already satisfied: validators==0.20.0 in /usr/local/lib/python3.8/dist-packages (from -r requirements.txt (line 102)) (0.20.0)\n",
            "Requirement already satisfied: watchdog==2.2.0 in /usr/local/lib/python3.8/dist-packages (from -r requirements.txt (line 103)) (2.2.0)\n",
            "Requirement already satisfied: Werkzeug==2.2.2 in /usr/local/lib/python3.8/dist-packages (from -r requirements.txt (line 104)) (2.2.2)\n",
            "Requirement already satisfied: wrapt==1.14.1 in /usr/local/lib/python3.8/dist-packages (from -r requirements.txt (line 105)) (1.14.1)\n",
            "Requirement already satisfied: zipp==3.11.0 in /usr/local/lib/python3.8/dist-packages (from -r requirements.txt (line 106)) (3.11.0)\n",
            "Requirement already satisfied: wheel<1.0,>=0.23.0 in /usr/local/lib/python3.8/dist-packages (from astunparse==1.6.3->-r requirements.txt (line 3)) (0.38.4)\n",
            "Requirement already satisfied: pkgutil-resolve-name>=1.3.10 in /usr/local/lib/python3.8/dist-packages (from jsonschema==4.17.3->-r requirements.txt (line 34)) (1.3.10)\n",
            "Requirement already satisfied: importlib-resources>=1.4.0 in /usr/local/lib/python3.8/dist-packages (from jsonschema==4.17.3->-r requirements.txt (line 34)) (5.10.1)\n",
            "Requirement already satisfied: backports.zoneinfo in /usr/local/lib/python3.8/dist-packages (from pytz-deprecation-shim==0.1.0.post0->-r requirements.txt (line 65)) (0.2.1)\n",
            "Requirement already satisfied: setuptools>=41.0.0 in /usr/local/lib/python3.8/dist-packages (from tensorboard==2.9.1->-r requirements.txt (line 86)) (57.4.0)\n"
          ]
        }
      ],
      "source": [
        "!pip install -r requirements.txt "
      ]
    },
    {
      "cell_type": "markdown",
      "metadata": {
        "id": "dBdK3r5urv47"
      },
      "source": [
        "Recommend to restart the runtime aftr install the requirement.\n",
        "Do not need to run requirement code chunk again."
      ]
    },
    {
      "cell_type": "code",
      "execution_count": 2,
      "metadata": {
        "id": "0yp_1cKTaCSb"
      },
      "outputs": [],
      "source": [
        "!streamlit run main.py &>/dev/null&"
      ]
    },
    {
      "cell_type": "markdown",
      "metadata": {
        "id": "uBnATx8rZ2Pb"
      },
      "source": [
        "## 1. Pygrok install"
      ]
    },
    {
      "cell_type": "code",
      "execution_count": 3,
      "metadata": {
        "colab": {
          "base_uri": "https://localhost:8080/"
        },
        "id": "RxMwG0o6ZES1",
        "outputId": "16936963-9584-4dd8-bc6a-347ea8f68ff6"
      },
      "outputs": [
        {
          "output_type": "stream",
          "name": "stdout",
          "text": [
            "Looking in indexes: https://pypi.org/simple, https://us-python.pkg.dev/colab-wheels/public/simple/\n",
            "Requirement already satisfied: pyngrok==4.1.1 in /usr/local/lib/python3.8/dist-packages (4.1.1)\n",
            "Requirement already satisfied: PyYAML in /usr/local/lib/python3.8/dist-packages (from pyngrok==4.1.1) (6.0)\n",
            "Requirement already satisfied: future in /usr/local/lib/python3.8/dist-packages (from pyngrok==4.1.1) (0.16.0)\n"
          ]
        }
      ],
      "source": [
        "!pip install pyngrok==4.1.1"
      ]
    },
    {
      "cell_type": "code",
      "execution_count": 4,
      "metadata": {
        "id": "FdPv9mjnZ7mB"
      },
      "outputs": [],
      "source": [
        "from pyngrok import ngrok"
      ]
    },
    {
      "cell_type": "markdown",
      "metadata": {
        "id": "cpSt2jyNtAjk"
      },
      "source": [
        "## Get the Token from ngrok website \n",
        "\n",
        "ngrok website --> [ngrok](https://ngrok.com/)"
      ]
    },
    {
      "cell_type": "markdown",
      "metadata": {
        "id": "inU1pfHVFSxa"
      },
      "source": [
        "Copy your Auth Token from Ngrok website and replace.\n",
        "If there has an error - regenerate the token."
      ]
    },
    {
      "cell_type": "code",
      "execution_count": 5,
      "metadata": {
        "colab": {
          "base_uri": "https://localhost:8080/"
        },
        "id": "WsDFyOM9aAjk",
        "outputId": "0f47e804-51ad-41ae-a1c7-3b7b37949ae1"
      },
      "outputs": [
        {
          "output_type": "stream",
          "name": "stdout",
          "text": [
            "Authtoken saved to configuration file: /root/.ngrok2/ngrok.yml\n"
          ]
        }
      ],
      "source": [
        "!ngrok authtoken 2JMka5XNurXszH3jAPAQCzRMldz_46qqnRbi1bn24Go8M5VrH"
      ]
    },
    {
      "cell_type": "code",
      "execution_count": 6,
      "metadata": {
        "id": "VdFv4cR4aL7R"
      },
      "outputs": [],
      "source": [
        "public_url = ngrok.connect(port='8501')"
      ]
    },
    {
      "cell_type": "markdown",
      "metadata": {
        "id": "t5VfSD-btTbG"
      },
      "source": [
        "## Create Public_URL"
      ]
    },
    {
      "cell_type": "code",
      "execution_count": 7,
      "metadata": {
        "colab": {
          "base_uri": "https://localhost:8080/"
        },
        "id": "toY-XWOwaPRA",
        "outputId": "43fe7b4d-7116-479f-b32f-f543a638d879"
      },
      "outputs": [
        {
          "output_type": "stream",
          "name": "stdout",
          "text": [
            "http://df88-34-90-251-33.ngrok.io\n"
          ]
        }
      ],
      "source": [
        "print(public_url)"
      ]
    },
    {
      "cell_type": "code",
      "execution_count": null,
      "metadata": {
        "id": "qv6HuGibaRM-"
      },
      "outputs": [],
      "source": []
    }
  ],
  "metadata": {
    "colab": {
      "toc_visible": true,
      "provenance": []
    },
    "kernelspec": {
      "display_name": "Python 3",
      "name": "python3"
    },
    "language_info": {
      "name": "python"
    }
  },
  "nbformat": 4,
  "nbformat_minor": 0
}