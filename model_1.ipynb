{
  "nbformat": 4,
  "nbformat_minor": 0,
  "metadata": {
    "colab": {
      "provenance": [],
      "toc_visible": true,
      "collapsed_sections": [
        "aqLr_ZtE0X8b",
        "HvpeFMGx1P7o",
        "SrV44Vb62Y6S",
        "g86SNSkkWGSO",
        "x3khJAb3XaO3"
      ]
    },
    "kernelspec": {
      "name": "python3",
      "display_name": "Python 3"
    },
    "language_info": {
      "name": "python"
    },
    "gpuClass": "standard",
    "accelerator": "GPU"
  },
  "cells": [
    {
      "cell_type": "markdown",
      "source": [
        "# Functions"
      ],
      "metadata": {
        "id": "vB8B4zU3c1l5"
      }
    },
    {
      "cell_type": "markdown",
      "source": [
        "## Preprocessing function\n",
        "\n",
        "- Image preprocessing, normalization , augmentation\n",
        "- Text Standardization"
      ],
      "metadata": {
        "id": "og2y3Rx1eDKd"
      }
    },
    {
      "cell_type": "code",
      "source": [
        "arch = \"puigcerver\""
      ],
      "metadata": {
        "id": "pqO52F_zezXC"
      },
      "execution_count": 1,
      "outputs": []
    },
    {
      "cell_type": "code",
      "execution_count": 2,
      "metadata": {
        "id": "UfwgIx0cN-ie"
      },
      "outputs": [],
      "source": [
        "\"\"\"\n",
        "Data preproc functions:\n",
        "    adjust_to_see: adjust image to better visualize (rotate and transpose)\n",
        "    augmentation: apply variations to a list of images\n",
        "    text_standardize: preprocess and standardize sentence\n",
        "    normalization: apply normalization and variations on images (if required)\n",
        "    preprocess: main function for preprocess\n",
        "\"\"\"\n",
        "\n",
        "import re\n",
        "import os\n",
        "import cv2\n",
        "import html\n",
        "import string\n",
        "import numpy as np\n",
        "\n",
        "\n",
        "def adjust_to_see(img):\n",
        "    \"\"\"Rotate and transpose to image visualize (cv2 method or jupyter notebook)\"\"\"\n",
        "\n",
        "    (h, w) = img.shape[:2]\n",
        "    (cX, cY) = (w // 2, h // 2)\n",
        "\n",
        "    M = cv2.getRotationMatrix2D((cX, cY), -90, 1.0)\n",
        "    cos = np.abs(M[0, 0])\n",
        "    sin = np.abs(M[0, 1])\n",
        "\n",
        "    nW = int((h * sin) + (w * cos))\n",
        "    nH = int((h * cos) + (w * sin))\n",
        "\n",
        "    M[0, 2] += (nW / 2) - cX\n",
        "    M[1, 2] += (nH / 2) - cY\n",
        "\n",
        "    img = cv2.warpAffine(img, M, (nW + 1, nH + 1))\n",
        "    img = cv2.warpAffine(img.transpose(), M, (nW, nH))\n",
        "\n",
        "    return img\n",
        "\n",
        "\n",
        "def augmentation(imgs,\n",
        "                 rotation_range=0,\n",
        "                 scale_range=0,\n",
        "                 height_shift_range=0,\n",
        "                 width_shift_range=0,\n",
        "                 dilate_range=1,\n",
        "                 erode_range=1):\n",
        "    \"\"\"Apply variations to a list of images (rotate, width and height shift, scale, erode, dilate)\"\"\"\n",
        "\n",
        "    imgs = imgs.astype(np.float32)\n",
        "    _, h, w = imgs.shape\n",
        "\n",
        "    dilate_kernel = np.ones((int(np.random.uniform(1, dilate_range)),), np.uint8)\n",
        "    erode_kernel = np.ones((int(np.random.uniform(1, erode_range)),), np.uint8)\n",
        "    height_shift = np.random.uniform(-height_shift_range, height_shift_range)\n",
        "    rotation = np.random.uniform(-rotation_range, rotation_range)\n",
        "    scale = np.random.uniform(1 - scale_range, 1)\n",
        "    width_shift = np.random.uniform(-width_shift_range, width_shift_range)\n",
        "\n",
        "    trans_map = np.float32([[1, 0, width_shift * w], [0, 1, height_shift * h]])\n",
        "    rot_map = cv2.getRotationMatrix2D((w // 2, h // 2), rotation, scale)\n",
        "\n",
        "    trans_map_aff = np.r_[trans_map, [[0, 0, 1]]]\n",
        "    rot_map_aff = np.r_[rot_map, [[0, 0, 1]]]\n",
        "    affine_mat = rot_map_aff.dot(trans_map_aff)[:2, :]\n",
        "\n",
        "    for i in range(len(imgs)):\n",
        "        imgs[i] = cv2.warpAffine(imgs[i], affine_mat, (w, h), flags=cv2.INTER_NEAREST, borderValue=255)\n",
        "        imgs[i] = cv2.erode(imgs[i], erode_kernel, iterations=1)\n",
        "        imgs[i] = cv2.dilate(imgs[i], dilate_kernel, iterations=1)\n",
        "\n",
        "    return imgs\n",
        "\n",
        "\n",
        "\"\"\"\n",
        "DeepSpell based text cleaning process.\n",
        "    Tal Weiss.\n",
        "    Deep Spelling.\n",
        "    Medium: https://machinelearnings.co/deep-spelling-9ffef96a24f6#.2c9pu8nlm\n",
        "    Github: https://github.com/MajorTal/DeepSpell\n",
        "\"\"\"\n",
        "\n",
        "RE_DASH_FILTER = re.compile(r'[\\-\\˗\\֊\\‐\\‑\\‒\\–\\—\\⁻\\₋\\−\\﹣\\－]', re.UNICODE)\n",
        "RE_APOSTROPHE_FILTER = re.compile(r'&#39;|[ʼ՚＇‘’‛❛❜ߴߵ`‵´ˊˋ{}{}{}{}{}{}{}{}{}]'.format(\n",
        "    chr(768), chr(769), chr(832), chr(833), chr(2387),\n",
        "    chr(5151), chr(5152), chr(65344), chr(8242)), re.UNICODE)\n",
        "RE_RESERVED_CHAR_FILTER = re.compile(r'[¶¤«»]', re.UNICODE)\n",
        "RE_LEFT_PARENTH_FILTER = re.compile(r'[\\(\\[\\{\\⁽\\₍\\❨\\❪\\﹙\\（]', re.UNICODE)\n",
        "RE_RIGHT_PARENTH_FILTER = re.compile(r'[\\)\\]\\}\\⁾\\₎\\❩\\❫\\﹚\\）]', re.UNICODE)\n",
        "RE_BASIC_CLEANER = re.compile(r'[^\\w\\s{}]'.format(re.escape(string.punctuation)), re.UNICODE)\n",
        "\n",
        "LEFT_PUNCTUATION_FILTER = \"\"\"!%&),.:;<=>?@\\\\]^_`|}~\"\"\"\n",
        "RIGHT_PUNCTUATION_FILTER = \"\"\"\"(/<=>@[\\\\^_`{|~\"\"\"\n",
        "NORMALIZE_WHITESPACE_REGEX = re.compile(r'[^\\S\\n]+', re.UNICODE)\n",
        "\n",
        "\n",
        "def text_standardize(text):\n",
        "    \"\"\"Organize/add spaces around punctuation marks\"\"\"\n",
        "\n",
        "    if text is None:\n",
        "        return \"\"\n",
        "\n",
        "    text = html.unescape(text).replace(\"\\\\n\", \"\").replace(\"\\\\t\", \"\")\n",
        "\n",
        "    text = RE_RESERVED_CHAR_FILTER.sub(\"\", text)\n",
        "    text = RE_DASH_FILTER.sub(\"-\", text)\n",
        "    text = RE_APOSTROPHE_FILTER.sub(\"'\", text)\n",
        "    text = RE_LEFT_PARENTH_FILTER.sub(\"(\", text)\n",
        "    text = RE_RIGHT_PARENTH_FILTER.sub(\")\", text)\n",
        "    text = RE_BASIC_CLEANER.sub(\"\", text)\n",
        "\n",
        "    text = text.lstrip(LEFT_PUNCTUATION_FILTER)\n",
        "    text = text.rstrip(RIGHT_PUNCTUATION_FILTER)\n",
        "    text = text.translate(str.maketrans({c: f\" {c} \" for c in string.punctuation}))\n",
        "    text = NORMALIZE_WHITESPACE_REGEX.sub(\" \", text.strip())\n",
        "\n",
        "    return text\n",
        "\n",
        "\n",
        "def normalization(imgs):\n",
        "    \"\"\"Normalize list of images\"\"\"\n",
        "\n",
        "    imgs = np.asarray(imgs).astype(np.float32)\n",
        "    _, h, w = imgs.shape\n",
        "\n",
        "    for i in range(len(imgs)):\n",
        "        m, s = cv2.meanStdDev(imgs[i])\n",
        "        imgs[i] = imgs[i] - m[0][0]\n",
        "        imgs[i] = imgs[i] / s[0][0] if s[0][0] > 0 else imgs[i]\n",
        "\n",
        "    return np.expand_dims(imgs, axis=-1)\n",
        "\n",
        "\n",
        "\"\"\"\n",
        "Preprocess metodology based in:\n",
        "    H. Scheidl, S. Fiel and R. Sablatnig,\n",
        "    Word Beam Search: A Connectionist Temporal Classification Decoding Algorithm, in\n",
        "    16th International Conference on Frontiers in Handwriting Recognition, pp. 256-258, 2018.\n",
        "\"\"\"\n",
        "\n",
        "\n",
        "def preprocess(img, input_size):\n",
        "    \"\"\"Make the process with the `input_size` to the scale resize\"\"\"\n",
        "\n",
        "    def imread(path):\n",
        "        img = cv2.imread(path, cv2.IMREAD_GRAYSCALE)\n",
        "        u, i = np.unique(np.array(img).flatten(), return_inverse=True)\n",
        "        background = int(u[np.argmax(np.bincount(i))])\n",
        "        return img, background\n",
        "\n",
        "    if isinstance(img, str):\n",
        "        img, bg = imread(img)\n",
        "\n",
        "    if isinstance(img, tuple):\n",
        "        image, boundbox = img\n",
        "        img, bg = imread(image)\n",
        "\n",
        "        for i in range(len(boundbox)):\n",
        "            if isinstance(boundbox[i], float):\n",
        "                total = len(img) if i < 2 else len(img[0])\n",
        "                boundbox[i] = int(total * boundbox[i])\n",
        "            else:\n",
        "                boundbox[i] = int(boundbox[i])\n",
        "\n",
        "        img = np.asarray(img[boundbox[0]:boundbox[1], boundbox[2]:boundbox[3]], dtype=np.uint8)\n",
        "\n",
        "    wt, ht, _ = input_size\n",
        "    h, w = np.asarray(img).shape\n",
        "    f = max((w / wt), (h / ht))\n",
        "\n",
        "    new_size = (max(min(wt, int(w / f)), 1), max(min(ht, int(h / f)), 1))\n",
        "    \n",
        "    ### Only if you need ###\n",
        "    #_, img = cv2.threshold(img, 0, 255, cv2.THRESH_BINARY + cv2.THRESH_OTSU)\n",
        "\n",
        "    img = cv2.resize(img, new_size)\n",
        "\n",
        "    target = np.ones([ht, wt], dtype=np.uint8) * bg\n",
        "    target[0:new_size[1], 0:new_size[0]] = img\n",
        "    img = cv2.transpose(target)\n",
        "\n",
        "    return img\n",
        "\n"
      ]
    },
    {
      "cell_type": "markdown",
      "source": [
        "## Read raw dataset and prepare h5py(hdf5) file\n",
        "\n",
        "Read the raw dataset and fetch the ground truth text and image file to make h5py file\n",
        "\n",
        "Note : This step is only require if you want to read raw dataset and change to hdf5 file formats"
      ],
      "metadata": {
        "id": "MFDwARvWd3kT"
      }
    },
    {
      "cell_type": "code",
      "source": [
        "\"\"\"Dataset reader and process\"\"\"\n",
        "\n",
        "import os\n",
        "import html\n",
        "import h5py\n",
        "import string\n",
        "import random\n",
        "import numpy as np\n",
        "import multiprocessing\n",
        "import xml.etree.ElementTree as ET\n",
        "\n",
        "from glob import glob\n",
        "from tqdm import tqdm\n",
        "from functools import partial\n",
        "\n",
        "\n",
        "class Dataset():\n",
        "    \"\"\"Dataset class to read images and sentences from base (raw files)\"\"\"\n",
        "\n",
        "    def __init__(self, source, name):\n",
        "        self.source = source ## path to the dataset\n",
        "        self.name = name\n",
        "        self.dataset = None\n",
        "        self.partitions = ['train', 'valid', 'test']\n",
        "\n",
        "    def read_partitions(self):\n",
        "        \"\"\"Read images and sentences from dataset\"\"\"\n",
        "\n",
        "        dataset = getattr(self, f\"_{self.name}\")() ## the result is the _washington\n",
        "\n",
        "        \n",
        "        if not self.dataset:\n",
        "            self.dataset = self._init_dataset()\n",
        "\n",
        "        for y in self.partitions:\n",
        "            self.dataset[y]['dt'] += dataset[y]['dt']\n",
        "            self.dataset[y]['gt'] += dataset[y]['gt']\n",
        "        \n",
        "        \n",
        "\n",
        "    def save_partitions(self, target, image_input_size, max_text_length):\n",
        "        \"\"\"Save images and sentences from dataset\"\"\"\n",
        "\n",
        "        os.makedirs(os.path.dirname(target), exist_ok=True) ## check hdf5 or not\n",
        "        total = 0\n",
        "\n",
        "        with h5py.File(target, \"w\") as hf:\n",
        "            for pt in self.partitions:\n",
        "                self.dataset[pt] = self.check_text(self.dataset[pt], max_text_length) ## check the sentence length\n",
        "                size = (len(self.dataset[pt]['dt']),) + image_input_size[:2]\n",
        "                total += size[0]\n",
        "\n",
        "                dummy_image = np.zeros(size, dtype=np.uint8)\n",
        "                dummy_sentence = [(\"c\" * max_text_length).encode()] * size[0]\n",
        "\n",
        "                hf.create_dataset(f\"{pt}/dt\", data=dummy_image, compression=\"gzip\", compression_opts=9)\n",
        "                hf.create_dataset(f\"{pt}/gt\", data=dummy_sentence, compression=\"gzip\", compression_opts=9)\n",
        "\n",
        "        pbar = tqdm(total=total)\n",
        "        batch_size = 1024\n",
        "\n",
        "        for pt in self.partitions:\n",
        "            for batch in range(0, len(self.dataset[pt]['gt']), batch_size):\n",
        "                images = []\n",
        "\n",
        "                with multiprocessing.Pool(multiprocessing.cpu_count()) as pool:\n",
        "                    r = pool.map(partial(preprocess, input_size=image_input_size),\n",
        "                                 self.dataset[pt]['dt'][batch:batch + batch_size])\n",
        "                    images.append(r)\n",
        "                    pool.close()\n",
        "                    pool.join()\n",
        "\n",
        "                with h5py.File(target, \"a\") as hf:\n",
        "                    hf[f\"{pt}/dt\"][batch:batch + batch_size] = images\n",
        "                    hf[f\"{pt}/gt\"][batch:batch + batch_size] = [s.encode() for s in self.dataset[pt]\n",
        "                                                                ['gt'][batch:batch + batch_size]]\n",
        "                    pbar.update(batch_size)\n",
        "\n",
        "    def _init_dataset(self):\n",
        "        dataset = dict()\n",
        "        \n",
        "\n",
        "        for i in self.partitions:\n",
        "            dataset[i] = {\"dt\": [], \"gt\": []}\n",
        "\n",
        "        return dataset\n",
        "\n",
        "    def _shuffle(self, *ls):\n",
        "        random.seed(42)\n",
        "\n",
        "        if len(ls) == 1:\n",
        "            li = list(*ls)\n",
        "            random.shuffle(li)\n",
        "            return li\n",
        "\n",
        "        li = list(zip(*ls))\n",
        "        random.shuffle(li)\n",
        "        return zip(*li)\n",
        "\n",
        "\n",
        "\n",
        "    def _bentham(self):\n",
        "        \"\"\"Bentham dataset reader\"\"\"\n",
        "\n",
        "        source = os.path.join(self.source, \"BenthamDatasetR0-GT\")\n",
        "        pt_path = os.path.join(source, \"Partitions\")\n",
        "\n",
        "        paths = {\"train\": open(os.path.join(pt_path, \"TrainLines.lst\")).read().splitlines(),\n",
        "                 \"valid\": open(os.path.join(pt_path, \"ValidationLines.lst\")).read().splitlines(),\n",
        "                 \"test\": open(os.path.join(pt_path, \"TestLines.lst\")).read().splitlines()}\n",
        "\n",
        "        transcriptions = os.path.join(source, \"Transcriptions\")\n",
        "        gt = os.listdir(transcriptions)\n",
        "        gt_dict = dict()\n",
        "\n",
        "        for index, x in enumerate(gt):\n",
        "            text = \" \".join(open(os.path.join(transcriptions, x)).read().splitlines())\n",
        "            text = html.unescape(text).replace(\"<gap/>\", \"\")\n",
        "            gt_dict[os.path.splitext(x)[0]] = \" \".join(text.split())\n",
        "\n",
        "        img_path = os.path.join(source, \"Images\", \"Lines\")\n",
        "        dataset = self._init_dataset()\n",
        "\n",
        "        for i in self.partitions:\n",
        "            for line in paths[i]:\n",
        "                dataset[i]['dt'].append(os.path.join(img_path, f\"{line}.png\"))\n",
        "                dataset[i]['gt'].append(gt_dict[line])\n",
        "\n",
        "        return dataset\n",
        "\n",
        "    def _iam(self):\n",
        "        \"\"\"IAM dataset reader\"\"\"\n",
        "\n",
        "        pt_path = os.path.join(self.source, \"largeWriterIndependentTextLineRecognitionTask\")\n",
        "        paths = {\"train\": open(os.path.join(pt_path, \"trainset.txt\")).read().splitlines(),\n",
        "                 \"valid\": open(os.path.join(pt_path, \"validationset1.txt\")).read().splitlines() +\n",
        "                 open(os.path.join(pt_path, \"validationset2.txt\")).read().splitlines(),\n",
        "                 \"test\": open(os.path.join(pt_path, \"testset.txt\")).read().splitlines()}\n",
        "\n",
        "        lines = open(os.path.join(self.source, \"ascii\", \"lines.txt\")).read().splitlines()\n",
        "        dataset = self._init_dataset()\n",
        "        gt_dict = dict()\n",
        "\n",
        "        for line in lines:\n",
        "            if (not line or line[0] == \"#\"):\n",
        "                continue\n",
        "\n",
        "            split = line.split()\n",
        "            gt_dict[split[0]] = \" \".join(split[8::]).replace(\"|\", \" \")\n",
        "\n",
        "        for i in self.partitions:\n",
        "            for line in paths[i]:\n",
        "                try:\n",
        "                    split = line.split(\"-\")\n",
        "                    folder = f\"{split[0]}-{split[1]}\"\n",
        "\n",
        "                    img_file = f\"{split[0]}-{split[1]}-{split[2]}.png\"\n",
        "                    img_path = os.path.join(self.source, \"lines\", split[0], folder, img_file)\n",
        "\n",
        "                    dataset[i]['gt'].append(gt_dict[line])\n",
        "                    dataset[i]['dt'].append(img_path)\n",
        "                except KeyError:\n",
        "                    pass\n",
        "\n",
        "        return dataset\n",
        "\n",
        "    def _saintgall(self):\n",
        "        \"\"\"Saint Gall dataset reader\"\"\"\n",
        "\n",
        "        pt_path = os.path.join(self.source, \"sets\")\n",
        "\n",
        "        paths = {\"train\": open(os.path.join(pt_path, \"train.txt\")).read().splitlines(),\n",
        "                 \"valid\": open(os.path.join(pt_path, \"valid.txt\")).read().splitlines(),\n",
        "                 \"test\": open(os.path.join(pt_path, \"test.txt\")).read().splitlines()}\n",
        "\n",
        "        lines = open(os.path.join(self.source, \"ground_truth\", \"transcription.txt\")).read().splitlines()\n",
        "        gt_dict = dict()\n",
        "\n",
        "        for line in lines:\n",
        "            split = line.split()\n",
        "            split[1] = split[1].replace(\"-\", \"\").replace(\"|\", \" \")\n",
        "            gt_dict[split[0]] = split[1]\n",
        "\n",
        "        img_path = os.path.join(self.source, \"data\", \"line_images_normalized\")\n",
        "        dataset = self._init_dataset()\n",
        "\n",
        "        for i in self.partitions:\n",
        "            for line in paths[i]:\n",
        "                glob_filter = os.path.join(img_path, f\"{line}*\")\n",
        "                img_list = [x for x in glob(glob_filter, recursive=True)]\n",
        "\n",
        "                for line in img_list:\n",
        "                    line = os.path.splitext(os.path.basename(line))[0]\n",
        "                    dataset[i]['dt'].append(os.path.join(img_path, f\"{line}.png\"))\n",
        "                    dataset[i]['gt'].append(gt_dict[line])\n",
        "\n",
        "        return dataset\n",
        "\n",
        "    def _washington(self):\n",
        "        \"\"\"Washington dataset reader\"\"\"\n",
        "\n",
        "        pt_path = os.path.join(self.source, \"sets\", \"cv1\")\n",
        "\n",
        "        paths = {\"train\": open(os.path.join(pt_path, \"train.txt\")).read().splitlines(), ## 270-01\n",
        "                 \"valid\": open(os.path.join(pt_path, \"valid.txt\")).read().splitlines(),\n",
        "                 \"test\": open(os.path.join(pt_path, \"test.txt\")).read().splitlines()}\n",
        "\n",
        "        lines = open(os.path.join(self.source, \"ground_truth\", \"transcription.txt\")).read().splitlines()\n",
        "        gt_dict = dict()\n",
        "\n",
        "        for line in lines:\n",
        "            ## text processing\n",
        "            ## 270-12 O-c-t-o-b-e-r|s_2-s_6th-s_pt|s_GW\n",
        "            split = line.split()\n",
        "            split[1] = split[1].replace(\"-\", \"\").replace(\"|\", \" \")\n",
        "            split[1] = split[1].replace(\"s_pt\", \".\").replace(\"s_cm\", \",\")\n",
        "            split[1] = split[1].replace(\"s_mi\", \"-\").replace(\"s_qo\", \":\")\n",
        "            split[1] = split[1].replace(\"s_sq\", \";\").replace(\"s_et\", \"V\")\n",
        "            split[1] = split[1].replace(\"s_bl\", \"(\").replace(\"s_br\", \")\")\n",
        "            split[1] = split[1].replace(\"s_qt\", \"'\").replace(\"s_GW\", \"G.W.\")\n",
        "            split[1] = split[1].replace(\"s_\", \"\")\n",
        "            gt_dict[split[0]] = split[1]\n",
        "\n",
        "        img_path = os.path.join(self.source, \"data\", \"line_images_normalized\")\n",
        "        dataset = self._init_dataset()\n",
        "\n",
        "        for i in self.partitions:\n",
        "            for line in paths[i]:\n",
        "                dataset[i]['dt'].append(os.path.join(img_path, f\"{line}.png\"))\n",
        "                dataset[i]['gt'].append(gt_dict[line])\n",
        "\n",
        "        return dataset\n",
        "\n",
        "    @staticmethod\n",
        "    def check_text(data, max_text_length=128):\n",
        "        \"\"\"Checks if the text has more characters instead of punctuation marks\"\"\"\n",
        "\n",
        "        dt = {'gt': list(data['gt']), 'dt': list(data['dt'])}\n",
        "\n",
        "        for i in reversed(range(len(dt['gt']))):\n",
        "            text = text_standardize(dt['gt'][i])\n",
        "            strip_punc = text.strip(string.punctuation).strip()\n",
        "            no_punc = text.translate(str.maketrans(\"\", \"\", string.punctuation)).strip()\n",
        "\n",
        "            length_valid = (len(text) > 1) and (len(text) < max_text_length)\n",
        "            text_valid = (len(strip_punc) > 1) and (len(no_punc) > 1)\n",
        "\n",
        "            if (not length_valid) or (not text_valid): ## remove the sentence\n",
        "                dt['gt'].pop(i)\n",
        "                dt['dt'].pop(i)\n",
        "                continue\n",
        "\n",
        "        return dt\n"
      ],
      "metadata": {
        "id": "N5NrYGe_PFe4"
      },
      "execution_count": null,
      "outputs": []
    },
    {
      "cell_type": "markdown",
      "source": [
        "## Connecting google drive \n",
        "\n",
        "Connect the google drive and need to run once before runtime deletion\n",
        "\n",
        "Note: Select your file path from your google drive"
      ],
      "metadata": {
        "id": "bL4vrAMheLRu"
      }
    },
    {
      "cell_type": "code",
      "source": [
        "from google.colab import drive\n",
        "\n",
        "drive.mount(\"/content/drive\")\n",
        "\n",
        "%cd \"/content/drive/My Drive/Handwritten_Recognition/datasets_hdf5_format\""
      ],
      "metadata": {
        "colab": {
          "base_uri": "https://localhost:8080/"
        },
        "id": "QGmPbudgbaNB",
        "outputId": "e74f5081-7dc0-42ec-e8d7-39d99b6bb867"
      },
      "execution_count": 3,
      "outputs": [
        {
          "output_type": "stream",
          "name": "stdout",
          "text": [
            "Mounted at /content/drive\n",
            "/content/drive/My Drive/Handwritten_Recognition/datasets_hdf5_format\n"
          ]
        }
      ]
    },
    {
      "cell_type": "code",
      "source": [
        "ls -l"
      ],
      "metadata": {
        "colab": {
          "base_uri": "https://localhost:8080/"
        },
        "id": "TrImhU6rDMYx",
        "outputId": "73171201-71f7-41ea-d5e1-e8c0e149b911"
      },
      "execution_count": 4,
      "outputs": [
        {
          "output_type": "stream",
          "name": "stdout",
          "text": [
            "total 676082\n",
            "-rw------- 1 root root 460576219 Dec 31 14:04 bentham.hdf5\n",
            "-rw------- 1 root root 215855398 Dec 31 14:04 iam.hdf5\n",
            "-rw------- 1 root root  10278694 Dec 31 14:04 saintgall.hdf5\n",
            "-rw------- 1 root root   5596697 Dec 31 14:04 washington.hdf5\n"
          ]
        }
      ]
    },
    {
      "cell_type": "markdown",
      "source": [
        "## Get the image data and ground truth text from h5py file\n",
        "\n",
        "Read the .hdf5 file and get the information about the image data in numpy format and ground truth text"
      ],
      "metadata": {
        "id": "iiz-OfyFeV96"
      }
    },
    {
      "cell_type": "code",
      "source": [
        "## Dataset generator \n",
        "\n",
        "from itertools import groupby\n",
        "import h5py\n",
        "import numpy as np\n",
        "import unicodedata\n",
        "\n",
        "\n",
        "class DataGenerator():\n",
        "    \"\"\"Generator class with data streaming\"\"\"\n",
        "\n",
        "    def __init__(self, source, batch_size, charset, max_text_length, predict=False, stream=False):\n",
        "        self.tokenizer = Tokenizer(charset, max_text_length)\n",
        "        self.batch_size = batch_size\n",
        "\n",
        "        self.size = dict()\n",
        "        self.steps = dict()\n",
        "        self.index = dict()\n",
        "\n",
        "        if stream:\n",
        "            self.dataset = h5py.File(source, \"r\")\n",
        "\n",
        "            for pt in ['train', 'valid', 'test']:\n",
        "                self.size[pt] = self.dataset[pt]['gt'][:].shape[0]\n",
        "                self.steps[pt] = int(np.ceil(self.size[pt] / self.batch_size))\n",
        "        else:\n",
        "            self.dataset = dict()\n",
        "\n",
        "            with h5py.File(source, \"r\") as f:\n",
        "                for pt in ['train', 'valid', 'test']:\n",
        "                    self.dataset[pt] = dict()\n",
        "                    self.dataset[pt]['dt'] = np.array(f[pt]['dt'])\n",
        "                    self.dataset[pt]['gt'] = np.array(f[pt]['gt'])\n",
        "\n",
        "                    self.size[pt] = len(self.dataset[pt]['gt'])\n",
        "                    self.steps[pt] = int(np.ceil(self.size[pt] / self.batch_size))\n",
        "\n",
        "        self.stream = stream\n",
        "        self.arange = np.arange(len(self.dataset['train']['gt']))\n",
        "        np.random.seed(42)\n",
        "\n",
        "    def next_train_batch(self):\n",
        "        \"\"\"Get the next batch from train partition (yield)\"\"\"\n",
        "\n",
        "        self.index['train'] = 0\n",
        "\n",
        "        while True:\n",
        "            if self.index['train'] >= self.size['train']:\n",
        "                self.index['train'] = 0\n",
        "\n",
        "                if not self.stream:\n",
        "                    np.random.shuffle(self.arange)\n",
        "                    self.dataset['train']['dt'] = self.dataset['train']['dt'][self.arange]\n",
        "                    self.dataset['train']['gt'] = self.dataset['train']['gt'][self.arange]\n",
        "\n",
        "            index = self.index['train']\n",
        "            until = index + self.batch_size\n",
        "            self.index['train'] = until\n",
        "\n",
        "            x_train = self.dataset['train']['dt'][index:until]\n",
        "            x_train = augmentation(x_train,\n",
        "                                      rotation_range=1.5,\n",
        "                                      scale_range=0.05,\n",
        "                                      height_shift_range=0.025,\n",
        "                                      width_shift_range=0.05,\n",
        "                                      erode_range=5,\n",
        "                                      dilate_range=3)\n",
        "            x_train = normalization(x_train)\n",
        "\n",
        "            y_train = [self.tokenizer.encode(y) for y in self.dataset['train']['gt'][index:until]]\n",
        "            y_train = [np.pad(y, (0, self.tokenizer.maxlen - len(y))) for y in y_train]\n",
        "            y_train = np.asarray(y_train, dtype=np.int16)\n",
        "\n",
        "            yield (x_train, y_train)\n",
        "\n",
        "    def next_valid_batch(self):\n",
        "        \"\"\"Get the next batch from validation partition (yield)\"\"\"\n",
        "\n",
        "        self.index['valid'] = 0\n",
        "\n",
        "        while True:\n",
        "            if self.index['valid'] >= self.size['valid']:\n",
        "                self.index['valid'] = 0\n",
        "\n",
        "            index = self.index['valid']\n",
        "            until = index + self.batch_size\n",
        "            self.index['valid'] = until\n",
        "\n",
        "            x_valid = self.dataset['valid']['dt'][index:until]\n",
        "            x_valid = normalization(x_valid)\n",
        "\n",
        "            y_valid = [self.tokenizer.encode(y) for y in self.dataset['valid']['gt'][index:until]]\n",
        "            y_valid = [np.pad(y, (0, self.tokenizer.maxlen - len(y))) for y in y_valid]\n",
        "            y_valid = np.asarray(y_valid, dtype=np.int16)\n",
        "\n",
        "            yield (x_valid, y_valid)\n",
        "\n",
        "    def next_test_batch(self):\n",
        "        \"\"\"Return model predict parameters\"\"\"\n",
        "\n",
        "        self.index['test'] = 0\n",
        "\n",
        "        while True:\n",
        "            if self.index['test'] >= self.size['test']:\n",
        "                self.index['test'] = 0\n",
        "                break\n",
        "\n",
        "            index = self.index['test']\n",
        "            until = index + self.batch_size\n",
        "            self.index['test'] = until\n",
        "\n",
        "            x_test = self.dataset['test']['dt'][index:until]\n",
        "            x_test = normalization(x_test)\n",
        "\n",
        "            yield x_test\n",
        "\n",
        "\n",
        "class Tokenizer():\n",
        "    \"\"\"Manager tokens functions and charset/dictionary properties\"\"\"\n",
        "\n",
        "    def __init__(self, chars, max_text_length=128):\n",
        "        self.PAD_TK, self.UNK_TK = \"¶\", \"¤\"\n",
        "        self.chars = (self.PAD_TK + self.UNK_TK + chars)\n",
        "\n",
        "        self.PAD = self.chars.find(self.PAD_TK)\n",
        "        self.UNK = self.chars.find(self.UNK_TK)\n",
        "\n",
        "        self.vocab_size = len(self.chars)\n",
        "        self.maxlen = max_text_length\n",
        "\n",
        "    def encode(self, text):\n",
        "        \"\"\"Encode text to vector\"\"\"\n",
        "\n",
        "        if isinstance(text, bytes):\n",
        "            text = text.decode()\n",
        "\n",
        "        text = unicodedata.normalize(\"NFKD\", text).encode(\"ASCII\", \"ignore\").decode(\"ASCII\")\n",
        "        text = \" \".join(text.split())\n",
        "\n",
        "        groups = [\"\".join(group) for _, group in groupby(text)]\n",
        "        text = \"\".join([self.UNK_TK.join(list(x)) if len(x) > 1 else x for x in groups])\n",
        "        encoded = []\n",
        "\n",
        "        for item in text:\n",
        "            index = self.chars.find(item)\n",
        "            index = self.UNK if index == -1 else index\n",
        "            encoded.append(index)\n",
        "\n",
        "        return np.asarray(encoded)\n",
        "\n",
        "    def decode(self, text):\n",
        "        \"\"\"Decode vector to text\"\"\"\n",
        "\n",
        "        decoded = \"\".join([self.chars[int(x)] for x in text if x > -1])\n",
        "        decoded = self.remove_tokens(decoded)\n",
        "\n",
        "        return decoded\n",
        "\n",
        "    def remove_tokens(self, text):\n",
        "        \"\"\"Remove tokens (PAD) from text\"\"\"\n",
        "\n",
        "        return text.replace(self.PAD_TK, \"\").replace(self.UNK_TK, \"\")"
      ],
      "metadata": {
        "id": "D3tQApM0cEqj"
      },
      "execution_count": 5,
      "outputs": []
    },
    {
      "cell_type": "markdown",
      "source": [
        "## Neural Network building"
      ],
      "metadata": {
        "id": "06dhASM-elTS"
      }
    },
    {
      "cell_type": "code",
      "source": [
        "\"\"\"Model 1 - Handwritten Text Recognition Neural Network\"\"\"\n",
        "\n",
        "import os\n",
        "import logging\n",
        "\n",
        "try:\n",
        "    os.environ['TF_CPP_MIN_LOG_LEVEL'] = \"3\"\n",
        "    logging.disable(logging.WARNING)\n",
        "except AttributeError:\n",
        "    pass\n",
        "\n",
        "import numpy as np\n",
        "import tensorflow as tf\n",
        "\n",
        "from contextlib import redirect_stdout\n",
        "from tensorflow.keras import backend as K\n",
        "from tensorflow.keras import Model\n",
        "\n",
        "from tensorflow.keras.callbacks import CSVLogger, TensorBoard, ModelCheckpoint\n",
        "from tensorflow.keras.callbacks import EarlyStopping, ReduceLROnPlateau\n",
        "from tensorflow.keras.constraints import MaxNorm\n",
        "\n",
        "# from network.layers import FullGatedConv2D, GatedConv2D, OctConv2D\n",
        "from tensorflow.keras.layers import Conv2D, Bidirectional, LSTM, GRU, Dense\n",
        "from tensorflow.keras.layers import Dropout, BatchNormalization, LeakyReLU, PReLU\n",
        "from tensorflow.keras.layers import Input, Add, Activation, Lambda, MaxPooling2D, Reshape\n",
        "\n",
        "\n",
        "def puigcerver(input_size, d_model):\n",
        "    \"\"\"\n",
        "    Convolucional Recurrent Neural Network by Puigcerver et al.\n",
        "\n",
        "    Reference:\n",
        "        Joan Puigcerver.\n",
        "        Are multidimensional recurrent layers really necessary for handwritten text recognition?\n",
        "        In: Document Analysis and Recognition (ICDAR), 2017 14th\n",
        "        IAPR International Conference on, vol. 1, pp. 67–72. IEEE (2017)\n",
        "\n",
        "        Carlos Mocholí Calvo and Enrique Vidal Ruiz.\n",
        "        Development and experimentation of a deep learning system for convolutional and recurrent neural networks\n",
        "        Escola Tècnica Superior d’Enginyeria Informàtica, Universitat Politècnica de València, 2018\n",
        "    \"\"\"\n",
        "\n",
        "    input_data = Input(name=\"input\", shape=input_size)\n",
        "\n",
        "    cnn = Conv2D(filters=16, kernel_size=(3, 3), strides=(1, 1), padding=\"same\")(input_data)\n",
        "    cnn = BatchNormalization()(cnn)\n",
        "    cnn = LeakyReLU(alpha=0.01)(cnn)\n",
        "    cnn = MaxPooling2D(pool_size=(2, 2), strides=(2, 2), padding=\"valid\")(cnn)\n",
        "\n",
        "    cnn = Conv2D(filters=32, kernel_size=(3, 3), strides=(1, 1), padding=\"same\")(cnn)\n",
        "    cnn = BatchNormalization()(cnn)\n",
        "    cnn = LeakyReLU(alpha=0.01)(cnn)\n",
        "    cnn = MaxPooling2D(pool_size=(2, 2), strides=(2, 2), padding=\"valid\")(cnn)\n",
        "\n",
        "    cnn = Dropout(rate=0.2)(cnn)\n",
        "    cnn = Conv2D(filters=48, kernel_size=(3, 3), strides=(1, 1), padding=\"same\")(cnn)\n",
        "    cnn = BatchNormalization()(cnn)\n",
        "    cnn = LeakyReLU(alpha=0.01)(cnn)\n",
        "    cnn = MaxPooling2D(pool_size=(2, 2), strides=(2, 2), padding=\"valid\")(cnn)\n",
        "\n",
        "    cnn = Dropout(rate=0.2)(cnn)\n",
        "    cnn = Conv2D(filters=64, kernel_size=(3, 3), strides=(1, 1), padding=\"same\")(cnn)\n",
        "    cnn = BatchNormalization()(cnn)\n",
        "    cnn = LeakyReLU(alpha=0.01)(cnn)\n",
        "\n",
        "    cnn = Dropout(rate=0.2)(cnn)\n",
        "    cnn = Conv2D(filters=80, kernel_size=(3, 3), strides=(1, 1), padding=\"same\")(cnn)\n",
        "    cnn = BatchNormalization()(cnn)\n",
        "    cnn = LeakyReLU(alpha=0.01)(cnn)\n",
        "\n",
        "    shape = cnn.get_shape()\n",
        "    blstm = Reshape((shape[1], shape[2] * shape[3]))(cnn)\n",
        "\n",
        "    blstm = Bidirectional(LSTM(units=256, return_sequences=True, dropout=0.5))(blstm)\n",
        "    blstm = Bidirectional(LSTM(units=256, return_sequences=True, dropout=0.5))(blstm)\n",
        "    blstm = Bidirectional(LSTM(units=256, return_sequences=True, dropout=0.5))(blstm)\n",
        "    blstm = Bidirectional(LSTM(units=256, return_sequences=True, dropout=0.5))(blstm)\n",
        "    blstm = Bidirectional(LSTM(units=256, return_sequences=True, dropout=0.5))(blstm)\n",
        "\n",
        "    blstm = Dropout(rate=0.5)(blstm)\n",
        "    output_data = Dense(units=d_model, activation=\"softmax\")(blstm)\n",
        "\n",
        "    return (input_data, output_data)"
      ],
      "metadata": {
        "id": "o63caWqRcEv-"
      },
      "execution_count": 6,
      "outputs": []
    },
    {
      "cell_type": "code",
      "source": [
        "\n",
        "class HTRModel:\n",
        "\n",
        "    def __init__(self,\n",
        "                 architecture,\n",
        "                 input_size,\n",
        "                 vocab_size,\n",
        "                 greedy=False,\n",
        "                 beam_width=10,\n",
        "                 top_paths=1,\n",
        "                 stop_tolerance=20,\n",
        "                 reduce_tolerance=15,\n",
        "                 reduce_factor=0.1,\n",
        "                 reduce_cooldown=0):\n",
        "        \"\"\"\n",
        "        Initialization of a HTR Model.\n",
        "\n",
        "        :param\n",
        "            architecture: option of the architecture model to build and compile\n",
        "            greedy, beam_width, top_paths: Parameters of the CTC decoding\n",
        "            (see ctc decoding tensorflow for more details)\n",
        "        \"\"\"\n",
        "\n",
        "        self.architecture = globals()[architecture]\n",
        "        self.input_size = input_size\n",
        "        self.vocab_size = vocab_size\n",
        "\n",
        "        self.model = None\n",
        "        self.greedy = greedy\n",
        "        self.beam_width = beam_width\n",
        "        self.top_paths = max(1, top_paths)\n",
        "\n",
        "        self.stop_tolerance = stop_tolerance\n",
        "        self.reduce_tolerance = reduce_tolerance\n",
        "        self.reduce_factor = reduce_factor\n",
        "        self.reduce_cooldown = reduce_cooldown\n",
        "\n",
        "    def summary(self, output=None, target=None):\n",
        "        \"\"\"Show/Save model structure (summary)\"\"\"\n",
        "\n",
        "        self.model.summary()\n",
        "\n",
        "        if target is not None:\n",
        "            os.makedirs(output, exist_ok=True)\n",
        "\n",
        "            with open(os.path.join(output, target), \"w\") as f:\n",
        "                with redirect_stdout(f):\n",
        "                    self.model.summary()\n",
        "\n",
        "    def load_checkpoint(self, target):\n",
        "        \"\"\" Load a model with checkpoint file\"\"\"\n",
        "\n",
        "        if os.path.isfile(target):\n",
        "            if self.model is None:\n",
        "                self.compile()\n",
        "\n",
        "            self.model.load_weights(target)\n",
        "\n",
        "    def get_callbacks(self, logdir, checkpoint, monitor=\"val_loss\", verbose=0):\n",
        "        \"\"\"Setup the list of callbacks for the model\"\"\"\n",
        "\n",
        "        callbacks = [\n",
        "            CSVLogger(\n",
        "                filename=os.path.join(logdir, \"epochs.log\"),\n",
        "                separator=\";\",\n",
        "                append=True),\n",
        "            TensorBoard(\n",
        "                log_dir=logdir,\n",
        "                histogram_freq=10,\n",
        "                profile_batch=0,\n",
        "                write_graph=True,\n",
        "                write_images=False,\n",
        "                update_freq=\"epoch\"),\n",
        "            ModelCheckpoint(\n",
        "                filepath=checkpoint,\n",
        "                monitor=monitor,\n",
        "                save_best_only=True,\n",
        "                save_weights_only=True,\n",
        "                verbose=verbose),\n",
        "            EarlyStopping(\n",
        "                monitor=monitor,\n",
        "                min_delta=1e-8,\n",
        "                patience=self.stop_tolerance,\n",
        "                restore_best_weights=True,\n",
        "                verbose=verbose),\n",
        "            ReduceLROnPlateau(\n",
        "                monitor=monitor,\n",
        "                min_delta=1e-8,\n",
        "                factor=self.reduce_factor,\n",
        "                patience=self.reduce_tolerance,\n",
        "                cooldown=self.reduce_cooldown,\n",
        "                verbose=verbose)\n",
        "        ]\n",
        "\n",
        "        return callbacks\n",
        "\n",
        "    def compile(self, learning_rate=None, initial_step=0):\n",
        "        \"\"\"\n",
        "        Configures the HTR Model for training/predict.\n",
        "\n",
        "        :param optimizer: optimizer for training\n",
        "        \"\"\"\n",
        "\n",
        "        # define inputs, outputs and optimizer of the chosen architecture\n",
        "        inputs, outputs = self.architecture(self.input_size, self.vocab_size + 1)\n",
        "\n",
        "        if learning_rate is None:\n",
        "            learning_rate = CustomSchedule(d_model=self.vocab_size + 1, initial_step=initial_step)\n",
        "            self.learning_schedule = True\n",
        "        else:\n",
        "            self.learning_schedule = False\n",
        "\n",
        "        optimizer = tf.keras.optimizers.RMSprop(learning_rate=learning_rate)\n",
        "\n",
        "        # create and compile\n",
        "        self.model = Model(inputs=inputs, outputs=outputs)\n",
        "        self.model.compile(optimizer=optimizer, loss=self.ctc_loss_lambda_func)\n",
        "\n",
        "    def fit(self,\n",
        "            x=None,\n",
        "            y=None,\n",
        "            batch_size=None,\n",
        "            epochs=1,\n",
        "            verbose=1,\n",
        "            callbacks=None,\n",
        "            validation_split=0.0,\n",
        "            validation_data=None,\n",
        "            shuffle=True,\n",
        "            class_weight=None,\n",
        "            sample_weight=None,\n",
        "            initial_epoch=0,\n",
        "            steps_per_epoch=None,\n",
        "            validation_steps=None,\n",
        "            validation_freq=1,\n",
        "            max_queue_size=10,\n",
        "            workers=1,\n",
        "            use_multiprocessing=False,\n",
        "            **kwargs):\n",
        "        \"\"\"\n",
        "        Model training on data yielded (fit function has support to generator).\n",
        "        A fit() abstration function of TensorFlow 2.\n",
        "\n",
        "        Provide x parameter of the form: yielding (x, y, sample_weight).\n",
        "\n",
        "        :param: See tensorflow.keras.Model.fit()\n",
        "        :return: A history object\n",
        "        \"\"\"\n",
        "\n",
        "        # remove ReduceLROnPlateau (if exist) when use schedule learning rate\n",
        "        if callbacks and self.learning_schedule:\n",
        "            callbacks = [x for x in callbacks if not isinstance(x, ReduceLROnPlateau)]\n",
        "\n",
        "        out = self.model.fit(x=x, y=y, batch_size=batch_size, epochs=epochs, verbose=verbose,\n",
        "                             callbacks=callbacks, validation_split=validation_split,\n",
        "                             validation_data=validation_data, shuffle=shuffle,\n",
        "                             class_weight=class_weight, sample_weight=sample_weight,\n",
        "                             initial_epoch=initial_epoch, steps_per_epoch=steps_per_epoch,\n",
        "                             validation_steps=validation_steps, validation_freq=validation_freq,\n",
        "                             max_queue_size=max_queue_size, workers=workers,\n",
        "                             use_multiprocessing=use_multiprocessing, **kwargs)\n",
        "        return out\n",
        "\n",
        "    def predict(self,\n",
        "                x,\n",
        "                batch_size=None,\n",
        "                verbose=0,\n",
        "                steps=1,\n",
        "                callbacks=None,\n",
        "                max_queue_size=10,\n",
        "                workers=1,\n",
        "                use_multiprocessing=False,\n",
        "                ctc_decode=True):\n",
        "        \"\"\"\n",
        "        Model predicting on data yielded (predict function has support to generator).\n",
        "        A predict() abstration function of TensorFlow 2.\n",
        "\n",
        "        Provide x parameter of the form: yielding [x].\n",
        "\n",
        "        :param: See tensorflow.keras.Model.predict()\n",
        "        :return: raw data on `ctc_decode=False` or CTC decode on `ctc_decode=True` (both with probabilities)\n",
        "        \"\"\"\n",
        "\n",
        "        if verbose == 1:\n",
        "            print(\"Model Predict\")\n",
        "\n",
        "        out = self.model.predict(x=x, batch_size=batch_size, verbose=verbose, steps=steps,\n",
        "                                 callbacks=callbacks, max_queue_size=max_queue_size,\n",
        "                                 workers=workers, use_multiprocessing=use_multiprocessing)\n",
        "\n",
        "        if not ctc_decode:\n",
        "            return np.log(out.clip(min=1e-8)), []\n",
        "\n",
        "        steps_done = 0\n",
        "        if verbose == 1:\n",
        "            print(\"CTC Decode\")\n",
        "            progbar = tf.keras.utils.Progbar(target=steps)\n",
        "\n",
        "        batch_size = int(np.ceil(len(out) / steps))\n",
        "        input_length = len(max(out, key=len))\n",
        "\n",
        "        predicts, probabilities = [], []\n",
        "\n",
        "        while steps_done < steps:\n",
        "            index = steps_done * batch_size\n",
        "            until = index + batch_size\n",
        "\n",
        "            x_test = np.asarray(out[index:until])\n",
        "            x_test_len = np.asarray([input_length for _ in range(len(x_test))])\n",
        "\n",
        "            decode, log = K.ctc_decode(x_test,\n",
        "                                       x_test_len,\n",
        "                                       greedy=self.greedy,\n",
        "                                       beam_width=self.beam_width,\n",
        "                                       top_paths=self.top_paths)\n",
        "\n",
        "            probabilities.extend([np.exp(x) for x in log])\n",
        "            decode = [[[int(p) for p in x if p != -1] for x in y] for y in decode]\n",
        "            predicts.extend(np.swapaxes(decode, 0, 1))\n",
        "\n",
        "            steps_done += 1\n",
        "            if verbose == 1:\n",
        "                progbar.update(steps_done)\n",
        "\n",
        "        return (predicts, probabilities)\n",
        "\n",
        "    @staticmethod\n",
        "    def ctc_loss_lambda_func(y_true, y_pred):\n",
        "        \"\"\"Function for computing the CTC loss\"\"\"\n",
        "\n",
        "        if len(y_true.shape) > 2:\n",
        "            y_true = tf.squeeze(y_true)\n",
        "\n",
        "        # y_pred.shape = (batch_size, string_length, alphabet_size_1_hot_encoded)\n",
        "        # output of every model is softmax\n",
        "        # so sum across alphabet_size_1_hot_encoded give 1\n",
        "        #               string_length give string length\n",
        "        input_length = tf.math.reduce_sum(y_pred, axis=-1, keepdims=False)\n",
        "        input_length = tf.math.reduce_sum(input_length, axis=-1, keepdims=True)\n",
        "\n",
        "        # y_true strings are padded with 0\n",
        "        # so sum of non-zero gives number of characters in this string\n",
        "        label_length = tf.math.count_nonzero(y_true, axis=-1, keepdims=True, dtype=\"int64\")\n",
        "\n",
        "        loss = K.ctc_batch_cost(y_true, y_pred, input_length, label_length)\n",
        "\n",
        "        # average loss across all entries in the batch\n",
        "        loss = tf.reduce_mean(loss)\n",
        "\n",
        "        return loss"
      ],
      "metadata": {
        "id": "Mif_yFPKcEzF"
      },
      "execution_count": 7,
      "outputs": []
    },
    {
      "cell_type": "markdown",
      "source": [
        "## Metric code "
      ],
      "metadata": {
        "id": "mJcaRbhxct4p"
      }
    },
    {
      "cell_type": "code",
      "source": [
        "import string\n",
        "import unicodedata\n",
        "import editdistance\n",
        "import numpy as np\n",
        "\n",
        "\n",
        "def ocr_metrics(predicts, ground_truth, norm_accentuation=False, norm_punctuation=False):\n",
        "    \"\"\"Calculate Character Error Rate (CER), Word Error Rate (WER) and Sequence Error Rate (SER)\"\"\"\n",
        "\n",
        "    if len(predicts) == 0 or len(ground_truth) == 0:\n",
        "        return (1, 1, 1)\n",
        "\n",
        "    cer, wer, ser = [], [], []\n",
        "\n",
        "    for (pd, gt) in zip(predicts, ground_truth):\n",
        "        pd, gt = pd.lower(), gt.lower()\n",
        "\n",
        "        if norm_accentuation:\n",
        "            pd = unicodedata.normalize(\"NFKD\", pd).encode(\"ASCII\", \"ignore\").decode(\"ASCII\")\n",
        "            gt = unicodedata.normalize(\"NFKD\", gt).encode(\"ASCII\", \"ignore\").decode(\"ASCII\")\n",
        "\n",
        "        if norm_punctuation:\n",
        "            pd = pd.translate(str.maketrans(\"\", \"\", string.punctuation))\n",
        "            gt = gt.translate(str.maketrans(\"\", \"\", string.punctuation))\n",
        "\n",
        "        pd_cer, gt_cer = list(pd), list(gt)\n",
        "        dist = editdistance.eval(pd_cer, gt_cer)\n",
        "        cer.append(dist / (max(len(pd_cer), len(gt_cer))))\n",
        "\n",
        "        pd_wer, gt_wer = pd.split(), gt.split()\n",
        "        dist = editdistance.eval(pd_wer, gt_wer)\n",
        "        wer.append(dist / (max(len(pd_wer), len(gt_wer))))\n",
        "\n",
        "        pd_ser, gt_ser = [pd], [gt]\n",
        "        dist = editdistance.eval(pd_ser, gt_ser)\n",
        "        ser.append(dist / (max(len(pd_ser), len(gt_ser))))\n",
        "\n",
        "    metrics = [cer, wer, ser]\n",
        "    metrics = np.mean(metrics, axis=1)\n",
        "\n",
        "    return metrics\n"
      ],
      "metadata": {
        "id": "bP8H_bKZcE12"
      },
      "execution_count": 8,
      "outputs": []
    },
    {
      "cell_type": "markdown",
      "source": [
        "End of functions for dataset preparation."
      ],
      "metadata": {
        "id": "p1Qx_s5wcrTi"
      }
    },
    {
      "cell_type": "markdown",
      "source": [
        "Code For changing HDF File"
      ],
      "metadata": {
        "id": "TlLNcCfO7zy0"
      }
    },
    {
      "cell_type": "code",
      "source": [
        "'''\n",
        "source = \"washington\"\n",
        "raw_path = os.path.join(\"input_data\",  \"raw\", source)\n",
        "'''"
      ],
      "metadata": {
        "id": "qsR5XYKPPBHV"
      },
      "execution_count": null,
      "outputs": []
    },
    {
      "cell_type": "code",
      "source": [
        "'''\n",
        "ds = Dataset(source=raw_path, name=source)\n",
        "'''"
      ],
      "metadata": {
        "id": "8GdKo1TAPuMq"
      },
      "execution_count": null,
      "outputs": []
    },
    {
      "cell_type": "code",
      "source": [
        "'''\n",
        "print(f\"The source is {ds.source}\")\n",
        "print(f\"The name is {ds.name}\")\n",
        "print(f\"The datasetis {ds.dataset}\")\n",
        "print(f\"The partitions is {ds.partitions}\")\n",
        "'''"
      ],
      "metadata": {
        "colab": {
          "base_uri": "https://localhost:8080/"
        },
        "id": "I98haX7mQooV",
        "outputId": "c16590a7-f845-49dd-fdf2-561b5f4c93b0"
      },
      "execution_count": null,
      "outputs": [
        {
          "output_type": "stream",
          "name": "stdout",
          "text": [
            "The source is input_data/raw/washington\n",
            "The name is washington\n",
            "The datasetis None\n",
            "The partitions is ['train', 'valid', 'test']\n"
          ]
        }
      ]
    },
    {
      "cell_type": "code",
      "source": [
        "'''\n",
        "ds.read_partitions()\n",
        "'''"
      ],
      "metadata": {
        "id": "R-_HIg_4Qrgf"
      },
      "execution_count": null,
      "outputs": []
    },
    {
      "cell_type": "code",
      "source": [
        "'''\n",
        "source_path = os.path.join( \"data\", f\"{source}.hdf5\")\n",
        "input_size = (1024, 128, 1)\n",
        "max_text_length = 128\n",
        "'''"
      ],
      "metadata": {
        "id": "zjyI4yVQbTyP"
      },
      "execution_count": null,
      "outputs": []
    },
    {
      "cell_type": "code",
      "source": [
        "'''\n",
        "ds.save_partitions(source_path, input_size, max_text_length)\n",
        "'''"
      ],
      "metadata": {
        "colab": {
          "base_uri": "https://localhost:8080/"
        },
        "id": "yPpQQFdebIPt",
        "outputId": "59492c31-4016-43fa-e7b2-1d2a6880d8c3"
      },
      "execution_count": null,
      "outputs": [
        {
          "output_type": "stream",
          "name": "stderr",
          "text": [
            "3072it [02:43, 18.78it/s]\n"
          ]
        }
      ]
    },
    {
      "cell_type": "markdown",
      "source": [
        "# 1. Washington Dataset"
      ],
      "metadata": {
        "id": "gFtz95vZv_qF"
      }
    },
    {
      "cell_type": "markdown",
      "source": [
        "## 1.1 Dataset Preparation"
      ],
      "metadata": {
        "id": "hAyKrusT3mKc"
      }
    },
    {
      "cell_type": "markdown",
      "source": [
        "Training on Washington Dataset"
      ],
      "metadata": {
        "id": "hsjTmMd6c9AH"
      }
    },
    {
      "cell_type": "code",
      "source": [
        "import os\n",
        "import datetime\n",
        "import string\n",
        "\n",
        "# define parameters\n",
        "source = \"washigton\"\n",
        "epochs = 1000\n",
        "batch_size = 16\n",
        "\n",
        "# define paths\n",
        "source_path = os.path.join( \"data\", f\"{source}.hdf5\")\n",
        "output_path = os.path.join( \"output\", source, arch)\n",
        "target_path = os.path.join(output_path, \"checkpoint_weights.hdf5\")\n",
        "os.makedirs(output_path, exist_ok=True)\n",
        "\n",
        "# define input size, number max of chars per line and list of valid chars\n",
        "input_size = (1024, 128, 1)\n",
        "max_text_length = 128\n",
        "charset_base = string.printable[:95]\n",
        "\n",
        "print(\"source:\", source_path)\n",
        "print(\"output\", output_path)\n",
        "print(\"target\", target_path)\n",
        "print(\"charset:\", charset_base)"
      ],
      "metadata": {
        "colab": {
          "base_uri": "https://localhost:8080/"
        },
        "id": "-bsOB4D9corw",
        "outputId": "c89d2834-dca4-42cf-9792-2dc6bfa1a7ab"
      },
      "execution_count": 9,
      "outputs": [
        {
          "output_type": "stream",
          "name": "stdout",
          "text": [
            "source: data/washigton.hdf5\n",
            "output output/washigton/puigcerver\n",
            "target output/washigton/puigcerver/checkpoint_weights.hdf5\n",
            "charset: 0123456789abcdefghijklmnopqrstuvwxyzABCDEFGHIJKLMNOPQRSTUVWXYZ!\"#$%&'()*+,-./:;<=>?@[\\]^_`{|}~ \n"
          ]
        }
      ]
    },
    {
      "cell_type": "markdown",
      "source": [
        "The second class is **DataGenerator()**, responsible for:\n",
        "\n",
        "* Load the dataset partitions (train, valid, test);\n",
        "\n",
        "* Manager batchs for train/validation/test process."
      ],
      "metadata": {
        "id": "T34gEIrbduLP"
      }
    },
    {
      "cell_type": "markdown",
      "source": [
        "## 1.2 Dataset Generatior"
      ],
      "metadata": {
        "id": "4GfHOlTB3s18"
      }
    },
    {
      "cell_type": "code",
      "source": [
        "source_path = \"washington.hdf5\""
      ],
      "metadata": {
        "id": "FuR-RPRdeQDh"
      },
      "execution_count": 12,
      "outputs": []
    },
    {
      "cell_type": "code",
      "source": [
        "dtgen = DataGenerator(source=source_path,\n",
        "                      batch_size=batch_size,\n",
        "                      charset=charset_base,\n",
        "                      max_text_length=max_text_length)\n",
        "\n",
        "print(f\"Train images: {dtgen.size['train']}\")\n",
        "print(f\"Validation images: {dtgen.size['valid']}\")\n",
        "print(f\"Test images: {dtgen.size['test']}\")"
      ],
      "metadata": {
        "colab": {
          "base_uri": "https://localhost:8080/"
        },
        "id": "GGo3CdKEd6jD",
        "outputId": "6c192a25-9e6d-412d-d9f8-3ce7f48a39d6"
      },
      "execution_count": 13,
      "outputs": [
        {
          "output_type": "stream",
          "name": "stdout",
          "text": [
            "Train images: 325\n",
            "Validation images: 168\n",
            "Test images: 163\n"
          ]
        }
      ]
    },
    {
      "cell_type": "markdown",
      "source": [
        "## 1.3 Model Architecture"
      ],
      "metadata": {
        "id": "_DiNU9ble45F"
      }
    },
    {
      "cell_type": "code",
      "source": [
        "# create and compile HTRModel\n",
        "model = HTRModel(architecture=arch,\n",
        "                 input_size=input_size,\n",
        "                 vocab_size=dtgen.tokenizer.vocab_size,\n",
        "                 beam_width=10,\n",
        "                 stop_tolerance=20,\n",
        "                 reduce_tolerance=15,\n",
        "                 reduce_factor=0.1)\n",
        "\n",
        "model.compile(learning_rate=0.001)\n",
        "model.summary(output_path, \"summary.txt\")\n",
        "\n",
        "# get default callbacks and load checkpoint weights file (HDF5) if exists\n",
        "model.load_checkpoint(target=target_path)\n",
        "\n",
        "callbacks = model.get_callbacks(logdir=output_path, checkpoint=target_path, verbose=1)"
      ],
      "metadata": {
        "colab": {
          "base_uri": "https://localhost:8080/"
        },
        "id": "Fk2VcdVPfhwt",
        "outputId": "424878b0-4bc2-4ad2-e124-e2b7b883749f"
      },
      "execution_count": 14,
      "outputs": [
        {
          "output_type": "stream",
          "name": "stdout",
          "text": [
            "Model: \"model\"\n",
            "_________________________________________________________________\n",
            " Layer (type)                Output Shape              Param #   \n",
            "=================================================================\n",
            " input (InputLayer)          [(None, 1024, 128, 1)]    0         \n",
            "                                                                 \n",
            " conv2d (Conv2D)             (None, 1024, 128, 16)     160       \n",
            "                                                                 \n",
            " batch_normalization (BatchN  (None, 1024, 128, 16)    64        \n",
            " ormalization)                                                   \n",
            "                                                                 \n",
            " leaky_re_lu (LeakyReLU)     (None, 1024, 128, 16)     0         \n",
            "                                                                 \n",
            " max_pooling2d (MaxPooling2D  (None, 512, 64, 16)      0         \n",
            " )                                                               \n",
            "                                                                 \n",
            " conv2d_1 (Conv2D)           (None, 512, 64, 32)       4640      \n",
            "                                                                 \n",
            " batch_normalization_1 (Batc  (None, 512, 64, 32)      128       \n",
            " hNormalization)                                                 \n",
            "                                                                 \n",
            " leaky_re_lu_1 (LeakyReLU)   (None, 512, 64, 32)       0         \n",
            "                                                                 \n",
            " max_pooling2d_1 (MaxPooling  (None, 256, 32, 32)      0         \n",
            " 2D)                                                             \n",
            "                                                                 \n",
            " dropout (Dropout)           (None, 256, 32, 32)       0         \n",
            "                                                                 \n",
            " conv2d_2 (Conv2D)           (None, 256, 32, 48)       13872     \n",
            "                                                                 \n",
            " batch_normalization_2 (Batc  (None, 256, 32, 48)      192       \n",
            " hNormalization)                                                 \n",
            "                                                                 \n",
            " leaky_re_lu_2 (LeakyReLU)   (None, 256, 32, 48)       0         \n",
            "                                                                 \n",
            " max_pooling2d_2 (MaxPooling  (None, 128, 16, 48)      0         \n",
            " 2D)                                                             \n",
            "                                                                 \n",
            " dropout_1 (Dropout)         (None, 128, 16, 48)       0         \n",
            "                                                                 \n",
            " conv2d_3 (Conv2D)           (None, 128, 16, 64)       27712     \n",
            "                                                                 \n",
            " batch_normalization_3 (Batc  (None, 128, 16, 64)      256       \n",
            " hNormalization)                                                 \n",
            "                                                                 \n",
            " leaky_re_lu_3 (LeakyReLU)   (None, 128, 16, 64)       0         \n",
            "                                                                 \n",
            " dropout_2 (Dropout)         (None, 128, 16, 64)       0         \n",
            "                                                                 \n",
            " conv2d_4 (Conv2D)           (None, 128, 16, 80)       46160     \n",
            "                                                                 \n",
            " batch_normalization_4 (Batc  (None, 128, 16, 80)      320       \n",
            " hNormalization)                                                 \n",
            "                                                                 \n",
            " leaky_re_lu_4 (LeakyReLU)   (None, 128, 16, 80)       0         \n",
            "                                                                 \n",
            " reshape (Reshape)           (None, 128, 1280)         0         \n",
            "                                                                 \n",
            " bidirectional (Bidirectiona  (None, 128, 512)         3147776   \n",
            " l)                                                              \n",
            "                                                                 \n",
            " bidirectional_1 (Bidirectio  (None, 128, 512)         1574912   \n",
            " nal)                                                            \n",
            "                                                                 \n",
            " bidirectional_2 (Bidirectio  (None, 128, 512)         1574912   \n",
            " nal)                                                            \n",
            "                                                                 \n",
            " bidirectional_3 (Bidirectio  (None, 128, 512)         1574912   \n",
            " nal)                                                            \n",
            "                                                                 \n",
            " bidirectional_4 (Bidirectio  (None, 128, 512)         1574912   \n",
            " nal)                                                            \n",
            "                                                                 \n",
            " dropout_3 (Dropout)         (None, 128, 512)          0         \n",
            "                                                                 \n",
            " dense (Dense)               (None, 128, 98)           50274     \n",
            "                                                                 \n",
            "=================================================================\n",
            "Total params: 9,591,202\n",
            "Trainable params: 9,590,722\n",
            "Non-trainable params: 480\n",
            "_________________________________________________________________\n"
          ]
        }
      ]
    },
    {
      "cell_type": "markdown",
      "source": [
        "## 1.4 Training\n",
        "\n",
        "The training process is similar to the *fit()* of the Keras. After training, the information (epochs and minimum loss) is save."
      ],
      "metadata": {
        "id": "bJhe1dNHgYuj"
      }
    },
    {
      "cell_type": "code",
      "source": [
        "output_path"
      ],
      "metadata": {
        "colab": {
          "base_uri": "https://localhost:8080/",
          "height": 37
        },
        "id": "2c4JBNh10Bss",
        "outputId": "1207ad42-a661-400a-e0e8-e459030d2d86"
      },
      "execution_count": 15,
      "outputs": [
        {
          "output_type": "execute_result",
          "data": {
            "text/plain": [
              "'output/washigton/puigcerver'"
            ],
            "application/vnd.google.colaboratory.intrinsic+json": {
              "type": "string"
            }
          },
          "metadata": {},
          "execution_count": 15
        }
      ]
    },
    {
      "cell_type": "code",
      "source": [
        "# to calculate total and average time per epoch\n",
        "start_time = datetime.datetime.now()\n",
        "\n",
        "h = model.fit(x=dtgen.next_train_batch(),\n",
        "              epochs=epochs,\n",
        "              steps_per_epoch=dtgen.steps['train'],\n",
        "              validation_data=dtgen.next_valid_batch(),\n",
        "              validation_steps=dtgen.steps['valid'],\n",
        "              callbacks=callbacks,\n",
        "              shuffle=True,\n",
        "              verbose=1)\n",
        "\n",
        "total_time = datetime.datetime.now() - start_time\n",
        "\n",
        "loss = h.history['loss']\n",
        "val_loss = h.history['val_loss']\n",
        "\n",
        "min_val_loss = min(val_loss)\n",
        "min_val_loss_i = val_loss.index(min_val_loss)\n",
        "\n",
        "time_epoch = (total_time / len(loss))\n",
        "total_item = (dtgen.size['train'] + dtgen.size['valid'])\n",
        "\n",
        "t_corpus = \"\\n\".join([\n",
        "    f\"Total train images:      {dtgen.size['train']}\",\n",
        "    f\"Total validation images: {dtgen.size['valid']}\",\n",
        "    f\"Batch:                   {dtgen.batch_size}\\n\",\n",
        "    f\"Total time:              {total_time}\",\n",
        "    f\"Time per epoch:          {time_epoch}\",\n",
        "    f\"Time per item:           {time_epoch / total_item}\\n\",\n",
        "    f\"Total epochs:            {len(loss)}\",\n",
        "    f\"Best epoch               {min_val_loss_i + 1}\\n\",\n",
        "    f\"Training loss:           {loss[min_val_loss_i]:.8f}\",\n",
        "    f\"Validation loss:         {min_val_loss:.8f}\"\n",
        "])\n",
        "\n",
        "with open(os.path.join(output_path, \"train.txt\"), \"w\") as lg:\n",
        "    lg.write(t_corpus)\n",
        "    print(t_corpus)"
      ],
      "metadata": {
        "id": "ls5nZh6BfwXD",
        "colab": {
          "base_uri": "https://localhost:8080/"
        },
        "outputId": "86475196-e2ea-439b-a8c6-d743fc3abc3a"
      },
      "execution_count": null,
      "outputs": [
        {
          "output_type": "stream",
          "name": "stdout",
          "text": [
            "Epoch 1/1000\n",
            "21/21 [==============================] - ETA: 0s - loss: 235.4751\n",
            "Epoch 1: val_loss improved from inf to 213.94612, saving model to output/washigton/puigcerver/checkpoint_weights.hdf5\n",
            "21/21 [==============================] - 37s 519ms/step - loss: 235.4751 - val_loss: 213.9461 - lr: 0.0010\n",
            "Epoch 2/1000\n",
            "21/21 [==============================] - ETA: 0s - loss: 205.6475\n",
            "Epoch 2: val_loss improved from 213.94612 to 182.44778, saving model to output/washigton/puigcerver/checkpoint_weights.hdf5\n",
            "21/21 [==============================] - 5s 233ms/step - loss: 205.6475 - val_loss: 182.4478 - lr: 0.0010\n",
            "Epoch 3/1000\n",
            "21/21 [==============================] - ETA: 0s - loss: 184.4700\n",
            "Epoch 3: val_loss improved from 182.44778 to 140.79402, saving model to output/washigton/puigcerver/checkpoint_weights.hdf5\n",
            "21/21 [==============================] - 4s 206ms/step - loss: 184.4700 - val_loss: 140.7940 - lr: 0.0010\n",
            "Epoch 4/1000\n",
            "21/21 [==============================] - ETA: 0s - loss: 137.9957\n",
            "Epoch 4: val_loss did not improve from 140.79402\n",
            "21/21 [==============================] - 4s 196ms/step - loss: 137.9957 - val_loss: 174.7276 - lr: 0.0010\n",
            "Epoch 5/1000\n",
            "21/21 [==============================] - ETA: 0s - loss: 136.6538\n",
            "Epoch 5: val_loss did not improve from 140.79402\n",
            "21/21 [==============================] - 5s 219ms/step - loss: 136.6538 - val_loss: 193.5016 - lr: 0.0010\n",
            "Epoch 6/1000\n",
            "21/21 [==============================] - ETA: 0s - loss: 134.4588\n",
            "Epoch 6: val_loss did not improve from 140.79402\n",
            "21/21 [==============================] - 5s 228ms/step - loss: 134.4588 - val_loss: 188.7034 - lr: 0.0010\n",
            "Epoch 7/1000\n",
            "21/21 [==============================] - ETA: 0s - loss: 134.5687\n",
            "Epoch 7: val_loss did not improve from 140.79402\n",
            "21/21 [==============================] - 4s 194ms/step - loss: 134.5687 - val_loss: 143.6412 - lr: 0.0010\n",
            "Epoch 8/1000\n",
            "21/21 [==============================] - ETA: 0s - loss: 133.8606\n",
            "Epoch 8: val_loss improved from 140.79402 to 136.69131, saving model to output/washigton/puigcerver/checkpoint_weights.hdf5\n",
            "21/21 [==============================] - 5s 238ms/step - loss: 133.8606 - val_loss: 136.6913 - lr: 0.0010\n",
            "Epoch 9/1000\n",
            "21/21 [==============================] - ETA: 0s - loss: 133.8291\n",
            "Epoch 9: val_loss improved from 136.69131 to 136.61743, saving model to output/washigton/puigcerver/checkpoint_weights.hdf5\n",
            "21/21 [==============================] - 5s 230ms/step - loss: 133.8291 - val_loss: 136.6174 - lr: 0.0010\n",
            "Epoch 10/1000\n",
            "21/21 [==============================] - ETA: 0s - loss: 133.3843\n",
            "Epoch 10: val_loss did not improve from 136.61743\n",
            "21/21 [==============================] - 4s 196ms/step - loss: 133.3843 - val_loss: 136.8507 - lr: 0.0010\n",
            "Epoch 11/1000\n",
            "21/21 [==============================] - ETA: 0s - loss: 132.6468\n",
            "Epoch 11: val_loss did not improve from 136.61743\n",
            "21/21 [==============================] - 6s 277ms/step - loss: 132.6468 - val_loss: 141.8044 - lr: 0.0010\n",
            "Epoch 12/1000\n",
            "21/21 [==============================] - ETA: 0s - loss: 132.4875\n",
            "Epoch 12: val_loss did not improve from 136.61743\n",
            "21/21 [==============================] - 4s 197ms/step - loss: 132.4875 - val_loss: 137.6581 - lr: 0.0010\n",
            "Epoch 13/1000\n",
            "21/21 [==============================] - ETA: 0s - loss: 132.2211\n",
            "Epoch 13: val_loss improved from 136.61743 to 136.52118, saving model to output/washigton/puigcerver/checkpoint_weights.hdf5\n",
            "21/21 [==============================] - 5s 257ms/step - loss: 132.2211 - val_loss: 136.5212 - lr: 0.0010\n",
            "Epoch 14/1000\n",
            "21/21 [==============================] - ETA: 0s - loss: 131.8530\n",
            "Epoch 14: val_loss improved from 136.52118 to 135.95720, saving model to output/washigton/puigcerver/checkpoint_weights.hdf5\n",
            "21/21 [==============================] - 5s 265ms/step - loss: 131.8530 - val_loss: 135.9572 - lr: 0.0010\n",
            "Epoch 15/1000\n",
            "21/21 [==============================] - ETA: 0s - loss: 131.5282\n",
            "Epoch 15: val_loss did not improve from 135.95720\n",
            "21/21 [==============================] - 4s 200ms/step - loss: 131.5282 - val_loss: 138.2690 - lr: 0.0010\n",
            "Epoch 16/1000\n",
            "21/21 [==============================] - ETA: 0s - loss: 131.6292\n",
            "Epoch 16: val_loss improved from 135.95720 to 135.04738, saving model to output/washigton/puigcerver/checkpoint_weights.hdf5\n",
            "21/21 [==============================] - 4s 212ms/step - loss: 131.6292 - val_loss: 135.0474 - lr: 0.0010\n",
            "Epoch 17/1000\n",
            "21/21 [==============================] - ETA: 0s - loss: 131.3435\n",
            "Epoch 17: val_loss did not improve from 135.04738\n",
            "21/21 [==============================] - 4s 196ms/step - loss: 131.3435 - val_loss: 135.8885 - lr: 0.0010\n",
            "Epoch 18/1000\n",
            "21/21 [==============================] - ETA: 0s - loss: 130.9653\n",
            "Epoch 18: val_loss did not improve from 135.04738\n",
            "21/21 [==============================] - 4s 197ms/step - loss: 130.9653 - val_loss: 136.3659 - lr: 0.0010\n",
            "Epoch 19/1000\n",
            "21/21 [==============================] - ETA: 0s - loss: 130.7468\n",
            "Epoch 19: val_loss did not improve from 135.04738\n",
            "21/21 [==============================] - 5s 227ms/step - loss: 130.7468 - val_loss: 135.1763 - lr: 0.0010\n",
            "Epoch 20/1000\n",
            "21/21 [==============================] - ETA: 0s - loss: 130.9346\n",
            "Epoch 20: val_loss improved from 135.04738 to 134.59465, saving model to output/washigton/puigcerver/checkpoint_weights.hdf5\n",
            "21/21 [==============================] - 5s 234ms/step - loss: 130.9346 - val_loss: 134.5947 - lr: 0.0010\n",
            "Epoch 21/1000\n",
            "21/21 [==============================] - ETA: 0s - loss: 130.1153\n",
            "Epoch 21: val_loss improved from 134.59465 to 134.26375, saving model to output/washigton/puigcerver/checkpoint_weights.hdf5\n",
            "21/21 [==============================] - 6s 282ms/step - loss: 130.1153 - val_loss: 134.2637 - lr: 0.0010\n",
            "Epoch 22/1000\n",
            "21/21 [==============================] - ETA: 0s - loss: 128.2284\n",
            "Epoch 22: val_loss improved from 134.26375 to 129.21310, saving model to output/washigton/puigcerver/checkpoint_weights.hdf5\n",
            "21/21 [==============================] - 4s 208ms/step - loss: 128.2284 - val_loss: 129.2131 - lr: 0.0010\n",
            "Epoch 23/1000\n",
            "21/21 [==============================] - ETA: 0s - loss: 121.2911\n",
            "Epoch 23: val_loss improved from 129.21310 to 121.71866, saving model to output/washigton/puigcerver/checkpoint_weights.hdf5\n",
            "21/21 [==============================] - 4s 208ms/step - loss: 121.2911 - val_loss: 121.7187 - lr: 0.0010\n",
            "Epoch 24/1000\n",
            "21/21 [==============================] - ETA: 0s - loss: 114.6676\n",
            "Epoch 24: val_loss improved from 121.71866 to 115.30743, saving model to output/washigton/puigcerver/checkpoint_weights.hdf5\n",
            "21/21 [==============================] - 5s 232ms/step - loss: 114.6676 - val_loss: 115.3074 - lr: 0.0010\n",
            "Epoch 25/1000\n",
            "21/21 [==============================] - ETA: 0s - loss: 110.6561\n",
            "Epoch 25: val_loss improved from 115.30743 to 109.38874, saving model to output/washigton/puigcerver/checkpoint_weights.hdf5\n",
            "21/21 [==============================] - 5s 233ms/step - loss: 110.6561 - val_loss: 109.3887 - lr: 0.0010\n",
            "Epoch 26/1000\n",
            "21/21 [==============================] - ETA: 0s - loss: 106.3860\n",
            "Epoch 26: val_loss did not improve from 109.38874\n",
            "21/21 [==============================] - 5s 221ms/step - loss: 106.3860 - val_loss: 113.2248 - lr: 0.0010\n",
            "Epoch 27/1000\n",
            "21/21 [==============================] - ETA: 0s - loss: 103.3888\n",
            "Epoch 27: val_loss did not improve from 109.38874\n",
            "21/21 [==============================] - 4s 203ms/step - loss: 103.3888 - val_loss: 114.9580 - lr: 0.0010\n",
            "Epoch 28/1000\n",
            "21/21 [==============================] - ETA: 0s - loss: 100.6367\n",
            "Epoch 28: val_loss improved from 109.38874 to 100.39838, saving model to output/washigton/puigcerver/checkpoint_weights.hdf5\n",
            "21/21 [==============================] - 5s 266ms/step - loss: 100.6367 - val_loss: 100.3984 - lr: 0.0010\n",
            "Epoch 29/1000\n",
            "21/21 [==============================] - ETA: 0s - loss: 97.3913\n",
            "Epoch 29: val_loss improved from 100.39838 to 100.00812, saving model to output/washigton/puigcerver/checkpoint_weights.hdf5\n",
            "21/21 [==============================] - 4s 210ms/step - loss: 97.3913 - val_loss: 100.0081 - lr: 0.0010\n",
            "Epoch 30/1000\n",
            "21/21 [==============================] - ETA: 0s - loss: 94.5528\n",
            "Epoch 30: val_loss did not improve from 100.00812\n",
            "21/21 [==============================] - 4s 199ms/step - loss: 94.5528 - val_loss: 102.6638 - lr: 0.0010\n",
            "Epoch 31/1000\n",
            "21/21 [==============================] - ETA: 0s - loss: 91.9218\n",
            "Epoch 31: val_loss improved from 100.00812 to 95.18455, saving model to output/washigton/puigcerver/checkpoint_weights.hdf5\n",
            "21/21 [==============================] - 8s 392ms/step - loss: 91.9218 - val_loss: 95.1845 - lr: 0.0010\n",
            "Epoch 32/1000\n",
            "21/21 [==============================] - ETA: 0s - loss: 89.7828\n",
            "Epoch 32: val_loss improved from 95.18455 to 93.43434, saving model to output/washigton/puigcerver/checkpoint_weights.hdf5\n",
            "21/21 [==============================] - 4s 211ms/step - loss: 89.7828 - val_loss: 93.4343 - lr: 0.0010\n",
            "Epoch 33/1000\n",
            "21/21 [==============================] - ETA: 0s - loss: 86.6906\n",
            "Epoch 33: val_loss did not improve from 93.43434\n",
            "21/21 [==============================] - 5s 223ms/step - loss: 86.6906 - val_loss: 95.4760 - lr: 0.0010\n",
            "Epoch 34/1000\n",
            "21/21 [==============================] - ETA: 0s - loss: 84.7878\n",
            "Epoch 34: val_loss did not improve from 93.43434\n",
            "21/21 [==============================] - 4s 200ms/step - loss: 84.7878 - val_loss: 96.8551 - lr: 0.0010\n",
            "Epoch 35/1000\n",
            "21/21 [==============================] - ETA: 0s - loss: 81.2341\n",
            "Epoch 35: val_loss improved from 93.43434 to 93.39076, saving model to output/washigton/puigcerver/checkpoint_weights.hdf5\n",
            "21/21 [==============================] - 5s 241ms/step - loss: 81.2341 - val_loss: 93.3908 - lr: 0.0010\n",
            "Epoch 36/1000\n",
            "21/21 [==============================] - ETA: 0s - loss: 78.6066\n",
            "Epoch 36: val_loss did not improve from 93.39076\n",
            "21/21 [==============================] - 4s 199ms/step - loss: 78.6066 - val_loss: 94.1108 - lr: 0.0010\n",
            "Epoch 37/1000\n",
            "21/21 [==============================] - ETA: 0s - loss: 77.3080\n",
            "Epoch 37: val_loss improved from 93.39076 to 88.92682, saving model to output/washigton/puigcerver/checkpoint_weights.hdf5\n",
            "21/21 [==============================] - 4s 210ms/step - loss: 77.3080 - val_loss: 88.9268 - lr: 0.0010\n",
            "Epoch 38/1000\n",
            "21/21 [==============================] - ETA: 0s - loss: 72.8207\n",
            "Epoch 38: val_loss improved from 88.92682 to 85.74878, saving model to output/washigton/puigcerver/checkpoint_weights.hdf5\n",
            "21/21 [==============================] - 4s 210ms/step - loss: 72.8207 - val_loss: 85.7488 - lr: 0.0010\n",
            "Epoch 39/1000\n",
            "21/21 [==============================] - ETA: 0s - loss: 71.3882\n",
            "Epoch 39: val_loss improved from 85.74878 to 78.43319, saving model to output/washigton/puigcerver/checkpoint_weights.hdf5\n",
            "21/21 [==============================] - 5s 233ms/step - loss: 71.3882 - val_loss: 78.4332 - lr: 0.0010\n",
            "Epoch 40/1000\n",
            "21/21 [==============================] - ETA: 0s - loss: 69.1619\n",
            "Epoch 40: val_loss improved from 78.43319 to 75.31285, saving model to output/washigton/puigcerver/checkpoint_weights.hdf5\n",
            "21/21 [==============================] - 4s 212ms/step - loss: 69.1619 - val_loss: 75.3129 - lr: 0.0010\n",
            "Epoch 41/1000\n",
            "21/21 [==============================] - ETA: 0s - loss: 68.3722\n",
            "Epoch 41: val_loss did not improve from 75.31285\n",
            "21/21 [==============================] - 6s 275ms/step - loss: 68.3722 - val_loss: 84.2709 - lr: 0.0010\n",
            "Epoch 42/1000\n",
            "21/21 [==============================] - ETA: 0s - loss: 65.3985\n",
            "Epoch 42: val_loss did not improve from 75.31285\n",
            "21/21 [==============================] - 4s 203ms/step - loss: 65.3985 - val_loss: 116.3909 - lr: 0.0010\n",
            "Epoch 43/1000\n",
            "21/21 [==============================] - ETA: 0s - loss: 65.0122\n",
            "Epoch 43: val_loss improved from 75.31285 to 71.06713, saving model to output/washigton/puigcerver/checkpoint_weights.hdf5\n",
            "21/21 [==============================] - 5s 237ms/step - loss: 65.0122 - val_loss: 71.0671 - lr: 0.0010\n",
            "Epoch 44/1000\n",
            "21/21 [==============================] - ETA: 0s - loss: 61.3558\n",
            "Epoch 44: val_loss did not improve from 71.06713\n",
            "21/21 [==============================] - 4s 198ms/step - loss: 61.3558 - val_loss: 75.6999 - lr: 0.0010\n",
            "Epoch 45/1000\n",
            "21/21 [==============================] - ETA: 0s - loss: 60.0008\n",
            "Epoch 45: val_loss did not improve from 71.06713\n",
            "21/21 [==============================] - 4s 203ms/step - loss: 60.0008 - val_loss: 88.7395 - lr: 0.0010\n",
            "Epoch 46/1000\n",
            "21/21 [==============================] - ETA: 0s - loss: 58.5955\n",
            "Epoch 46: val_loss did not improve from 71.06713\n",
            "21/21 [==============================] - 5s 223ms/step - loss: 58.5955 - val_loss: 89.2428 - lr: 0.0010\n",
            "Epoch 47/1000\n",
            "21/21 [==============================] - ETA: 0s - loss: 56.7681\n",
            "Epoch 47: val_loss improved from 71.06713 to 70.44873, saving model to output/washigton/puigcerver/checkpoint_weights.hdf5\n",
            "21/21 [==============================] - 5s 231ms/step - loss: 56.7681 - val_loss: 70.4487 - lr: 0.0010\n",
            "Epoch 48/1000\n",
            "21/21 [==============================] - ETA: 0s - loss: 55.2131\n",
            "Epoch 48: val_loss did not improve from 70.44873\n",
            "21/21 [==============================] - 5s 220ms/step - loss: 55.2131 - val_loss: 73.3646 - lr: 0.0010\n",
            "Epoch 49/1000\n",
            "21/21 [==============================] - ETA: 0s - loss: 53.1754\n",
            "Epoch 49: val_loss did not improve from 70.44873\n",
            "21/21 [==============================] - 4s 199ms/step - loss: 53.1754 - val_loss: 77.3429 - lr: 0.0010\n",
            "Epoch 50/1000\n",
            "21/21 [==============================] - ETA: 0s - loss: 51.5253\n",
            "Epoch 50: val_loss improved from 70.44873 to 68.26782, saving model to output/washigton/puigcerver/checkpoint_weights.hdf5\n",
            "21/21 [==============================] - 5s 263ms/step - loss: 51.5253 - val_loss: 68.2678 - lr: 0.0010\n",
            "Epoch 51/1000\n",
            "21/21 [==============================] - ETA: 0s - loss: 50.4110\n",
            "Epoch 51: val_loss improved from 68.26782 to 67.62614, saving model to output/washigton/puigcerver/checkpoint_weights.hdf5\n",
            "21/21 [==============================] - 6s 310ms/step - loss: 50.4110 - val_loss: 67.6261 - lr: 0.0010\n",
            "Epoch 52/1000\n",
            "21/21 [==============================] - ETA: 0s - loss: 48.8546\n",
            "Epoch 52: val_loss did not improve from 67.62614\n",
            "21/21 [==============================] - 5s 223ms/step - loss: 48.8546 - val_loss: 68.3780 - lr: 0.0010\n",
            "Epoch 53/1000\n",
            "21/21 [==============================] - ETA: 0s - loss: 46.8478\n",
            "Epoch 53: val_loss did not improve from 67.62614\n",
            "21/21 [==============================] - 5s 221ms/step - loss: 46.8478 - val_loss: 68.4496 - lr: 0.0010\n",
            "Epoch 54/1000\n",
            "21/21 [==============================] - ETA: 0s - loss: 46.5976\n",
            "Epoch 54: val_loss did not improve from 67.62614\n",
            "21/21 [==============================] - 5s 238ms/step - loss: 46.5976 - val_loss: 77.1713 - lr: 0.0010\n",
            "Epoch 55/1000\n",
            "21/21 [==============================] - ETA: 0s - loss: 43.8832\n",
            "Epoch 55: val_loss did not improve from 67.62614\n",
            "21/21 [==============================] - 5s 216ms/step - loss: 43.8832 - val_loss: 84.3780 - lr: 0.0010\n",
            "Epoch 56/1000\n",
            "21/21 [==============================] - ETA: 0s - loss: 43.2031\n",
            "Epoch 56: val_loss did not improve from 67.62614\n",
            "21/21 [==============================] - 4s 199ms/step - loss: 43.2031 - val_loss: 69.5013 - lr: 0.0010\n",
            "Epoch 57/1000\n",
            "21/21 [==============================] - ETA: 0s - loss: 40.4985\n",
            "Epoch 57: val_loss improved from 67.62614 to 58.85377, saving model to output/washigton/puigcerver/checkpoint_weights.hdf5\n",
            "21/21 [==============================] - 5s 235ms/step - loss: 40.4985 - val_loss: 58.8538 - lr: 0.0010\n",
            "Epoch 58/1000\n",
            "21/21 [==============================] - ETA: 0s - loss: 39.6294\n",
            "Epoch 58: val_loss did not improve from 58.85377\n",
            "21/21 [==============================] - 4s 200ms/step - loss: 39.6294 - val_loss: 69.4930 - lr: 0.0010\n",
            "Epoch 59/1000\n",
            "21/21 [==============================] - ETA: 0s - loss: 39.4743\n",
            "Epoch 59: val_loss did not improve from 58.85377\n",
            "21/21 [==============================] - 4s 203ms/step - loss: 39.4743 - val_loss: 59.7540 - lr: 0.0010\n",
            "Epoch 60/1000\n",
            "21/21 [==============================] - ETA: 0s - loss: 35.9095\n",
            "Epoch 60: val_loss improved from 58.85377 to 55.86358, saving model to output/washigton/puigcerver/checkpoint_weights.hdf5\n",
            "21/21 [==============================] - 5s 237ms/step - loss: 35.9095 - val_loss: 55.8636 - lr: 0.0010\n",
            "Epoch 61/1000\n",
            "21/21 [==============================] - ETA: 0s - loss: 35.8730\n",
            "Epoch 61: val_loss did not improve from 55.86358\n",
            "21/21 [==============================] - 6s 274ms/step - loss: 35.8730 - val_loss: 59.9351 - lr: 0.0010\n",
            "Epoch 62/1000\n",
            "21/21 [==============================] - ETA: 0s - loss: 33.9514\n",
            "Epoch 62: val_loss did not improve from 55.86358\n",
            "21/21 [==============================] - 4s 206ms/step - loss: 33.9514 - val_loss: 57.3877 - lr: 0.0010\n",
            "Epoch 63/1000\n",
            "21/21 [==============================] - ETA: 0s - loss: 33.1263\n",
            "Epoch 63: val_loss did not improve from 55.86358\n",
            "21/21 [==============================] - 5s 220ms/step - loss: 33.1263 - val_loss: 60.6400 - lr: 0.0010\n",
            "Epoch 64/1000\n",
            "21/21 [==============================] - ETA: 0s - loss: 31.0050\n",
            "Epoch 64: val_loss did not improve from 55.86358\n",
            "21/21 [==============================] - 5s 224ms/step - loss: 31.0050 - val_loss: 58.8026 - lr: 0.0010\n",
            "Epoch 65/1000\n",
            "21/21 [==============================] - ETA: 0s - loss: 30.3665\n",
            "Epoch 65: val_loss did not improve from 55.86358\n",
            "21/21 [==============================] - 5s 223ms/step - loss: 30.3665 - val_loss: 58.6723 - lr: 0.0010\n",
            "Epoch 66/1000\n",
            "21/21 [==============================] - ETA: 0s - loss: 29.1857\n",
            "Epoch 66: val_loss improved from 55.86358 to 52.13578, saving model to output/washigton/puigcerver/checkpoint_weights.hdf5\n",
            "21/21 [==============================] - 5s 258ms/step - loss: 29.1857 - val_loss: 52.1358 - lr: 0.0010\n",
            "Epoch 67/1000\n",
            "21/21 [==============================] - ETA: 0s - loss: 27.4725\n",
            "Epoch 67: val_loss did not improve from 52.13578\n",
            "21/21 [==============================] - 5s 226ms/step - loss: 27.4725 - val_loss: 57.0426 - lr: 0.0010\n",
            "Epoch 68/1000\n",
            "21/21 [==============================] - ETA: 0s - loss: 28.3210\n",
            "Epoch 68: val_loss improved from 52.13578 to 51.39827, saving model to output/washigton/puigcerver/checkpoint_weights.hdf5\n",
            "21/21 [==============================] - 5s 235ms/step - loss: 28.3210 - val_loss: 51.3983 - lr: 0.0010\n",
            "Epoch 69/1000\n",
            "21/21 [==============================] - ETA: 0s - loss: 26.3775\n",
            "Epoch 69: val_loss did not improve from 51.39827\n",
            "21/21 [==============================] - 4s 204ms/step - loss: 26.3775 - val_loss: 51.8999 - lr: 0.0010\n",
            "Epoch 70/1000\n",
            "21/21 [==============================] - ETA: 0s - loss: 25.2023\n",
            "Epoch 70: val_loss improved from 51.39827 to 49.21347, saving model to output/washigton/puigcerver/checkpoint_weights.hdf5\n",
            "21/21 [==============================] - 5s 237ms/step - loss: 25.2023 - val_loss: 49.2135 - lr: 0.0010\n",
            "Epoch 71/1000\n",
            "21/21 [==============================] - ETA: 0s - loss: 24.4471\n",
            "Epoch 71: val_loss did not improve from 49.21347\n",
            "21/21 [==============================] - 7s 314ms/step - loss: 24.4471 - val_loss: 50.1376 - lr: 0.0010\n",
            "Epoch 72/1000\n",
            "21/21 [==============================] - ETA: 0s - loss: 23.2404\n",
            "Epoch 72: val_loss did not improve from 49.21347\n",
            "21/21 [==============================] - 4s 202ms/step - loss: 23.2404 - val_loss: 56.4132 - lr: 0.0010\n",
            "Epoch 73/1000\n",
            "21/21 [==============================] - ETA: 0s - loss: 23.3424\n",
            "Epoch 73: val_loss did not improve from 49.21347\n",
            "21/21 [==============================] - 5s 223ms/step - loss: 23.3424 - val_loss: 50.1497 - lr: 0.0010\n",
            "Epoch 74/1000\n",
            "21/21 [==============================] - ETA: 0s - loss: 20.1494\n",
            "Epoch 74: val_loss did not improve from 49.21347\n",
            "21/21 [==============================] - 5s 223ms/step - loss: 20.1494 - val_loss: 51.7070 - lr: 0.0010\n",
            "Epoch 75/1000\n",
            "21/21 [==============================] - ETA: 0s - loss: 21.1037\n",
            "Epoch 75: val_loss did not improve from 49.21347\n",
            "21/21 [==============================] - 4s 197ms/step - loss: 21.1037 - val_loss: 50.2065 - lr: 0.0010\n",
            "Epoch 76/1000\n",
            "21/21 [==============================] - ETA: 0s - loss: 20.0584\n",
            "Epoch 76: val_loss did not improve from 49.21347\n",
            "21/21 [==============================] - 5s 222ms/step - loss: 20.0584 - val_loss: 53.8659 - lr: 0.0010\n",
            "Epoch 77/1000\n",
            "21/21 [==============================] - ETA: 0s - loss: 18.8996\n",
            "Epoch 77: val_loss did not improve from 49.21347\n",
            "21/21 [==============================] - 5s 222ms/step - loss: 18.8996 - val_loss: 52.1481 - lr: 0.0010\n",
            "Epoch 78/1000\n",
            "21/21 [==============================] - ETA: 0s - loss: 19.1287\n",
            "Epoch 78: val_loss did not improve from 49.21347\n",
            "21/21 [==============================] - 4s 198ms/step - loss: 19.1287 - val_loss: 51.4894 - lr: 0.0010\n",
            "Epoch 79/1000\n",
            "21/21 [==============================] - ETA: 0s - loss: 18.3696\n",
            "Epoch 79: val_loss did not improve from 49.21347\n",
            "21/21 [==============================] - 4s 199ms/step - loss: 18.3696 - val_loss: 51.6736 - lr: 0.0010\n",
            "Epoch 80/1000\n",
            "21/21 [==============================] - ETA: 0s - loss: 17.0406\n",
            "Epoch 80: val_loss did not improve from 49.21347\n",
            "21/21 [==============================] - 4s 200ms/step - loss: 17.0406 - val_loss: 52.0820 - lr: 0.0010\n",
            "Epoch 81/1000\n",
            "21/21 [==============================] - ETA: 0s - loss: 16.6340\n",
            "Epoch 81: val_loss did not improve from 49.21347\n",
            "21/21 [==============================] - 6s 273ms/step - loss: 16.6340 - val_loss: 51.3476 - lr: 0.0010\n",
            "Epoch 82/1000\n",
            "21/21 [==============================] - ETA: 0s - loss: 14.8329\n",
            "Epoch 82: val_loss did not improve from 49.21347\n",
            "21/21 [==============================] - 4s 199ms/step - loss: 14.8329 - val_loss: 53.4485 - lr: 0.0010\n",
            "Epoch 83/1000\n",
            "21/21 [==============================] - ETA: 0s - loss: 14.9618\n",
            "Epoch 83: val_loss did not improve from 49.21347\n",
            "21/21 [==============================] - 4s 198ms/step - loss: 14.9618 - val_loss: 52.1310 - lr: 0.0010\n",
            "Epoch 84/1000\n",
            "21/21 [==============================] - ETA: 0s - loss: 15.1414\n",
            "Epoch 84: val_loss improved from 49.21347 to 48.21040, saving model to output/washigton/puigcerver/checkpoint_weights.hdf5\n",
            "21/21 [==============================] - 5s 258ms/step - loss: 15.1414 - val_loss: 48.2104 - lr: 0.0010\n",
            "Epoch 85/1000\n",
            "21/21 [==============================] - ETA: 0s - loss: 14.6519\n",
            "Epoch 85: val_loss did not improve from 48.21040\n",
            "21/21 [==============================] - 4s 200ms/step - loss: 14.6519 - val_loss: 51.7630 - lr: 0.0010\n",
            "Epoch 86/1000\n",
            "21/21 [==============================] - ETA: 0s - loss: 12.7219\n",
            "Epoch 86: val_loss did not improve from 48.21040\n",
            "21/21 [==============================] - 4s 197ms/step - loss: 12.7219 - val_loss: 50.3194 - lr: 0.0010\n",
            "Epoch 87/1000\n",
            "21/21 [==============================] - ETA: 0s - loss: 13.4427\n",
            "Epoch 87: val_loss did not improve from 48.21040\n",
            "21/21 [==============================] - 4s 202ms/step - loss: 13.4427 - val_loss: 50.0678 - lr: 0.0010\n",
            "Epoch 88/1000\n",
            "21/21 [==============================] - ETA: 0s - loss: 12.8390\n",
            "Epoch 88: val_loss did not improve from 48.21040\n",
            "21/21 [==============================] - 4s 199ms/step - loss: 12.8390 - val_loss: 51.7191 - lr: 0.0010\n",
            "Epoch 89/1000\n",
            "21/21 [==============================] - ETA: 0s - loss: 12.4985\n",
            "Epoch 89: val_loss did not improve from 48.21040\n",
            "21/21 [==============================] - 4s 199ms/step - loss: 12.4985 - val_loss: 51.5511 - lr: 0.0010\n",
            "Epoch 90/1000\n",
            "21/21 [==============================] - ETA: 0s - loss: 11.9791\n",
            "Epoch 90: val_loss did not improve from 48.21040\n",
            "21/21 [==============================] - 5s 223ms/step - loss: 11.9791 - val_loss: 53.5608 - lr: 0.0010\n",
            "Epoch 91/1000\n",
            "21/21 [==============================] - ETA: 0s - loss: 11.2582\n",
            "Epoch 91: val_loss did not improve from 48.21040\n",
            "21/21 [==============================] - 6s 299ms/step - loss: 11.2582 - val_loss: 50.5675 - lr: 0.0010\n",
            "Epoch 92/1000\n",
            "21/21 [==============================] - ETA: 0s - loss: 10.2315\n",
            "Epoch 92: val_loss improved from 48.21040 to 47.52962, saving model to output/washigton/puigcerver/checkpoint_weights.hdf5\n",
            "21/21 [==============================] - 5s 238ms/step - loss: 10.2315 - val_loss: 47.5296 - lr: 0.0010\n",
            "Epoch 93/1000\n",
            "21/21 [==============================] - ETA: 0s - loss: 10.4842\n",
            "Epoch 93: val_loss did not improve from 47.52962\n",
            "21/21 [==============================] - 5s 221ms/step - loss: 10.4842 - val_loss: 53.4451 - lr: 0.0010\n",
            "Epoch 94/1000\n",
            "21/21 [==============================] - ETA: 0s - loss: 9.3934\n",
            "Epoch 94: val_loss did not improve from 47.52962\n",
            "21/21 [==============================] - 5s 222ms/step - loss: 9.3934 - val_loss: 49.9458 - lr: 0.0010\n",
            "Epoch 95/1000\n",
            "21/21 [==============================] - ETA: 0s - loss: 9.3512\n",
            "Epoch 95: val_loss did not improve from 47.52962\n",
            "21/21 [==============================] - 5s 232ms/step - loss: 9.3512 - val_loss: 50.8126 - lr: 0.0010\n",
            "Epoch 96/1000\n",
            "21/21 [==============================] - ETA: 0s - loss: 8.9005\n",
            "Epoch 96: val_loss did not improve from 47.52962\n",
            "21/21 [==============================] - 5s 240ms/step - loss: 8.9005 - val_loss: 53.1609 - lr: 0.0010\n",
            "Epoch 97/1000\n",
            "21/21 [==============================] - ETA: 0s - loss: 8.9143\n",
            "Epoch 97: val_loss did not improve from 47.52962\n",
            "21/21 [==============================] - 4s 198ms/step - loss: 8.9143 - val_loss: 50.8956 - lr: 0.0010\n",
            "Epoch 98/1000\n",
            "21/21 [==============================] - ETA: 0s - loss: 8.5081\n",
            "Epoch 98: val_loss did not improve from 47.52962\n",
            "21/21 [==============================] - 5s 222ms/step - loss: 8.5081 - val_loss: 51.2810 - lr: 0.0010\n",
            "Epoch 99/1000\n",
            "21/21 [==============================] - ETA: 0s - loss: 8.3435\n",
            "Epoch 99: val_loss did not improve from 47.52962\n",
            "21/21 [==============================] - 5s 222ms/step - loss: 8.3435 - val_loss: 52.8630 - lr: 0.0010\n",
            "Epoch 100/1000\n",
            "21/21 [==============================] - ETA: 0s - loss: 7.5813\n",
            "Epoch 100: val_loss did not improve from 47.52962\n",
            "21/21 [==============================] - 4s 197ms/step - loss: 7.5813 - val_loss: 50.2224 - lr: 0.0010\n",
            "Epoch 101/1000\n",
            "21/21 [==============================] - ETA: 0s - loss: 7.6304\n",
            "Epoch 101: val_loss did not improve from 47.52962\n",
            "21/21 [==============================] - 6s 274ms/step - loss: 7.6304 - val_loss: 50.5631 - lr: 0.0010\n",
            "Epoch 102/1000\n",
            "21/21 [==============================] - ETA: 0s - loss: 7.3747\n",
            "Epoch 102: val_loss did not improve from 47.52962\n",
            "21/21 [==============================] - 5s 223ms/step - loss: 7.3747 - val_loss: 52.1673 - lr: 0.0010\n",
            "Epoch 103/1000\n",
            "21/21 [==============================] - ETA: 0s - loss: 7.7970\n",
            "Epoch 103: val_loss did not improve from 47.52962\n",
            "21/21 [==============================] - 4s 199ms/step - loss: 7.7970 - val_loss: 51.8182 - lr: 0.0010\n",
            "Epoch 104/1000\n",
            "21/21 [==============================] - ETA: 0s - loss: 7.3326\n",
            "Epoch 104: val_loss did not improve from 47.52962\n",
            "21/21 [==============================] - 4s 200ms/step - loss: 7.3326 - val_loss: 53.8752 - lr: 0.0010\n",
            "Epoch 105/1000\n",
            "21/21 [==============================] - ETA: 0s - loss: 6.5089\n",
            "Epoch 105: val_loss did not improve from 47.52962\n",
            "21/21 [==============================] - 5s 224ms/step - loss: 6.5089 - val_loss: 55.1371 - lr: 0.0010\n",
            "Epoch 106/1000\n",
            "21/21 [==============================] - ETA: 0s - loss: 6.4572\n",
            "Epoch 106: val_loss did not improve from 47.52962\n",
            "21/21 [==============================] - 5s 221ms/step - loss: 6.4572 - val_loss: 50.3221 - lr: 0.0010\n",
            "Epoch 107/1000\n",
            "21/21 [==============================] - ETA: 0s - loss: 6.3006\n",
            "Epoch 107: val_loss did not improve from 47.52962\n",
            "\n",
            "Epoch 107: ReduceLROnPlateau reducing learning rate to 0.00010000000474974513.\n",
            "21/21 [==============================] - 5s 220ms/step - loss: 6.3006 - val_loss: 53.1060 - lr: 0.0010\n",
            "Epoch 108/1000\n",
            "21/21 [==============================] - ETA: 0s - loss: 5.3725\n",
            "Epoch 108: val_loss did not improve from 47.52962\n",
            "21/21 [==============================] - 4s 199ms/step - loss: 5.3725 - val_loss: 48.6433 - lr: 1.0000e-04\n",
            "Epoch 109/1000\n",
            "21/21 [==============================] - ETA: 0s - loss: 5.1640\n",
            "Epoch 109: val_loss did not improve from 47.52962\n",
            "21/21 [==============================] - 4s 199ms/step - loss: 5.1640 - val_loss: 48.3178 - lr: 1.0000e-04\n",
            "Epoch 110/1000\n",
            "21/21 [==============================] - ETA: 0s - loss: 5.0464\n",
            "Epoch 110: val_loss did not improve from 47.52962\n",
            "21/21 [==============================] - 4s 198ms/step - loss: 5.0464 - val_loss: 48.1743 - lr: 1.0000e-04\n",
            "Epoch 111/1000\n",
            "21/21 [==============================] - ETA: 0s - loss: 4.1477\n",
            "Epoch 111: val_loss did not improve from 47.52962\n",
            "21/21 [==============================] - 6s 275ms/step - loss: 4.1477 - val_loss: 48.3820 - lr: 1.0000e-04\n",
            "Epoch 112/1000\n",
            "21/21 [==============================] - ETA: 0s - loss: 3.8948\n",
            "Epoch 112: val_loss did not improve from 47.52962\n",
            "Restoring model weights from the end of the best epoch: 92.\n",
            "21/21 [==============================] - 6s 277ms/step - loss: 3.8948 - val_loss: 47.8412 - lr: 1.0000e-04\n",
            "Epoch 112: early stopping\n",
            "Total train images:      325\n",
            "Total validation images: 168\n",
            "Batch:                   16\n",
            "\n",
            "Total time:              0:09:15.396645\n",
            "Time per epoch:          0:00:04.958899\n",
            "Time per item:           0:00:00.010059\n",
            "\n",
            "Total epochs:            112\n",
            "Best epoch               92\n",
            "\n",
            "Training loss:           10.23148823\n",
            "Validation loss:         47.52962112\n"
          ]
        }
      ]
    },
    {
      "cell_type": "markdown",
      "source": [
        "## 1.5 prediction\n",
        "\n",
        "The predict process is similar to the *predict* of the Keras:"
      ],
      "metadata": {
        "id": "aqLr_ZtE0X8b"
      }
    },
    {
      "cell_type": "code",
      "source": [
        "from google.colab.patches import cv2_imshow\n",
        "\n",
        "start_time = datetime.datetime.now()\n",
        "\n",
        "# predict() function will return the predicts with the probabilities\n",
        "predicts, _ = model.predict(x=dtgen.next_test_batch(),\n",
        "                            steps=dtgen.steps['test'],\n",
        "                            ctc_decode=True,\n",
        "                            verbose=1)\n",
        "\n",
        "# decode to string\n",
        "predicts = [dtgen.tokenizer.decode(x[0]) for x in predicts]\n",
        "ground_truth = [x.decode() for x in dtgen.dataset['test']['gt']]\n",
        "\n",
        "total_time = datetime.datetime.now() - start_time\n",
        "\n",
        "# mount predict corpus file\n",
        "with open(os.path.join(output_path, \"predict.txt\"), \"w\") as lg:\n",
        "    for pd, gt in zip(predicts, ground_truth):\n",
        "        lg.write(f\"TE_L {gt}\\nTE_P {pd}\\n\")\n",
        "   \n",
        "for i, item in enumerate(dtgen.dataset['test']['dt'][:10]):\n",
        "    print(\"=\" * 1024, \"\\n\")\n",
        "    cv2_imshow(adjust_to_see(item))\n",
        "    print(ground_truth[i])\n",
        "    print(predicts[i], \"\\n\")"
      ],
      "metadata": {
        "colab": {
          "base_uri": "https://localhost:8080/",
          "height": 1000
        },
        "id": "sY8r_MCNwjul",
        "outputId": "24ce60a5-2096-40a2-dff7-a7b5ba01a087"
      },
      "execution_count": null,
      "outputs": [
        {
          "output_type": "stream",
          "name": "stdout",
          "text": [
            "Model Predict\n",
            "11/11 [==============================] - 4s 92ms/step\n",
            "CTC Decode\n",
            " 1/11 [=>............................] - ETA: 10s"
          ]
        },
        {
          "output_type": "stream",
          "name": "stderr",
          "text": [
            "/usr/local/lib/python3.7/dist-packages/numpy/core/fromnumeric.py:43: VisibleDeprecationWarning: Creating an ndarray from ragged nested sequences (which is a list-or-tuple of lists-or-tuples-or ndarrays with different lengths or shapes) is deprecated. If you meant to do this, you must specify 'dtype=object' when creating the ndarray.\n",
            "  result = getattr(asarray(obj), method)(*args, **kwds)\n"
          ]
        },
        {
          "output_type": "stream",
          "name": "stdout",
          "text": [
            "11/11 [==============================] - 11s 1s/step\n",
            "================================================================================================================================================================================================================================================================================================================================================================================================================================================================================================================================================================================================================================================================================================================================================================================================================================================================================================================================================================================================================================================================ \n",
            "\n"
          ]
        },
        {
          "output_type": "display_data",
          "data": {
            "text/plain": [
              "<PIL.Image.Image image mode=L size=1024x128 at 0x7F17D251EB50>"
            ],
            "image/png": "[encoded data removed]"
          },
          "metadata": {}
        },
        {
          "output_type": "stream",
          "name": "stdout",
          "text": [
            "p.305\n",
            "fi Vae. \n",
            "\n",
            "================================================================================================================================================================================================================================================================================================================================================================================================================================================================================================================================================================================================================================================================================================================================================================================================================================================================================================================================================================================================================================================================ \n",
            "\n"
          ]
        },
        {
          "output_type": "display_data",
          "data": {
            "text/plain": [
              "<PIL.Image.Image image mode=L size=1024x128 at 0x7F17D24F9150>"
            ],
            "image/png": "[encoded data removed]"
          },
          "metadata": {}
        },
        {
          "output_type": "stream",
          "name": "stdout",
          "text": [
            "Letters Orders and Instructions. December 1755.\n",
            "Laeltes Ordes and Instructions Farcvmber 2. \n",
            "\n",
            "================================================================================================================================================================================================================================================================================================================================================================================================================================================================================================================================================================================================================================================================================================================================================================================================================================================================================================================================================================================================================================================================ \n",
            "\n"
          ]
        },
        {
          "output_type": "display_data",
          "data": {
            "text/plain": [
              "<PIL.Image.Image image mode=L size=1024x128 at 0x7F17D24F9190>"
            ],
            "image/png": "[encoded data removed]"
          },
          "metadata": {}
        },
        {
          "output_type": "stream",
          "name": "stdout",
          "text": [
            "to go to a place where I am to be commanded\n",
            "lo ge to a place where I am to be commandid \n",
            "\n",
            "================================================================================================================================================================================================================================================================================================================================================================================================================================================================================================================================================================================================================================================================================================================================================================================================================================================================================================================================================================================================================================================================ \n",
            "\n"
          ]
        },
        {
          "output_type": "display_data",
          "data": {
            "text/plain": [
              "<PIL.Image.Image image mode=L size=1024x128 at 0x7F17D251EB50>"
            ],
            "image/png": "[encoded data removed]"
          },
          "metadata": {}
        },
        {
          "output_type": "stream",
          "name": "stdout",
          "text": [
            "and directed by another, who can have no\n",
            "and diseded by cmother; who can have noe \n",
            "\n",
            "================================================================================================================================================================================================================================================================================================================================================================================================================================================================================================================================================================================================================================================================================================================================================================================================================================================================================================================================================================================================================================================================ \n",
            "\n"
          ]
        },
        {
          "output_type": "display_data",
          "data": {
            "text/plain": [
              "<PIL.Image.Image image mode=L size=1024x128 at 0x7F17D3E80350>"
            ],
            "image/png": "[encoded data removed]"
          },
          "metadata": {}
        },
        {
          "output_type": "stream",
          "name": "stdout",
          "text": [
            "other pretence, than that of having a commis-\n",
            "other pailince, than that of having a tComms \n",
            "\n",
            "================================================================================================================================================================================================================================================================================================================================================================================================================================================================================================================================================================================================================================================================================================================================================================================================================================================================================================================================================================================================================================================================ \n",
            "\n"
          ]
        },
        {
          "output_type": "display_data",
          "data": {
            "text/plain": [
              "<PIL.Image.Image image mode=L size=1024x128 at 0x7F17D24F9150>"
            ],
            "image/png": "[encoded data removed]"
          },
          "metadata": {}
        },
        {
          "output_type": "stream",
          "name": "stdout",
          "text": [
            "sion from the King.\n",
            "sn from tht Fy5. \n",
            "\n",
            "================================================================================================================================================================================================================================================================================================================================================================================================================================================================================================================================================================================================================================================================================================================================================================================================================================================================================================================================================================================================================================================================ \n",
            "\n"
          ]
        },
        {
          "output_type": "display_data",
          "data": {
            "text/plain": [
              "<PIL.Image.Image image mode=L size=1024x128 at 0x7F17D250FF50>"
            ],
            "image/png": "[encoded data removed]"
          },
          "metadata": {}
        },
        {
          "output_type": "stream",
          "name": "stdout",
          "text": [
            "We shall suffer very greatly in a little\n",
            "Yo shalt suffer very gurly in a lille \n",
            "\n",
            "================================================================================================================================================================================================================================================================================================================================================================================================================================================================================================================================================================================================================================================================================================================================================================================================================================================================================================================================================================================================================================================================ \n",
            "\n"
          ]
        },
        {
          "output_type": "display_data",
          "data": {
            "text/plain": [
              "<PIL.Image.Image image mode=L size=1024x128 at 0x7F17D24869D0>"
            ],
            "image/png": "[encoded data removed]"
          },
          "metadata": {}
        },
        {
          "output_type": "stream",
          "name": "stdout",
          "text": [
            "time, for want of Clothing for the Soldiers; and none\n",
            "time, for wnd of Clothing for the Solliers, and wone \n",
            "\n",
            "================================================================================================================================================================================================================================================================================================================================================================================================================================================================================================================================================================================================================================================================================================================================================================================================================================================================================================================================================================================================================================================================ \n",
            "\n"
          ]
        },
        {
          "output_type": "display_data",
          "data": {
            "text/plain": [
              "<PIL.Image.Image image mode=L size=1024x128 at 0x7F17D24F9190>"
            ],
            "image/png": "[encoded data removed]"
          },
          "metadata": {}
        },
        {
          "output_type": "stream",
          "name": "stdout",
          "text": [
            "can be had here, nor in short, I believe in the\n",
            "san, he had he, on in shoat, S leletere in the \n",
            "\n",
            "================================================================================================================================================================================================================================================================================================================================================================================================================================================================================================================================================================================================================================================================================================================================================================================================================================================================================================================================================================================================================================================================ \n",
            "\n"
          ]
        },
        {
          "output_type": "display_data",
          "data": {
            "text/plain": [
              "<PIL.Image.Image image mode=L size=1024x128 at 0x7F17D251EF10>"
            ],
            "image/png": "[encoded data removed]"
          },
          "metadata": {}
        },
        {
          "output_type": "stream",
          "name": "stdout",
          "text": [
            "Country. Those which Carlyle and Dalton con-\n",
            "Country Tose which Calgle and Dallors rom- \n",
            "\n"
          ]
        }
      ]
    },
    {
      "cell_type": "code",
      "source": [
        "predicts[10]"
      ],
      "metadata": {
        "colab": {
          "base_uri": "https://localhost:8080/",
          "height": 35
        },
        "id": "27gbuZ5-007E",
        "outputId": "5448be82-41d8-4120-ceb7-60224fc0acd0"
      },
      "execution_count": null,
      "outputs": [
        {
          "output_type": "execute_result",
          "data": {
            "text/plain": [
              "'laeled to fromish, are are disapsonted in; and'"
            ],
            "application/vnd.google.colaboratory.intrinsic+json": {
              "type": "string"
            }
          },
          "metadata": {},
          "execution_count": 17
        }
      ]
    },
    {
      "cell_type": "code",
      "source": [
        "ground_truth[10]"
      ],
      "metadata": {
        "colab": {
          "base_uri": "https://localhost:8080/",
          "height": 35
        },
        "id": "WwTzMn_h0928",
        "outputId": "8aece60e-a4e2-4d42-b63a-891cfc570fc3"
      },
      "execution_count": null,
      "outputs": [
        {
          "output_type": "execute_result",
          "data": {
            "text/plain": [
              "'tracted to furnish, we are disappointed in; and'"
            ],
            "application/vnd.google.colaboratory.intrinsic+json": {
              "type": "string"
            }
          },
          "metadata": {},
          "execution_count": 18
        }
      ]
    },
    {
      "cell_type": "code",
      "source": [
        "print(len(predicts), len(ground_truth))"
      ],
      "metadata": {
        "colab": {
          "base_uri": "https://localhost:8080/"
        },
        "id": "vAb1j-xs1BaM",
        "outputId": "1ade3760-7216-4be9-f884-00d3342287c1"
      },
      "execution_count": null,
      "outputs": [
        {
          "output_type": "stream",
          "name": "stdout",
          "text": [
            "163 163\n"
          ]
        }
      ]
    },
    {
      "cell_type": "markdown",
      "source": [
        "## 1.6 Evaluation\n",
        "\n",
        "Evaluation process is more manual process. Here we have the `ocr_metrics`, but feel free to implement other metrics instead. In the function, we have three parameters: \n",
        "\n",
        "* predicts\n",
        "* ground_truth\n",
        "* norm_accentuation (calculation with/without accentuation)\n",
        "* norm_punctuation (calculation with/without punctuation marks)"
      ],
      "metadata": {
        "id": "HvpeFMGx1P7o"
      }
    },
    {
      "cell_type": "code",
      "source": [
        "evaluate = ocr_metrics(predicts, ground_truth)\n",
        "\n",
        "e_corpus = \"\\n\".join([\n",
        "    f\"Total test images:    {dtgen.size['test']}\",\n",
        "    f\"Total time:           {total_time}\",\n",
        "    f\"Time per item:        {total_time / dtgen.size['test']}\\n\",\n",
        "    f\"Metrics:\",\n",
        "    f\"Character Error Rate: {evaluate[0]:.8f}\",\n",
        "    f\"Word Error Rate:      {evaluate[1]:.8f}\",\n",
        "    f\"Sequence Error Rate:  {evaluate[2]:.8f}\"\n",
        "])\n",
        "\n",
        "with open(os.path.join(output_path, \"evaluate.txt\"), \"w\") as lg:\n",
        "    lg.write(e_corpus)\n",
        "    print(e_corpus)"
      ],
      "metadata": {
        "colab": {
          "base_uri": "https://localhost:8080/"
        },
        "id": "q7Gw5vjl1XNU",
        "outputId": "2b15d176-5225-4250-ce7e-3e98c3754e73"
      },
      "execution_count": null,
      "outputs": [
        {
          "output_type": "stream",
          "name": "stdout",
          "text": [
            "Total test images:    163\n",
            "Total time:           0:00:49.172022\n",
            "Time per item:        0:00:00.301669\n",
            "\n",
            "Metrics:\n",
            "Character Error Rate: 0.24485306\n",
            "Word Error Rate:      0.54937677\n",
            "Sequence Error Rate:  0.99386503\n"
          ]
        }
      ]
    },
    {
      "cell_type": "markdown",
      "source": [
        "# 2. saintgall Dataset\n"
      ],
      "metadata": {
        "id": "MKBgGsqg2DdG"
      }
    },
    {
      "cell_type": "markdown",
      "source": [
        "## 2.1 Datset Preparation"
      ],
      "metadata": {
        "id": "SrV44Vb62Y6S"
      }
    },
    {
      "cell_type": "code",
      "source": [
        "import os\n",
        "import datetime\n",
        "import string\n",
        "\n",
        "# define parameters\n",
        "source = \"saintgall\"\n",
        "\n",
        "epochs = 1000\n",
        "batch_size = 16\n",
        "\n",
        "# define paths\n",
        "source_path = os.path.join(\"data\", f\"{source}.hdf5\")\n",
        "output_path = os.path.join( \"output\", source, arch)\n",
        "target_path = os.path.join(output_path, \"checkpoint_weights.hdf5\")\n",
        "os.makedirs(output_path, exist_ok=True)\n",
        "\n",
        "# define input size, number max of chars per line and list of valid chars\n",
        "input_size = (1024, 128, 1)\n",
        "max_text_length = 128\n",
        "charset_base = string.printable[:95]\n",
        "\n",
        "print(\"source:\", source_path)\n",
        "print(\"output\", output_path)\n",
        "print(\"target\", target_path)\n",
        "print(\"charset:\", charset_base)"
      ],
      "metadata": {
        "colab": {
          "base_uri": "https://localhost:8080/"
        },
        "id": "nEKb5UhH1a3N",
        "outputId": "d23656ba-a6db-42a3-92ef-8ac964ea7282"
      },
      "execution_count": null,
      "outputs": [
        {
          "output_type": "stream",
          "name": "stdout",
          "text": [
            "source: data/saintgall.hdf5\n",
            "output output/saintgall/puigcerver\n",
            "target output/saintgall/puigcerver/checkpoint_weights.hdf5\n",
            "charset: 0123456789abcdefghijklmnopqrstuvwxyzABCDEFGHIJKLMNOPQRSTUVWXYZ!\"#$%&'()*+,-./:;<=>?@[\\]^_`{|}~ \n"
          ]
        }
      ]
    },
    {
      "cell_type": "markdown",
      "source": [
        "## 2.2 DataSet Generator"
      ],
      "metadata": {
        "id": "ILRmYDhR4Y_L"
      }
    },
    {
      "cell_type": "code",
      "source": [
        "source_path = \"saintgall.hdf5\""
      ],
      "metadata": {
        "id": "8CWbXW7I2kTG"
      },
      "execution_count": 16,
      "outputs": []
    },
    {
      "cell_type": "code",
      "source": [
        "dtgen = DataGenerator(source=source_path,\n",
        "                      batch_size=batch_size,\n",
        "                      charset=charset_base,\n",
        "                      max_text_length=max_text_length)\n",
        "\n",
        "print(f\"Train images: {dtgen.size['train']}\")\n",
        "print(f\"Validation images: {dtgen.size['valid']}\")\n",
        "print(f\"Test images: {dtgen.size['test']}\")"
      ],
      "metadata": {
        "colab": {
          "base_uri": "https://localhost:8080/"
        },
        "id": "U6ACV-KI3afL",
        "outputId": "4ec8104a-e7b7-4d0b-836e-62c03c47acc8"
      },
      "execution_count": 17,
      "outputs": [
        {
          "output_type": "stream",
          "name": "stdout",
          "text": [
            "Train images: 468\n",
            "Validation images: 235\n",
            "Test images: 707\n"
          ]
        }
      ]
    },
    {
      "cell_type": "markdown",
      "source": [
        "## 2.3 Model Architecture"
      ],
      "metadata": {
        "id": "l8jtqupu4fGi"
      }
    },
    {
      "cell_type": "code",
      "source": [
        "# create and compile HTRModel\n",
        "model = HTRModel(architecture=arch,\n",
        "                 input_size=input_size,\n",
        "                 vocab_size=dtgen.tokenizer.vocab_size,\n",
        "                 beam_width=10,\n",
        "                 stop_tolerance=20,\n",
        "                 reduce_tolerance=15,\n",
        "                 reduce_factor=0.1)\n",
        "\n",
        "model.compile(learning_rate=0.001)\n",
        "model.summary(output_path, \"summary.txt\")\n",
        "\n",
        "# get default callbacks and load checkpoint weights file (HDF5) if exists\n",
        "model.load_checkpoint(target=target_path)\n",
        "\n",
        "callbacks = model.get_callbacks(logdir=output_path, checkpoint=target_path, verbose=1)"
      ],
      "metadata": {
        "colab": {
          "base_uri": "https://localhost:8080/"
        },
        "id": "b7TQM5VH3i65",
        "outputId": "7adc1a06-2a19-4e3f-eefe-edee9a63817c"
      },
      "execution_count": 18,
      "outputs": [
        {
          "output_type": "stream",
          "name": "stdout",
          "text": [
            "Model: \"model_1\"\n",
            "_________________________________________________________________\n",
            " Layer (type)                Output Shape              Param #   \n",
            "=================================================================\n",
            " input (InputLayer)          [(None, 1024, 128, 1)]    0         \n",
            "                                                                 \n",
            " conv2d_5 (Conv2D)           (None, 1024, 128, 16)     160       \n",
            "                                                                 \n",
            " batch_normalization_5 (Batc  (None, 1024, 128, 16)    64        \n",
            " hNormalization)                                                 \n",
            "                                                                 \n",
            " leaky_re_lu_5 (LeakyReLU)   (None, 1024, 128, 16)     0         \n",
            "                                                                 \n",
            " max_pooling2d_3 (MaxPooling  (None, 512, 64, 16)      0         \n",
            " 2D)                                                             \n",
            "                                                                 \n",
            " conv2d_6 (Conv2D)           (None, 512, 64, 32)       4640      \n",
            "                                                                 \n",
            " batch_normalization_6 (Batc  (None, 512, 64, 32)      128       \n",
            " hNormalization)                                                 \n",
            "                                                                 \n",
            " leaky_re_lu_6 (LeakyReLU)   (None, 512, 64, 32)       0         \n",
            "                                                                 \n",
            " max_pooling2d_4 (MaxPooling  (None, 256, 32, 32)      0         \n",
            " 2D)                                                             \n",
            "                                                                 \n",
            " dropout_4 (Dropout)         (None, 256, 32, 32)       0         \n",
            "                                                                 \n",
            " conv2d_7 (Conv2D)           (None, 256, 32, 48)       13872     \n",
            "                                                                 \n",
            " batch_normalization_7 (Batc  (None, 256, 32, 48)      192       \n",
            " hNormalization)                                                 \n",
            "                                                                 \n",
            " leaky_re_lu_7 (LeakyReLU)   (None, 256, 32, 48)       0         \n",
            "                                                                 \n",
            " max_pooling2d_5 (MaxPooling  (None, 128, 16, 48)      0         \n",
            " 2D)                                                             \n",
            "                                                                 \n",
            " dropout_5 (Dropout)         (None, 128, 16, 48)       0         \n",
            "                                                                 \n",
            " conv2d_8 (Conv2D)           (None, 128, 16, 64)       27712     \n",
            "                                                                 \n",
            " batch_normalization_8 (Batc  (None, 128, 16, 64)      256       \n",
            " hNormalization)                                                 \n",
            "                                                                 \n",
            " leaky_re_lu_8 (LeakyReLU)   (None, 128, 16, 64)       0         \n",
            "                                                                 \n",
            " dropout_6 (Dropout)         (None, 128, 16, 64)       0         \n",
            "                                                                 \n",
            " conv2d_9 (Conv2D)           (None, 128, 16, 80)       46160     \n",
            "                                                                 \n",
            " batch_normalization_9 (Batc  (None, 128, 16, 80)      320       \n",
            " hNormalization)                                                 \n",
            "                                                                 \n",
            " leaky_re_lu_9 (LeakyReLU)   (None, 128, 16, 80)       0         \n",
            "                                                                 \n",
            " reshape_1 (Reshape)         (None, 128, 1280)         0         \n",
            "                                                                 \n",
            " bidirectional_5 (Bidirectio  (None, 128, 512)         3147776   \n",
            " nal)                                                            \n",
            "                                                                 \n",
            " bidirectional_6 (Bidirectio  (None, 128, 512)         1574912   \n",
            " nal)                                                            \n",
            "                                                                 \n",
            " bidirectional_7 (Bidirectio  (None, 128, 512)         1574912   \n",
            " nal)                                                            \n",
            "                                                                 \n",
            " bidirectional_8 (Bidirectio  (None, 128, 512)         1574912   \n",
            " nal)                                                            \n",
            "                                                                 \n",
            " bidirectional_9 (Bidirectio  (None, 128, 512)         1574912   \n",
            " nal)                                                            \n",
            "                                                                 \n",
            " dropout_7 (Dropout)         (None, 128, 512)          0         \n",
            "                                                                 \n",
            " dense_1 (Dense)             (None, 128, 98)           50274     \n",
            "                                                                 \n",
            "=================================================================\n",
            "Total params: 9,591,202\n",
            "Trainable params: 9,590,722\n",
            "Non-trainable params: 480\n",
            "_________________________________________________________________\n"
          ]
        }
      ]
    },
    {
      "cell_type": "markdown",
      "source": [
        "## 2.4 Training"
      ],
      "metadata": {
        "id": "ISN0LriX5H6U"
      }
    },
    {
      "cell_type": "code",
      "source": [
        "output_path"
      ],
      "metadata": {
        "colab": {
          "base_uri": "https://localhost:8080/",
          "height": 37
        },
        "id": "n0K2qIB05D2C",
        "outputId": "9a8fc700-a764-4a77-c134-a521c4320ef5"
      },
      "execution_count": 19,
      "outputs": [
        {
          "output_type": "execute_result",
          "data": {
            "text/plain": [
              "'output/washigton/puigcerver'"
            ],
            "application/vnd.google.colaboratory.intrinsic+json": {
              "type": "string"
            }
          },
          "metadata": {},
          "execution_count": 19
        }
      ]
    },
    {
      "cell_type": "code",
      "source": [
        "# to calculate total and average time per epoch\n",
        "start_time = datetime.datetime.now()\n",
        "\n",
        "h = model.fit(x=dtgen.next_train_batch(),\n",
        "              epochs=epochs,\n",
        "              steps_per_epoch=dtgen.steps['train'],\n",
        "              validation_data=dtgen.next_valid_batch(),\n",
        "              validation_steps=dtgen.steps['valid'],\n",
        "              callbacks=callbacks,\n",
        "              shuffle=True,\n",
        "              verbose=1)\n",
        "\n",
        "total_time = datetime.datetime.now() - start_time\n",
        "\n",
        "loss = h.history['loss']\n",
        "val_loss = h.history['val_loss']\n",
        "\n",
        "min_val_loss = min(val_loss)\n",
        "min_val_loss_i = val_loss.index(min_val_loss)\n",
        "\n",
        "time_epoch = (total_time / len(loss))\n",
        "total_item = (dtgen.size['train'] + dtgen.size['valid'])\n",
        "\n",
        "t_corpus = \"\\n\".join([\n",
        "    f\"Total train images:      {dtgen.size['train']}\",\n",
        "    f\"Total validation images: {dtgen.size['valid']}\",\n",
        "    f\"Batch:                   {dtgen.batch_size}\\n\",\n",
        "    f\"Total time:              {total_time}\",\n",
        "    f\"Time per epoch:          {time_epoch}\",\n",
        "    f\"Time per item:           {time_epoch / total_item}\\n\",\n",
        "    f\"Total epochs:            {len(loss)}\",\n",
        "    f\"Best epoch               {min_val_loss_i + 1}\\n\",\n",
        "    f\"Training loss:           {loss[min_val_loss_i]:.8f}\",\n",
        "    f\"Validation loss:         {min_val_loss:.8f}\"\n",
        "])\n",
        "\n",
        "with open(os.path.join(output_path, \"train.txt\"), \"w\") as lg:\n",
        "    lg.write(t_corpus)\n",
        "    print(t_corpus)"
      ],
      "metadata": {
        "colab": {
          "base_uri": "https://localhost:8080/"
        },
        "id": "CCW13mAC5KCs",
        "outputId": "7e37022d-593c-45b3-ea00-240b231191b6"
      },
      "execution_count": 20,
      "outputs": [
        {
          "output_type": "stream",
          "name": "stdout",
          "text": [
            "Epoch 1/1000\n"
          ]
        },
        {
          "output_type": "stream",
          "name": "stderr",
          "text": [
            "\n",
            "KeyboardInterrupt\n",
            "\n"
          ]
        }
      ]
    },
    {
      "cell_type": "markdown",
      "source": [
        "## 2.5 prediction"
      ],
      "metadata": {
        "id": "u_U6LFeO8gf1"
      }
    },
    {
      "cell_type": "code",
      "source": [
        "from google.colab.patches import cv2_imshow\n",
        "\n",
        "start_time = datetime.datetime.now()\n",
        "\n",
        "# predict() function will return the predicts with the probabilities\n",
        "predicts, _ = model.predict(x=dtgen.next_test_batch(),\n",
        "                            steps=dtgen.steps['test'],\n",
        "                            ctc_decode=True,\n",
        "                            verbose=1)\n",
        "\n",
        "# decode to string\n",
        "predicts = [dtgen.tokenizer.decode(x[0]) for x in predicts]\n",
        "ground_truth = [x.decode() for x in dtgen.dataset['test']['gt']]\n",
        "\n",
        "total_time = datetime.datetime.now() - start_time\n",
        "\n",
        "# mount predict corpus file\n",
        "with open(os.path.join(output_path, \"predict.txt\"), \"w\") as lg:\n",
        "    for pd, gt in zip(predicts, ground_truth):\n",
        "        lg.write(f\"TE_L {gt}\\nTE_P {pd}\\n\")\n",
        "   \n",
        "for i, item in enumerate(dtgen.dataset['test']['dt'][:10]):\n",
        "    print(\"=\" * 1024, \"\\n\")\n",
        "    cv2_imshow(adjust_to_see(item))\n",
        "    print(ground_truth[i])\n",
        "    print(predicts[i], \"\\n\")"
      ],
      "metadata": {
        "colab": {
          "base_uri": "https://localhost:8080/",
          "height": 1000
        },
        "id": "PALwMSJ15Oww",
        "outputId": "6cc13cb4-bf4f-428d-ddf6-8c3adfe4c023"
      },
      "execution_count": null,
      "outputs": [
        {
          "output_type": "stream",
          "name": "stdout",
          "text": [
            "Model Predict\n",
            "45/45 [==============================] - 7s 57ms/step\n",
            "CTC Decode\n",
            "45/45 [==============================] - 54s 1s/step\n",
            "================================================================================================================================================================================================================================================================================================================================================================================================================================================================================================================================================================================================================================================================================================================================================================================================================================================================================================================================================================================================================================================================ \n",
            "\n"
          ]
        },
        {
          "output_type": "display_data",
          "data": {
            "text/plain": [
              "<PIL.Image.Image image mode=L size=1024x128 at 0x7F17D3C3A290>"
            ],
            "image/png": "[encoded data removed]"
          },
          "metadata": {}
        },
        {
          "output_type": "stream",
          "name": "stdout",
          "text": [
            "omni festinatione misit duos pontifices de quorum meritis po\n",
            "omni festinatione misit duos pontifices de quorum meritis po \n",
            "\n",
            "================================================================================================================================================================================================================================================================================================================================================================================================================================================================================================================================================================================================================================================================================================================================================================================================================================================================================================================================================================================================================================================================ \n",
            "\n"
          ]
        },
        {
          "output_type": "display_data",
          "data": {
            "text/plain": [
              "<PIL.Image.Image image mode=L size=1024x128 at 0x7F17D3C3AD10>"
            ],
            "image/png": "[encoded data removed]"
          },
          "metadata": {}
        },
        {
          "output_type": "stream",
          "name": "stdout",
          "text": [
            "ed et si curiosius interrogati fuissent a quoquam iussit ut eu\n",
            "el et sicuriosius interrogati fuissent aquoquampt iussit ut eu \n",
            "\n",
            "================================================================================================================================================================================================================================================================================================================================================================================================================================================================================================================================================================================================================================================================================================================================================================================================================================================================================================================================================================================================================================================================ \n",
            "\n"
          ]
        },
        {
          "output_type": "display_data",
          "data": {
            "text/plain": [
              "<PIL.Image.Image image mode=L size=1024x128 at 0x7F17D3C3A290>"
            ],
            "image/png": "[encoded data removed]"
          },
          "metadata": {}
        },
        {
          "output_type": "stream",
          "name": "stdout",
          "text": [
            "meam ut provideam utilitatem et necessaria frm qui ibi sunt\n",
            "meampt ut provideam utilitatem et necessaria frm qui ibi sunt \n",
            "\n",
            "================================================================================================================================================================================================================================================================================================================================================================================================================================================================================================================================================================================================================================================================================================================================================================================================================================================================================================================================================================================================================================================================ \n",
            "\n"
          ]
        },
        {
          "output_type": "display_data",
          "data": {
            "text/plain": [
              "<PIL.Image.Image image mode=L size=1024x128 at 0x7F17D3C3AE50>"
            ],
            "image/png": "[encoded data removed]"
          },
          "metadata": {}
        },
        {
          "output_type": "stream",
          "name": "stdout",
          "text": [
            "Tu ergo proficiscere Quid mihi cum principibus seculi Nam\n",
            "lu ergo proficiscerept Quid mihi cum principibus feculipt Ham \n",
            "\n",
            "================================================================================================================================================================================================================================================================================================================================================================================================================================================================================================================================================================================================================================================================================================================================================================================================================================================================================================================================================================================================================================================================ \n",
            "\n"
          ]
        },
        {
          "output_type": "display_data",
          "data": {
            "text/plain": [
              "<PIL.Image.Image image mode=L size=1024x128 at 0x7F17D3C3A7D0>"
            ],
            "image/png": "[encoded data removed]"
          },
          "metadata": {}
        },
        {
          "output_type": "stream",
          "name": "stdout",
          "text": [
            "mecum ne forte dux qui in vexatione filiae nimium contrista\n",
            "mecumpt He forte dux qui invexatione filiae minium contriftia \n",
            "\n",
            "================================================================================================================================================================================================================================================================================================================================================================================================================================================================================================================================================================================================================================================================================================================================================================================================================================================================================================================================================================================================================================================================ \n",
            "\n"
          ]
        },
        {
          "output_type": "display_data",
          "data": {
            "text/plain": [
              "<PIL.Image.Image image mode=L size=1024x128 at 0x7F17D3C3AC10>"
            ],
            "image/png": "[encoded data removed]"
          },
          "metadata": {}
        },
        {
          "output_type": "stream",
          "name": "stdout",
          "text": [
            "per eplam magistri sui italiam dicerent invitatum His dic\n",
            "per epsam magistri sui italam dicerent invitatumpt Hs dic \n",
            "\n",
            "================================================================================================================================================================================================================================================================================================================================================================================================================================================================================================================================================================================================================================================================================================================================================================================================================================================================================================================================================================================================================================================================ \n",
            "\n"
          ]
        },
        {
          "output_type": "display_data",
          "data": {
            "text/plain": [
              "<PIL.Image.Image image mode=L size=1024x128 at 0x7F17D3C3A1D0>"
            ],
            "image/png": "[encoded data removed]"
          },
          "metadata": {}
        },
        {
          "output_type": "stream",
          "name": "stdout",
          "text": [
            "interdixit ne quis illorum cuipiam quo pergeret indicaret\n",
            "inter dixitpt nequis illorum cuipiam quo pergeret indicaretpt \n",
            "\n",
            "================================================================================================================================================================================================================================================================================================================================================================================================================================================================================================================================================================================================================================================================================================================================================================================================================================================================================================================================================================================================================================================================ \n",
            "\n"
          ]
        },
        {
          "output_type": "display_data",
          "data": {
            "text/plain": [
              "<PIL.Image.Image image mode=L size=1024x128 at 0x7F17D3C3A590>"
            ],
            "image/png": "[encoded data removed]"
          },
          "metadata": {}
        },
        {
          "output_type": "stream",
          "name": "stdout",
          "text": [
            "t consurgens ad electae pridem habitationis locum miles\n",
            "t consurgens adelectae pridem habitationis locumpt miles \n",
            "\n",
            "================================================================================================================================================================================================================================================================================================================================================================================================================================================================================================================================================================================================================================================================================================================================================================================================================================================================================================================================================================================================================================================================ \n",
            "\n"
          ]
        },
        {
          "output_type": "display_data",
          "data": {
            "text/plain": [
              "<PIL.Image.Image image mode=L size=1024x128 at 0x7F17D3C3ACD0>"
            ],
            "image/png": "[encoded data removed]"
          },
          "metadata": {}
        },
        {
          "output_type": "stream",
          "name": "stdout",
          "text": [
            "tissimum praesumebat cum donis regiis ad puellam ut eam\n",
            "tissimum presumebat cum donis regus ad puellampt ut eam \n",
            "\n",
            "================================================================================================================================================================================================================================================================================================================================================================================================================================================================================================================================================================================================================================================================================================================================================================================================================================================================================================================================================================================================================================================================ \n",
            "\n"
          ]
        },
        {
          "output_type": "display_data",
          "data": {
            "text/plain": [
              "<PIL.Image.Image image mode=L size=1024x128 at 0x7F17D3C3AFD0>"
            ],
            "image/png": "[encoded data removed]"
          },
          "metadata": {}
        },
        {
          "output_type": "stream",
          "name": "stdout",
          "text": [
            "sigibertum theoderici filium qui eam habuit desponsatam ut\n",
            "sigibertum theoderici filum qui eam habuit de sponsatampt ut \n",
            "\n"
          ]
        }
      ]
    },
    {
      "cell_type": "markdown",
      "source": [
        "## 2.6 Evaluation"
      ],
      "metadata": {
        "id": "_KRmv0258yL6"
      }
    },
    {
      "cell_type": "code",
      "source": [
        "import string\n",
        "import unicodedata\n",
        "import editdistance\n",
        "import numpy as np\n",
        "\n",
        "\n",
        "def ocr_metrics(predicts, ground_truth, norm_accentuation=False, norm_punctuation=False):\n",
        "    \"\"\"Calculate Character Error Rate (CER), Word Error Rate (WER) and Sequence Error Rate (SER)\"\"\"\n",
        "\n",
        "    if len(predicts) == 0 or len(ground_truth) == 0:\n",
        "        return (1, 1, 1)\n",
        "\n",
        "    cer, wer, ser = [], [], []\n",
        "\n",
        "    for (pd, gt) in zip(predicts, ground_truth):\n",
        "        pd, gt = pd.lower(), gt.lower()\n",
        "\n",
        "        if norm_accentuation:\n",
        "            pd = unicodedata.normalize(\"NFKD\", pd).encode(\"ASCII\", \"ignore\").decode(\"ASCII\")\n",
        "            gt = unicodedata.normalize(\"NFKD\", gt).encode(\"ASCII\", \"ignore\").decode(\"ASCII\")\n",
        "\n",
        "        if norm_punctuation:\n",
        "            pd = pd.translate(str.maketrans(\"\", \"\", string.punctuation))\n",
        "            gt = gt.translate(str.maketrans(\"\", \"\", string.punctuation))\n",
        "\n",
        "        pd_cer, gt_cer = list(pd), list(gt)\n",
        "        dist = editdistance.eval(pd_cer, gt_cer)\n",
        "        cer.append(dist / (max(len(pd_cer), len(gt_cer))))\n",
        "\n",
        "        pd_wer, gt_wer = pd.split(), gt.split()\n",
        "        dist = editdistance.eval(pd_wer, gt_wer)\n",
        "        wer.append(dist / (max(len(pd_wer), len(gt_wer))))\n",
        "\n",
        "        pd_ser, gt_ser = [pd], [gt]\n",
        "        dist = editdistance.eval(pd_ser, gt_ser)\n",
        "        ser.append(dist / (max(len(pd_ser), len(gt_ser))))\n",
        "\n",
        "    metrics = [cer, wer, ser]\n",
        "    metrics = np.mean(metrics, axis=1)\n",
        "\n",
        "    return metrics\n"
      ],
      "metadata": {
        "id": "lyRtbhP68ofq"
      },
      "execution_count": null,
      "outputs": []
    },
    {
      "cell_type": "code",
      "source": [
        "evaluate = ocr_metrics(predicts, ground_truth)\n",
        "\n",
        "e_corpus = \"\\n\".join([\n",
        "    f\"Total test images:    {dtgen.size['test']}\",\n",
        "    f\"Total time:           {total_time}\",\n",
        "    f\"Time per item:        {total_time / dtgen.size['test']}\\n\",\n",
        "    f\"Metrics:\",\n",
        "    f\"Character Error Rate: {evaluate[0]:.8f}\",\n",
        "    f\"Word Error Rate:      {evaluate[1]:.8f}\",\n",
        "    f\"Sequence Error Rate:  {evaluate[2]:.8f}\"\n",
        "])\n",
        "\n",
        "with open(os.path.join(output_path, \"evaluate.txt\"), \"w\") as lg:\n",
        "    lg.write(e_corpus)\n",
        "    print(e_corpus)"
      ],
      "metadata": {
        "colab": {
          "base_uri": "https://localhost:8080/"
        },
        "id": "QOIgQptP83Gk",
        "outputId": "5c576488-0e25-4530-f9aa-3c1ea4089547"
      },
      "execution_count": null,
      "outputs": [
        {
          "output_type": "stream",
          "name": "stdout",
          "text": [
            "Total test images:    707\n",
            "Total time:           0:01:37.492979\n",
            "Time per item:        0:00:00.137897\n",
            "\n",
            "Metrics:\n",
            "Character Error Rate: 0.08846771\n",
            "Word Error Rate:      0.38661191\n",
            "Sequence Error Rate:  0.99151344\n"
          ]
        }
      ]
    },
    {
      "cell_type": "markdown",
      "source": [
        "# bentham dataset"
      ],
      "metadata": {
        "id": "qQOQuptC9Y8e"
      }
    },
    {
      "cell_type": "markdown",
      "source": [
        "## 3.1 Dataset Preparation"
      ],
      "metadata": {
        "id": "4fstZa0u9fJ2"
      }
    },
    {
      "cell_type": "code",
      "source": [
        "import os\n",
        "import datetime\n",
        "import string\n",
        "\n",
        "# define parameters\n",
        "source = \"bentham\"\n",
        "\n",
        "epochs = 1000\n",
        "batch_size = 16\n",
        "\n",
        "# define paths\n",
        "source_path = os.path.join(\"data\", f\"{source}.hdf5\")\n",
        "output_path = os.path.join( \"output\", source, arch)\n",
        "target_path = os.path.join(output_path, \"checkpoint_weights.hdf5\")\n",
        "os.makedirs(output_path, exist_ok=True)\n",
        "\n",
        "# define input size, number max of chars per line and list of valid chars\n",
        "input_size = (1024, 128, 1)\n",
        "max_text_length = 128\n",
        "charset_base = string.printable[:95]\n",
        "\n",
        "print(\"source:\", source_path)\n",
        "print(\"output\", output_path)\n",
        "print(\"target\", target_path)\n",
        "print(\"charset:\", charset_base)"
      ],
      "metadata": {
        "colab": {
          "base_uri": "https://localhost:8080/"
        },
        "id": "LHDOlqA886qX",
        "outputId": "77568997-e6d5-4ac6-fcb5-3838e3671d35"
      },
      "execution_count": null,
      "outputs": [
        {
          "output_type": "stream",
          "name": "stdout",
          "text": [
            "source: data/bentham.hdf5\n",
            "output output/bentham/puigcerver\n",
            "target output/bentham/puigcerver/checkpoint_weights.hdf5\n",
            "charset: 0123456789abcdefghijklmnopqrstuvwxyzABCDEFGHIJKLMNOPQRSTUVWXYZ!\"#$%&'()*+,-./:;<=>?@[\\]^_`{|}~ \n"
          ]
        }
      ]
    },
    {
      "cell_type": "markdown",
      "source": [
        "## 3.2 Dataset Generator"
      ],
      "metadata": {
        "id": "G0GUroM_9mjy"
      }
    },
    {
      "cell_type": "code",
      "source": [
        "source_path = \"bentham.hdf5\""
      ],
      "metadata": {
        "id": "KM3v1Bpc9ioV"
      },
      "execution_count": null,
      "outputs": []
    },
    {
      "cell_type": "code",
      "source": [
        "dtgen = DataGenerator(source=source_path,\n",
        "                      batch_size=batch_size,\n",
        "                      charset=charset_base,\n",
        "                      max_text_length=max_text_length)\n",
        "\n",
        "print(f\"Train images: {dtgen.size['train']}\")\n",
        "print(f\"Validation images: {dtgen.size['valid']}\")\n",
        "print(f\"Test images: {dtgen.size['test']}\")"
      ],
      "metadata": {
        "colab": {
          "base_uri": "https://localhost:8080/"
        },
        "id": "RuSE00C891QJ",
        "outputId": "636df84c-54cf-47f0-f23e-b71d3d2eff3a"
      },
      "execution_count": null,
      "outputs": [
        {
          "output_type": "stream",
          "name": "stdout",
          "text": [
            "Train images: 8807\n",
            "Validation images: 1372\n",
            "Test images: 820\n"
          ]
        }
      ]
    },
    {
      "cell_type": "markdown",
      "source": [
        "## 3.3 Model Architecture"
      ],
      "metadata": {
        "id": "J1kdSc_A95iZ"
      }
    },
    {
      "cell_type": "code",
      "source": [
        "# create and compile HTRModel\n",
        "model = HTRModel(architecture=arch,\n",
        "                 input_size=input_size,\n",
        "                 vocab_size=dtgen.tokenizer.vocab_size,\n",
        "                 beam_width=10,\n",
        "                 stop_tolerance=20,\n",
        "                 reduce_tolerance=15,\n",
        "                 reduce_factor=0.1)\n",
        "\n",
        "model.compile(learning_rate=0.001)\n",
        "model.summary(output_path, \"summary.txt\")\n",
        "\n",
        "# get default callbacks and load checkpoint weights file (HDF5) if exists\n",
        "model.load_checkpoint(target=target_path)\n",
        "\n",
        "callbacks = model.get_callbacks(logdir=output_path, checkpoint=target_path, verbose=1)"
      ],
      "metadata": {
        "colab": {
          "base_uri": "https://localhost:8080/"
        },
        "id": "XfkNafgf93tI",
        "outputId": "127cac80-99c9-4268-c1e5-d5e62a0a357c"
      },
      "execution_count": null,
      "outputs": [
        {
          "output_type": "stream",
          "name": "stdout",
          "text": [
            "Model: \"model\"\n",
            "_________________________________________________________________\n",
            " Layer (type)                Output Shape              Param #   \n",
            "=================================================================\n",
            " input (InputLayer)          [(None, 1024, 128, 1)]    0         \n",
            "                                                                 \n",
            " conv2d (Conv2D)             (None, 1024, 128, 16)     160       \n",
            "                                                                 \n",
            " batch_normalization (BatchN  (None, 1024, 128, 16)    64        \n",
            " ormalization)                                                   \n",
            "                                                                 \n",
            " leaky_re_lu (LeakyReLU)     (None, 1024, 128, 16)     0         \n",
            "                                                                 \n",
            " max_pooling2d (MaxPooling2D  (None, 512, 64, 16)      0         \n",
            " )                                                               \n",
            "                                                                 \n",
            " conv2d_1 (Conv2D)           (None, 512, 64, 32)       4640      \n",
            "                                                                 \n",
            " batch_normalization_1 (Batc  (None, 512, 64, 32)      128       \n",
            " hNormalization)                                                 \n",
            "                                                                 \n",
            " leaky_re_lu_1 (LeakyReLU)   (None, 512, 64, 32)       0         \n",
            "                                                                 \n",
            " max_pooling2d_1 (MaxPooling  (None, 256, 32, 32)      0         \n",
            " 2D)                                                             \n",
            "                                                                 \n",
            " dropout (Dropout)           (None, 256, 32, 32)       0         \n",
            "                                                                 \n",
            " conv2d_2 (Conv2D)           (None, 256, 32, 48)       13872     \n",
            "                                                                 \n",
            " batch_normalization_2 (Batc  (None, 256, 32, 48)      192       \n",
            " hNormalization)                                                 \n",
            "                                                                 \n",
            " leaky_re_lu_2 (LeakyReLU)   (None, 256, 32, 48)       0         \n",
            "                                                                 \n",
            " max_pooling2d_2 (MaxPooling  (None, 128, 16, 48)      0         \n",
            " 2D)                                                             \n",
            "                                                                 \n",
            " dropout_1 (Dropout)         (None, 128, 16, 48)       0         \n",
            "                                                                 \n",
            " conv2d_3 (Conv2D)           (None, 128, 16, 64)       27712     \n",
            "                                                                 \n",
            " batch_normalization_3 (Batc  (None, 128, 16, 64)      256       \n",
            " hNormalization)                                                 \n",
            "                                                                 \n",
            " leaky_re_lu_3 (LeakyReLU)   (None, 128, 16, 64)       0         \n",
            "                                                                 \n",
            " dropout_2 (Dropout)         (None, 128, 16, 64)       0         \n",
            "                                                                 \n",
            " conv2d_4 (Conv2D)           (None, 128, 16, 80)       46160     \n",
            "                                                                 \n",
            " batch_normalization_4 (Batc  (None, 128, 16, 80)      320       \n",
            " hNormalization)                                                 \n",
            "                                                                 \n",
            " leaky_re_lu_4 (LeakyReLU)   (None, 128, 16, 80)       0         \n",
            "                                                                 \n",
            " reshape (Reshape)           (None, 128, 1280)         0         \n",
            "                                                                 \n",
            " bidirectional (Bidirectiona  (None, 128, 512)         3147776   \n",
            " l)                                                              \n",
            "                                                                 \n",
            " bidirectional_1 (Bidirectio  (None, 128, 512)         1574912   \n",
            " nal)                                                            \n",
            "                                                                 \n",
            " bidirectional_2 (Bidirectio  (None, 128, 512)         1574912   \n",
            " nal)                                                            \n",
            "                                                                 \n",
            " bidirectional_3 (Bidirectio  (None, 128, 512)         1574912   \n",
            " nal)                                                            \n",
            "                                                                 \n",
            " bidirectional_4 (Bidirectio  (None, 128, 512)         1574912   \n",
            " nal)                                                            \n",
            "                                                                 \n",
            " dropout_3 (Dropout)         (None, 128, 512)          0         \n",
            "                                                                 \n",
            " dense (Dense)               (None, 128, 98)           50274     \n",
            "                                                                 \n",
            "=================================================================\n",
            "Total params: 9,591,202\n",
            "Trainable params: 9,590,722\n",
            "Non-trainable params: 480\n",
            "_________________________________________________________________\n"
          ]
        }
      ]
    },
    {
      "cell_type": "markdown",
      "source": [
        "## 3.4 Training"
      ],
      "metadata": {
        "id": "ykhD-HVp-UGv"
      }
    },
    {
      "cell_type": "code",
      "source": [
        "output_path"
      ],
      "metadata": {
        "colab": {
          "base_uri": "https://localhost:8080/",
          "height": 37
        },
        "id": "IMRPfYyj-Qv0",
        "outputId": "12f7449f-93b8-43aa-c6ac-c66a1eb84d23"
      },
      "execution_count": null,
      "outputs": [
        {
          "output_type": "execute_result",
          "data": {
            "text/plain": [
              "'output/bentham/puigcerver'"
            ],
            "application/vnd.google.colaboratory.intrinsic+json": {
              "type": "string"
            }
          },
          "metadata": {},
          "execution_count": 14
        }
      ]
    },
    {
      "cell_type": "code",
      "source": [
        "# to calculate total and average time per epoch\n",
        "start_time = datetime.datetime.now()\n",
        "\n",
        "h = model.fit(x=dtgen.next_train_batch(),\n",
        "              epochs=epochs,\n",
        "              steps_per_epoch=dtgen.steps['train'],\n",
        "              validation_data=dtgen.next_valid_batch(),\n",
        "              validation_steps=dtgen.steps['valid'],\n",
        "              callbacks=callbacks,\n",
        "              shuffle=True,\n",
        "              verbose=1)\n",
        "\n",
        "total_time = datetime.datetime.now() - start_time\n",
        "\n",
        "loss = h.history['loss']\n",
        "val_loss = h.history['val_loss']\n",
        "\n",
        "min_val_loss = min(val_loss)\n",
        "min_val_loss_i = val_loss.index(min_val_loss)\n",
        "\n",
        "time_epoch = (total_time / len(loss))\n",
        "total_item = (dtgen.size['train'] + dtgen.size['valid'])\n",
        "\n",
        "t_corpus = \"\\n\".join([\n",
        "    f\"Total train images:      {dtgen.size['train']}\",\n",
        "    f\"Total validation images: {dtgen.size['valid']}\",\n",
        "    f\"Batch:                   {dtgen.batch_size}\\n\",\n",
        "    f\"Total time:              {total_time}\",\n",
        "    f\"Time per epoch:          {time_epoch}\",\n",
        "    f\"Time per item:           {time_epoch / total_item}\\n\",\n",
        "    f\"Total epochs:            {len(loss)}\",\n",
        "    f\"Best epoch               {min_val_loss_i + 1}\\n\",\n",
        "    f\"Training loss:           {loss[min_val_loss_i]:.8f}\",\n",
        "    f\"Validation loss:         {min_val_loss:.8f}\"\n",
        "])\n",
        "\n",
        "with open(os.path.join(output_path, \"train.txt\"), \"w\") as lg:\n",
        "    lg.write(t_corpus)\n",
        "    print(t_corpus)"
      ],
      "metadata": {
        "colab": {
          "base_uri": "https://localhost:8080/"
        },
        "id": "gKWvgmjr-X7D",
        "outputId": "4094807e-39f5-4b7c-c5a2-74bd7427f6f3"
      },
      "execution_count": null,
      "outputs": [
        {
          "output_type": "stream",
          "name": "stdout",
          "text": [
            "Epoch 1/1000\n",
            "551/551 [==============================] - ETA: 0s - loss: 146.8924\n",
            "Epoch 1: val_loss improved from inf to 128.23441, saving model to output/bentham/puigcerver/checkpoint_weights.hdf5\n",
            "551/551 [==============================] - 131s 192ms/step - loss: 146.8924 - val_loss: 128.2344 - lr: 0.0010\n",
            "Epoch 2/1000\n",
            "551/551 [==============================] - ETA: 0s - loss: 111.5587\n",
            "Epoch 2: val_loss improved from 128.23441 to 91.59689, saving model to output/bentham/puigcerver/checkpoint_weights.hdf5\n",
            "551/551 [==============================] - 98s 179ms/step - loss: 111.5587 - val_loss: 91.5969 - lr: 0.0010\n",
            "Epoch 3/1000\n",
            "551/551 [==============================] - ETA: 0s - loss: 86.2788\n",
            "Epoch 3: val_loss improved from 91.59689 to 75.24026, saving model to output/bentham/puigcerver/checkpoint_weights.hdf5\n",
            "551/551 [==============================] - 102s 185ms/step - loss: 86.2788 - val_loss: 75.2403 - lr: 0.0010\n",
            "Epoch 4/1000\n",
            "551/551 [==============================] - ETA: 0s - loss: 72.3388\n",
            "Epoch 4: val_loss improved from 75.24026 to 62.91719, saving model to output/bentham/puigcerver/checkpoint_weights.hdf5\n",
            "551/551 [==============================] - 102s 185ms/step - loss: 72.3388 - val_loss: 62.9172 - lr: 0.0010\n",
            "Epoch 5/1000\n",
            "551/551 [==============================] - ETA: 0s - loss: 59.5239\n",
            "Epoch 5: val_loss improved from 62.91719 to 47.27062, saving model to output/bentham/puigcerver/checkpoint_weights.hdf5\n",
            "551/551 [==============================] - 97s 177ms/step - loss: 59.5239 - val_loss: 47.2706 - lr: 0.0010\n",
            "Epoch 6/1000\n",
            "551/551 [==============================] - ETA: 0s - loss: 48.9473\n",
            "Epoch 6: val_loss improved from 47.27062 to 36.51523, saving model to output/bentham/puigcerver/checkpoint_weights.hdf5\n",
            "551/551 [==============================] - 99s 179ms/step - loss: 48.9473 - val_loss: 36.5152 - lr: 0.0010\n",
            "Epoch 7/1000\n",
            "551/551 [==============================] - ETA: 0s - loss: 41.3255\n",
            "Epoch 7: val_loss improved from 36.51523 to 30.16390, saving model to output/bentham/puigcerver/checkpoint_weights.hdf5\n",
            "551/551 [==============================] - 100s 182ms/step - loss: 41.3255 - val_loss: 30.1639 - lr: 0.0010\n",
            "Epoch 8/1000\n",
            "551/551 [==============================] - ETA: 0s - loss: 35.2220\n",
            "Epoch 8: val_loss improved from 30.16390 to 25.95058, saving model to output/bentham/puigcerver/checkpoint_weights.hdf5\n",
            "551/551 [==============================] - 104s 188ms/step - loss: 35.2220 - val_loss: 25.9506 - lr: 0.0010\n",
            "Epoch 9/1000\n",
            "551/551 [==============================] - ETA: 0s - loss: 30.9555\n",
            "Epoch 9: val_loss improved from 25.95058 to 21.43159, saving model to output/bentham/puigcerver/checkpoint_weights.hdf5\n",
            "551/551 [==============================] - 96s 175ms/step - loss: 30.9555 - val_loss: 21.4316 - lr: 0.0010\n",
            "Epoch 10/1000\n",
            "551/551 [==============================] - ETA: 0s - loss: 27.6360\n",
            "Epoch 10: val_loss improved from 21.43159 to 19.64913, saving model to output/bentham/puigcerver/checkpoint_weights.hdf5\n",
            "551/551 [==============================] - 100s 182ms/step - loss: 27.6360 - val_loss: 19.6491 - lr: 0.0010\n",
            "Epoch 11/1000\n",
            "551/551 [==============================] - ETA: 0s - loss: 25.1611\n",
            "Epoch 11: val_loss improved from 19.64913 to 18.70527, saving model to output/bentham/puigcerver/checkpoint_weights.hdf5\n",
            "551/551 [==============================] - 98s 178ms/step - loss: 25.1611 - val_loss: 18.7053 - lr: 0.0010\n",
            "Epoch 12/1000\n",
            "551/551 [==============================] - ETA: 0s - loss: 23.2712\n",
            "Epoch 12: val_loss improved from 18.70527 to 16.63349, saving model to output/bentham/puigcerver/checkpoint_weights.hdf5\n",
            "551/551 [==============================] - 99s 179ms/step - loss: 23.2712 - val_loss: 16.6335 - lr: 0.0010\n",
            "Epoch 13/1000\n",
            "551/551 [==============================] - ETA: 0s - loss: 21.9326\n",
            "Epoch 13: val_loss did not improve from 16.63349\n",
            "551/551 [==============================] - 96s 175ms/step - loss: 21.9326 - val_loss: 16.9583 - lr: 0.0010\n",
            "Epoch 14/1000\n",
            "551/551 [==============================] - ETA: 0s - loss: 20.5429\n",
            "Epoch 14: val_loss improved from 16.63349 to 15.20054, saving model to output/bentham/puigcerver/checkpoint_weights.hdf5\n",
            "551/551 [==============================] - 103s 187ms/step - loss: 20.5429 - val_loss: 15.2005 - lr: 0.0010\n",
            "Epoch 15/1000\n",
            "551/551 [==============================] - ETA: 0s - loss: 19.5185\n",
            "Epoch 15: val_loss improved from 15.20054 to 14.02332, saving model to output/bentham/puigcerver/checkpoint_weights.hdf5\n",
            "551/551 [==============================] - 98s 177ms/step - loss: 19.5185 - val_loss: 14.0233 - lr: 0.0010\n",
            "Epoch 16/1000\n",
            "551/551 [==============================] - ETA: 0s - loss: 18.7074\n",
            "Epoch 16: val_loss did not improve from 14.02332\n",
            "551/551 [==============================] - 99s 179ms/step - loss: 18.7074 - val_loss: 14.0531 - lr: 0.0010\n",
            "Epoch 17/1000\n",
            "551/551 [==============================] - ETA: 0s - loss: 17.9607\n",
            "Epoch 17: val_loss improved from 14.02332 to 13.03008, saving model to output/bentham/puigcerver/checkpoint_weights.hdf5\n",
            "551/551 [==============================] - 101s 183ms/step - loss: 17.9607 - val_loss: 13.0301 - lr: 0.0010\n",
            "Epoch 18/1000\n",
            "551/551 [==============================] - ETA: 0s - loss: 17.3356\n",
            "Epoch 18: val_loss did not improve from 13.03008\n",
            "551/551 [==============================] - 101s 182ms/step - loss: 17.3356 - val_loss: 13.0478 - lr: 0.0010\n",
            "Epoch 19/1000\n",
            "551/551 [==============================] - ETA: 0s - loss: 16.6364\n",
            "Epoch 19: val_loss did not improve from 13.03008\n",
            "551/551 [==============================] - 96s 173ms/step - loss: 16.6364 - val_loss: 13.2087 - lr: 0.0010\n",
            "Epoch 20/1000\n",
            "551/551 [==============================] - ETA: 0s - loss: 16.0744\n",
            "Epoch 20: val_loss improved from 13.03008 to 12.41988, saving model to output/bentham/puigcerver/checkpoint_weights.hdf5\n",
            "551/551 [==============================] - 101s 183ms/step - loss: 16.0744 - val_loss: 12.4199 - lr: 0.0010\n",
            "Epoch 21/1000\n",
            "551/551 [==============================] - ETA: 0s - loss: 15.6428\n",
            "Epoch 21: val_loss improved from 12.41988 to 12.41754, saving model to output/bentham/puigcerver/checkpoint_weights.hdf5\n",
            "551/551 [==============================] - 98s 178ms/step - loss: 15.6428 - val_loss: 12.4175 - lr: 0.0010\n",
            "Epoch 22/1000\n",
            "551/551 [==============================] - ETA: 0s - loss: 15.1621\n",
            "Epoch 22: val_loss improved from 12.41754 to 11.82359, saving model to output/bentham/puigcerver/checkpoint_weights.hdf5\n",
            "551/551 [==============================] - 97s 176ms/step - loss: 15.1621 - val_loss: 11.8236 - lr: 0.0010\n",
            "Epoch 23/1000\n",
            "551/551 [==============================] - ETA: 0s - loss: 14.8201\n",
            "Epoch 23: val_loss did not improve from 11.82359\n",
            "551/551 [==============================] - 102s 185ms/step - loss: 14.8201 - val_loss: 12.7375 - lr: 0.0010\n",
            "Epoch 24/1000\n",
            "551/551 [==============================] - ETA: 0s - loss: 14.5000\n",
            "Epoch 24: val_loss improved from 11.82359 to 11.39528, saving model to output/bentham/puigcerver/checkpoint_weights.hdf5\n",
            "551/551 [==============================] - 97s 177ms/step - loss: 14.5000 - val_loss: 11.3953 - lr: 0.0010\n",
            "Epoch 25/1000\n",
            "551/551 [==============================] - ETA: 0s - loss: 14.1364\n",
            "Epoch 25: val_loss improved from 11.39528 to 11.13144, saving model to output/bentham/puigcerver/checkpoint_weights.hdf5\n",
            "551/551 [==============================] - 97s 177ms/step - loss: 14.1364 - val_loss: 11.1314 - lr: 0.0010\n",
            "Epoch 26/1000\n",
            "551/551 [==============================] - ETA: 0s - loss: 13.7459\n",
            "Epoch 26: val_loss did not improve from 11.13144\n",
            "551/551 [==============================] - 98s 177ms/step - loss: 13.7459 - val_loss: 11.3362 - lr: 0.0010\n",
            "Epoch 27/1000\n",
            "551/551 [==============================] - ETA: 0s - loss: 13.5449\n",
            "Epoch 27: val_loss did not improve from 11.13144\n",
            "551/551 [==============================] - 96s 174ms/step - loss: 13.5449 - val_loss: 11.7252 - lr: 0.0010\n",
            "Epoch 28/1000\n",
            "551/551 [==============================] - ETA: 0s - loss: 13.3104\n",
            "Epoch 28: val_loss improved from 11.13144 to 10.89492, saving model to output/bentham/puigcerver/checkpoint_weights.hdf5\n",
            "551/551 [==============================] - 102s 186ms/step - loss: 13.3104 - val_loss: 10.8949 - lr: 0.0010\n",
            "Epoch 29/1000\n",
            "551/551 [==============================] - ETA: 0s - loss: 13.0623\n",
            "Epoch 29: val_loss did not improve from 10.89492\n",
            "551/551 [==============================] - 100s 182ms/step - loss: 13.0623 - val_loss: 11.4879 - lr: 0.0010\n",
            "Epoch 30/1000\n",
            "551/551 [==============================] - ETA: 0s - loss: 12.9009\n",
            "Epoch 30: val_loss improved from 10.89492 to 10.57891, saving model to output/bentham/puigcerver/checkpoint_weights.hdf5\n",
            "551/551 [==============================] - 99s 179ms/step - loss: 12.9009 - val_loss: 10.5789 - lr: 0.0010\n",
            "Epoch 31/1000\n",
            "551/551 [==============================] - ETA: 0s - loss: 12.6167\n",
            "Epoch 31: val_loss did not improve from 10.57891\n",
            "551/551 [==============================] - 97s 177ms/step - loss: 12.6167 - val_loss: 11.0099 - lr: 0.0010\n",
            "Epoch 32/1000\n",
            "551/551 [==============================] - ETA: 0s - loss: 12.4567\n",
            "Epoch 32: val_loss improved from 10.57891 to 10.54787, saving model to output/bentham/puigcerver/checkpoint_weights.hdf5\n",
            "551/551 [==============================] - 102s 185ms/step - loss: 12.4567 - val_loss: 10.5479 - lr: 0.0010\n",
            "Epoch 33/1000\n",
            "551/551 [==============================] - ETA: 0s - loss: 12.4843\n",
            "Epoch 33: val_loss did not improve from 10.54787\n",
            "551/551 [==============================] - 100s 182ms/step - loss: 12.4843 - val_loss: 10.8092 - lr: 0.0010\n",
            "Epoch 34/1000\n",
            "551/551 [==============================] - ETA: 0s - loss: 11.9698\n",
            "Epoch 34: val_loss improved from 10.54787 to 10.12209, saving model to output/bentham/puigcerver/checkpoint_weights.hdf5\n",
            "551/551 [==============================] - 96s 175ms/step - loss: 11.9698 - val_loss: 10.1221 - lr: 0.0010\n",
            "Epoch 35/1000\n",
            "551/551 [==============================] - ETA: 0s - loss: 11.8379\n",
            "Epoch 35: val_loss did not improve from 10.12209\n",
            "551/551 [==============================] - 99s 180ms/step - loss: 11.8379 - val_loss: 10.4245 - lr: 0.0010\n",
            "Epoch 36/1000\n",
            "551/551 [==============================] - ETA: 0s - loss: 11.7096\n",
            "Epoch 36: val_loss did not improve from 10.12209\n",
            "551/551 [==============================] - 95s 173ms/step - loss: 11.7096 - val_loss: 10.3756 - lr: 0.0010\n",
            "Epoch 37/1000\n",
            "551/551 [==============================] - ETA: 0s - loss: 11.4510\n",
            "Epoch 37: val_loss did not improve from 10.12209\n",
            "551/551 [==============================] - 100s 182ms/step - loss: 11.4510 - val_loss: 10.3641 - lr: 0.0010\n",
            "Epoch 38/1000\n",
            "551/551 [==============================] - ETA: 0s - loss: 11.2036\n",
            "Epoch 38: val_loss did not improve from 10.12209\n",
            "551/551 [==============================] - 98s 177ms/step - loss: 11.2036 - val_loss: 10.6349 - lr: 0.0010\n",
            "Epoch 39/1000\n",
            "551/551 [==============================] - ETA: 0s - loss: 11.2095\n",
            "Epoch 39: val_loss did not improve from 10.12209\n",
            "551/551 [==============================] - 97s 176ms/step - loss: 11.2095 - val_loss: 10.3426 - lr: 0.0010\n",
            "Epoch 40/1000\n",
            "551/551 [==============================] - ETA: 0s - loss: 10.9431\n",
            "Epoch 40: val_loss improved from 10.12209 to 9.99300, saving model to output/bentham/puigcerver/checkpoint_weights.hdf5\n",
            "551/551 [==============================] - 96s 175ms/step - loss: 10.9431 - val_loss: 9.9930 - lr: 0.0010\n",
            "Epoch 41/1000\n",
            "551/551 [==============================] - ETA: 0s - loss: 10.9076\n",
            "Epoch 41: val_loss improved from 9.99300 to 9.96281, saving model to output/bentham/puigcerver/checkpoint_weights.hdf5\n",
            "551/551 [==============================] - 98s 179ms/step - loss: 10.9076 - val_loss: 9.9628 - lr: 0.0010\n",
            "Epoch 42/1000\n",
            "551/551 [==============================] - ETA: 0s - loss: 10.8597\n",
            "Epoch 42: val_loss did not improve from 9.96281\n",
            "551/551 [==============================] - 102s 186ms/step - loss: 10.8597 - val_loss: 10.2091 - lr: 0.0010\n",
            "Epoch 43/1000\n",
            "551/551 [==============================] - ETA: 0s - loss: 10.6652\n",
            "Epoch 43: val_loss did not improve from 9.96281\n",
            "551/551 [==============================] - 96s 174ms/step - loss: 10.6652 - val_loss: 10.3454 - lr: 0.0010\n",
            "Epoch 44/1000\n",
            "551/551 [==============================] - ETA: 0s - loss: 10.5788\n",
            "Epoch 44: val_loss did not improve from 9.96281\n",
            "551/551 [==============================] - 96s 175ms/step - loss: 10.5788 - val_loss: 10.0080 - lr: 0.0010\n",
            "Epoch 45/1000\n",
            "551/551 [==============================] - ETA: 0s - loss: 10.3831\n",
            "Epoch 45: val_loss did not improve from 9.96281\n",
            "551/551 [==============================] - 102s 186ms/step - loss: 10.3831 - val_loss: 10.0175 - lr: 0.0010\n",
            "Epoch 46/1000\n",
            "551/551 [==============================] - ETA: 0s - loss: 10.3660\n",
            "Epoch 46: val_loss did not improve from 9.96281\n",
            "551/551 [==============================] - 101s 183ms/step - loss: 10.3660 - val_loss: 10.5590 - lr: 0.0010\n",
            "Epoch 47/1000\n",
            "551/551 [==============================] - ETA: 0s - loss: 10.4007\n",
            "Epoch 47: val_loss did not improve from 9.96281\n",
            "551/551 [==============================] - 99s 180ms/step - loss: 10.4007 - val_loss: 10.1727 - lr: 0.0010\n",
            "Epoch 48/1000\n",
            "551/551 [==============================] - ETA: 0s - loss: 10.1324\n",
            "Epoch 48: val_loss improved from 9.96281 to 9.76304, saving model to output/bentham/puigcerver/checkpoint_weights.hdf5\n",
            "551/551 [==============================] - 98s 177ms/step - loss: 10.1324 - val_loss: 9.7630 - lr: 0.0010\n",
            "Epoch 49/1000\n",
            "551/551 [==============================] - ETA: 0s - loss: 10.0889\n",
            "Epoch 49: val_loss did not improve from 9.76304\n",
            "551/551 [==============================] - 96s 173ms/step - loss: 10.0889 - val_loss: 10.1203 - lr: 0.0010\n",
            "Epoch 50/1000\n",
            "551/551 [==============================] - ETA: 0s - loss: 9.9263\n",
            "Epoch 50: val_loss improved from 9.76304 to 9.63489, saving model to output/bentham/puigcerver/checkpoint_weights.hdf5\n",
            "551/551 [==============================] - 102s 185ms/step - loss: 9.9263 - val_loss: 9.6349 - lr: 0.0010\n",
            "Epoch 51/1000\n",
            "551/551 [==============================] - ETA: 0s - loss: 9.7593\n",
            "Epoch 51: val_loss did not improve from 9.63489\n",
            "551/551 [==============================] - 98s 177ms/step - loss: 9.7593 - val_loss: 10.0946 - lr: 0.0010\n",
            "Epoch 52/1000\n",
            "551/551 [==============================] - ETA: 0s - loss: 9.8701\n",
            "Epoch 52: val_loss did not improve from 9.63489\n",
            "551/551 [==============================] - 98s 177ms/step - loss: 9.8701 - val_loss: 10.4109 - lr: 0.0010\n",
            "Epoch 53/1000\n",
            "551/551 [==============================] - ETA: 0s - loss: 9.8094\n",
            "Epoch 53: val_loss did not improve from 9.63489\n",
            "551/551 [==============================] - 100s 181ms/step - loss: 9.8094 - val_loss: 9.8867 - lr: 0.0010\n",
            "Epoch 54/1000\n",
            "551/551 [==============================] - ETA: 0s - loss: 9.5312\n",
            "Epoch 54: val_loss did not improve from 9.63489\n",
            "551/551 [==============================] - 99s 179ms/step - loss: 9.5312 - val_loss: 9.6902 - lr: 0.0010\n",
            "Epoch 55/1000\n",
            "551/551 [==============================] - ETA: 0s - loss: 9.5418\n",
            "Epoch 55: val_loss did not improve from 9.63489\n",
            "551/551 [==============================] - 100s 182ms/step - loss: 9.5418 - val_loss: 9.7259 - lr: 0.0010\n",
            "Epoch 56/1000\n",
            "551/551 [==============================] - ETA: 0s - loss: 9.4158\n",
            "Epoch 56: val_loss did not improve from 9.63489\n",
            "551/551 [==============================] - 97s 176ms/step - loss: 9.4158 - val_loss: 10.0132 - lr: 0.0010\n",
            "Epoch 57/1000\n",
            "551/551 [==============================] - ETA: 0s - loss: 9.3291\n",
            "Epoch 57: val_loss did not improve from 9.63489\n",
            "551/551 [==============================] - 103s 187ms/step - loss: 9.3291 - val_loss: 9.9745 - lr: 0.0010\n",
            "Epoch 58/1000\n",
            "551/551 [==============================] - ETA: 0s - loss: 9.3455\n",
            "Epoch 58: val_loss did not improve from 9.63489\n",
            "551/551 [==============================] - 96s 174ms/step - loss: 9.3455 - val_loss: 10.2005 - lr: 0.0010\n",
            "Epoch 59/1000\n",
            "551/551 [==============================] - ETA: 0s - loss: 9.2107\n",
            "Epoch 59: val_loss did not improve from 9.63489\n",
            "551/551 [==============================] - 96s 175ms/step - loss: 9.2107 - val_loss: 10.0355 - lr: 0.0010\n",
            "Epoch 60/1000\n",
            "551/551 [==============================] - ETA: 0s - loss: 9.2209\n",
            "Epoch 60: val_loss did not improve from 9.63489\n",
            "551/551 [==============================] - 102s 186ms/step - loss: 9.2209 - val_loss: 10.0469 - lr: 0.0010\n",
            "Epoch 61/1000\n",
            "551/551 [==============================] - ETA: 0s - loss: 8.9106\n",
            "Epoch 61: val_loss did not improve from 9.63489\n",
            "551/551 [==============================] - 102s 185ms/step - loss: 8.9106 - val_loss: 10.0230 - lr: 0.0010\n",
            "Epoch 62/1000\n",
            "551/551 [==============================] - ETA: 0s - loss: 9.0186\n",
            "Epoch 62: val_loss improved from 9.63489 to 9.60963, saving model to output/bentham/puigcerver/checkpoint_weights.hdf5\n",
            "551/551 [==============================] - 98s 177ms/step - loss: 9.0186 - val_loss: 9.6096 - lr: 0.0010\n",
            "Epoch 63/1000\n",
            "551/551 [==============================] - ETA: 0s - loss: 8.9944\n",
            "Epoch 63: val_loss did not improve from 9.60963\n",
            "551/551 [==============================] - 103s 187ms/step - loss: 8.9944 - val_loss: 10.4463 - lr: 0.0010\n",
            "Epoch 64/1000\n",
            "551/551 [==============================] - ETA: 0s - loss: 8.7356\n",
            "Epoch 64: val_loss did not improve from 9.60963\n",
            "551/551 [==============================] - 96s 173ms/step - loss: 8.7356 - val_loss: 9.6508 - lr: 0.0010\n",
            "Epoch 65/1000\n",
            "551/551 [==============================] - ETA: 0s - loss: 8.8157\n",
            "Epoch 65: val_loss did not improve from 9.60963\n",
            "551/551 [==============================] - 101s 184ms/step - loss: 8.8157 - val_loss: 9.7914 - lr: 0.0010\n",
            "Epoch 66/1000\n",
            "551/551 [==============================] - ETA: 0s - loss: 8.6994\n",
            "Epoch 66: val_loss did not improve from 9.60963\n",
            "551/551 [==============================] - 96s 174ms/step - loss: 8.6994 - val_loss: 9.6801 - lr: 0.0010\n",
            "Epoch 67/1000\n",
            "551/551 [==============================] - ETA: 0s - loss: 8.6734\n",
            "Epoch 67: val_loss did not improve from 9.60963\n",
            "551/551 [==============================] - 97s 177ms/step - loss: 8.6734 - val_loss: 9.9055 - lr: 0.0010\n",
            "Epoch 68/1000\n",
            "551/551 [==============================] - ETA: 0s - loss: 8.4412\n",
            "Epoch 68: val_loss did not improve from 9.60963\n",
            "551/551 [==============================] - 97s 177ms/step - loss: 8.4412 - val_loss: 10.2172 - lr: 0.0010\n",
            "Epoch 69/1000\n",
            "551/551 [==============================] - ETA: 0s - loss: 8.4857\n",
            "Epoch 69: val_loss improved from 9.60963 to 9.53502, saving model to output/bentham/puigcerver/checkpoint_weights.hdf5\n",
            "551/551 [==============================] - 102s 185ms/step - loss: 8.4857 - val_loss: 9.5350 - lr: 0.0010\n",
            "Epoch 70/1000\n",
            "551/551 [==============================] - ETA: 0s - loss: 8.4238\n",
            "Epoch 70: val_loss did not improve from 9.53502\n",
            "551/551 [==============================] - 99s 180ms/step - loss: 8.4238 - val_loss: 9.6312 - lr: 0.0010\n",
            "Epoch 71/1000\n",
            "551/551 [==============================] - ETA: 0s - loss: 8.2592\n",
            "Epoch 71: val_loss did not improve from 9.53502\n",
            "551/551 [==============================] - 102s 185ms/step - loss: 8.2592 - val_loss: 9.9618 - lr: 0.0010\n",
            "Epoch 72/1000\n",
            "551/551 [==============================] - ETA: 0s - loss: 8.1159\n",
            "Epoch 72: val_loss improved from 9.53502 to 9.48018, saving model to output/bentham/puigcerver/checkpoint_weights.hdf5\n",
            "551/551 [==============================] - 100s 182ms/step - loss: 8.1159 - val_loss: 9.4802 - lr: 0.0010\n",
            "Epoch 73/1000\n",
            "551/551 [==============================] - ETA: 0s - loss: 8.3130\n",
            "Epoch 73: val_loss did not improve from 9.48018\n",
            "551/551 [==============================] - 101s 184ms/step - loss: 8.3130 - val_loss: 9.6523 - lr: 0.0010\n",
            "Epoch 74/1000\n",
            "551/551 [==============================] - ETA: 0s - loss: 8.1711\n",
            "Epoch 74: val_loss improved from 9.48018 to 9.37065, saving model to output/bentham/puigcerver/checkpoint_weights.hdf5\n",
            "551/551 [==============================] - 102s 186ms/step - loss: 8.1711 - val_loss: 9.3707 - lr: 0.0010\n",
            "Epoch 75/1000\n",
            "551/551 [==============================] - ETA: 0s - loss: 8.0137\n",
            "Epoch 75: val_loss improved from 9.37065 to 9.35554, saving model to output/bentham/puigcerver/checkpoint_weights.hdf5\n",
            "551/551 [==============================] - 98s 178ms/step - loss: 8.0137 - val_loss: 9.3555 - lr: 0.0010\n",
            "Epoch 76/1000\n",
            "551/551 [==============================] - ETA: 0s - loss: 8.0248\n",
            "Epoch 76: val_loss improved from 9.35554 to 9.32127, saving model to output/bentham/puigcerver/checkpoint_weights.hdf5\n",
            "551/551 [==============================] - 96s 175ms/step - loss: 8.0248 - val_loss: 9.3213 - lr: 0.0010\n",
            "Epoch 77/1000\n",
            "551/551 [==============================] - ETA: 0s - loss: 7.9866\n",
            "Epoch 77: val_loss did not improve from 9.32127\n",
            "551/551 [==============================] - 99s 180ms/step - loss: 7.9866 - val_loss: 9.5410 - lr: 0.0010\n",
            "Epoch 78/1000\n",
            "551/551 [==============================] - ETA: 0s - loss: 7.9804\n",
            "Epoch 78: val_loss improved from 9.32127 to 9.28202, saving model to output/bentham/puigcerver/checkpoint_weights.hdf5\n",
            "551/551 [==============================] - 97s 175ms/step - loss: 7.9804 - val_loss: 9.2820 - lr: 0.0010\n",
            "Epoch 79/1000\n",
            "551/551 [==============================] - ETA: 0s - loss: 7.9314\n",
            "Epoch 79: val_loss did not improve from 9.28202\n",
            "551/551 [==============================] - 99s 180ms/step - loss: 7.9314 - val_loss: 9.7573 - lr: 0.0010\n",
            "Epoch 80/1000\n",
            "551/551 [==============================] - ETA: 0s - loss: 7.8271\n",
            "Epoch 80: val_loss did not improve from 9.28202\n",
            "551/551 [==============================] - 96s 175ms/step - loss: 7.8271 - val_loss: 10.0854 - lr: 0.0010\n",
            "Epoch 81/1000\n",
            "551/551 [==============================] - ETA: 0s - loss: 7.8835\n",
            "Epoch 81: val_loss did not improve from 9.28202\n",
            "551/551 [==============================] - 98s 178ms/step - loss: 7.8835 - val_loss: 9.3710 - lr: 0.0010\n",
            "Epoch 82/1000\n",
            "551/551 [==============================] - ETA: 0s - loss: 7.6942\n",
            "Epoch 82: val_loss did not improve from 9.28202\n",
            "551/551 [==============================] - 99s 179ms/step - loss: 7.6942 - val_loss: 9.6752 - lr: 0.0010\n",
            "Epoch 83/1000\n",
            "551/551 [==============================] - ETA: 0s - loss: 7.7094\n",
            "Epoch 83: val_loss did not improve from 9.28202\n",
            "551/551 [==============================] - 96s 174ms/step - loss: 7.7094 - val_loss: 9.9066 - lr: 0.0010\n",
            "Epoch 84/1000\n",
            "551/551 [==============================] - ETA: 0s - loss: 7.6773\n",
            "Epoch 84: val_loss did not improve from 9.28202\n",
            "551/551 [==============================] - 99s 180ms/step - loss: 7.6773 - val_loss: 9.4767 - lr: 0.0010\n",
            "Epoch 85/1000\n",
            "551/551 [==============================] - ETA: 0s - loss: 7.7691\n",
            "Epoch 85: val_loss did not improve from 9.28202\n",
            "551/551 [==============================] - 102s 186ms/step - loss: 7.7691 - val_loss: 9.6347 - lr: 0.0010\n",
            "Epoch 86/1000\n",
            "551/551 [==============================] - ETA: 0s - loss: 7.5557\n",
            "Epoch 86: val_loss did not improve from 9.28202\n",
            "551/551 [==============================] - 102s 184ms/step - loss: 7.5557 - val_loss: 9.5546 - lr: 0.0010\n",
            "Epoch 87/1000\n",
            "551/551 [==============================] - ETA: 0s - loss: 7.5833\n",
            "Epoch 87: val_loss did not improve from 9.28202\n",
            "551/551 [==============================] - 98s 178ms/step - loss: 7.5833 - val_loss: 9.6426 - lr: 0.0010\n",
            "Epoch 88/1000\n",
            "551/551 [==============================] - ETA: 0s - loss: 7.5518\n",
            "Epoch 88: val_loss did not improve from 9.28202\n",
            "551/551 [==============================] - 97s 177ms/step - loss: 7.5518 - val_loss: 9.7936 - lr: 0.0010\n",
            "Epoch 89/1000\n",
            "551/551 [==============================] - ETA: 0s - loss: 7.4191\n",
            "Epoch 89: val_loss did not improve from 9.28202\n",
            "551/551 [==============================] - 96s 173ms/step - loss: 7.4191 - val_loss: 9.8880 - lr: 0.0010\n",
            "Epoch 90/1000\n",
            "551/551 [==============================] - ETA: 0s - loss: 7.4680\n",
            "Epoch 90: val_loss did not improve from 9.28202\n",
            "551/551 [==============================] - 104s 188ms/step - loss: 7.4680 - val_loss: 9.7904 - lr: 0.0010\n",
            "Epoch 91/1000\n",
            "551/551 [==============================] - ETA: 0s - loss: 7.2095\n",
            "Epoch 91: val_loss did not improve from 9.28202\n",
            "551/551 [==============================] - 101s 183ms/step - loss: 7.2095 - val_loss: 10.0439 - lr: 0.0010\n",
            "Epoch 92/1000\n",
            "551/551 [==============================] - ETA: 0s - loss: 7.2918\n",
            "Epoch 92: val_loss did not improve from 9.28202\n",
            "551/551 [==============================] - 97s 177ms/step - loss: 7.2918 - val_loss: 9.8055 - lr: 0.0010\n",
            "Epoch 93/1000\n",
            "551/551 [==============================] - ETA: 0s - loss: 7.2264\n",
            "Epoch 93: val_loss did not improve from 9.28202\n",
            "\n",
            "Epoch 93: ReduceLROnPlateau reducing learning rate to 0.00010000000474974513.\n",
            "551/551 [==============================] - 98s 179ms/step - loss: 7.2264 - val_loss: 9.4044 - lr: 0.0010\n",
            "Epoch 94/1000\n",
            "551/551 [==============================] - ETA: 0s - loss: 6.4523\n",
            "Epoch 94: val_loss improved from 9.28202 to 9.20899, saving model to output/bentham/puigcerver/checkpoint_weights.hdf5\n",
            "551/551 [==============================] - 98s 178ms/step - loss: 6.4523 - val_loss: 9.2090 - lr: 1.0000e-04\n",
            "Epoch 95/1000\n",
            "551/551 [==============================] - ETA: 0s - loss: 6.0976\n",
            "Epoch 95: val_loss did not improve from 9.20899\n",
            "551/551 [==============================] - 99s 180ms/step - loss: 6.0976 - val_loss: 9.2724 - lr: 1.0000e-04\n",
            "Epoch 96/1000\n",
            "551/551 [==============================] - ETA: 0s - loss: 5.8032\n",
            "Epoch 96: val_loss did not improve from 9.20899\n",
            "551/551 [==============================] - 100s 181ms/step - loss: 5.8032 - val_loss: 9.3067 - lr: 1.0000e-04\n",
            "Epoch 97/1000\n",
            "551/551 [==============================] - ETA: 0s - loss: 5.8162\n",
            "Epoch 97: val_loss did not improve from 9.20899\n",
            "551/551 [==============================] - 99s 180ms/step - loss: 5.8162 - val_loss: 9.2129 - lr: 1.0000e-04\n",
            "Epoch 98/1000\n",
            "551/551 [==============================] - ETA: 0s - loss: 5.7261\n",
            "Epoch 98: val_loss did not improve from 9.20899\n",
            "551/551 [==============================] - 101s 184ms/step - loss: 5.7261 - val_loss: 9.2430 - lr: 1.0000e-04\n",
            "Epoch 99/1000\n",
            "551/551 [==============================] - ETA: 0s - loss: 5.5397\n",
            "Epoch 99: val_loss improved from 9.20899 to 9.13844, saving model to output/bentham/puigcerver/checkpoint_weights.hdf5\n",
            "551/551 [==============================] - 97s 177ms/step - loss: 5.5397 - val_loss: 9.1384 - lr: 1.0000e-04\n",
            "Epoch 100/1000\n",
            "551/551 [==============================] - ETA: 0s - loss: 5.5503\n",
            "Epoch 100: val_loss did not improve from 9.13844\n",
            "551/551 [==============================] - 96s 175ms/step - loss: 5.5503 - val_loss: 9.2645 - lr: 1.0000e-04\n",
            "Epoch 101/1000\n",
            "551/551 [==============================] - ETA: 0s - loss: 5.4638\n",
            "Epoch 101: val_loss did not improve from 9.13844\n",
            "551/551 [==============================] - 98s 177ms/step - loss: 5.4638 - val_loss: 9.2800 - lr: 1.0000e-04\n",
            "Epoch 102/1000\n",
            "551/551 [==============================] - ETA: 0s - loss: 5.4331\n",
            "Epoch 102: val_loss did not improve from 9.13844\n",
            "551/551 [==============================] - 96s 174ms/step - loss: 5.4331 - val_loss: 9.2263 - lr: 1.0000e-04\n",
            "Epoch 103/1000\n",
            "551/551 [==============================] - ETA: 0s - loss: 5.4139\n",
            "Epoch 103: val_loss did not improve from 9.13844\n",
            "551/551 [==============================] - 99s 181ms/step - loss: 5.4139 - val_loss: 9.1512 - lr: 1.0000e-04\n",
            "Epoch 104/1000\n",
            "551/551 [==============================] - ETA: 0s - loss: 5.3357\n",
            "Epoch 104: val_loss did not improve from 9.13844\n",
            "551/551 [==============================] - 99s 180ms/step - loss: 5.3357 - val_loss: 9.2756 - lr: 1.0000e-04\n",
            "Epoch 105/1000\n",
            "551/551 [==============================] - ETA: 0s - loss: 5.1429\n",
            "Epoch 105: val_loss did not improve from 9.13844\n",
            "551/551 [==============================] - 96s 174ms/step - loss: 5.1429 - val_loss: 9.2255 - lr: 1.0000e-04\n",
            "Epoch 106/1000\n",
            "551/551 [==============================] - ETA: 0s - loss: 5.1194\n",
            "Epoch 106: val_loss did not improve from 9.13844\n",
            "551/551 [==============================] - 99s 180ms/step - loss: 5.1194 - val_loss: 9.3207 - lr: 1.0000e-04\n",
            "Epoch 107/1000\n",
            "551/551 [==============================] - ETA: 0s - loss: 5.0593\n",
            "Epoch 107: val_loss did not improve from 9.13844\n",
            "551/551 [==============================] - 100s 181ms/step - loss: 5.0593 - val_loss: 9.3367 - lr: 1.0000e-04\n",
            "Epoch 108/1000\n",
            "551/551 [==============================] - ETA: 0s - loss: 5.1377\n",
            "Epoch 108: val_loss did not improve from 9.13844\n",
            "551/551 [==============================] - 96s 173ms/step - loss: 5.1377 - val_loss: 9.2856 - lr: 1.0000e-04\n",
            "Epoch 109/1000\n",
            "551/551 [==============================] - ETA: 0s - loss: 5.1229\n",
            "Epoch 109: val_loss did not improve from 9.13844\n",
            "551/551 [==============================] - 100s 181ms/step - loss: 5.1229 - val_loss: 9.2774 - lr: 1.0000e-04\n",
            "Epoch 110/1000\n",
            "551/551 [==============================] - ETA: 0s - loss: 5.1359\n",
            "Epoch 110: val_loss did not improve from 9.13844\n",
            "551/551 [==============================] - 100s 181ms/step - loss: 5.1359 - val_loss: 9.2717 - lr: 1.0000e-04\n",
            "Epoch 111/1000\n",
            "551/551 [==============================] - ETA: 0s - loss: 5.1180\n",
            "Epoch 111: val_loss did not improve from 9.13844\n",
            "551/551 [==============================] - 97s 176ms/step - loss: 5.1180 - val_loss: 9.2695 - lr: 1.0000e-04\n",
            "Epoch 112/1000\n",
            "551/551 [==============================] - ETA: 0s - loss: 4.9676\n",
            "Epoch 112: val_loss did not improve from 9.13844\n",
            "551/551 [==============================] - 99s 180ms/step - loss: 4.9676 - val_loss: 9.3090 - lr: 1.0000e-04\n",
            "Epoch 113/1000\n",
            "551/551 [==============================] - ETA: 0s - loss: 5.1498\n",
            "Epoch 113: val_loss did not improve from 9.13844\n",
            "551/551 [==============================] - 96s 173ms/step - loss: 5.1498 - val_loss: 9.2394 - lr: 1.0000e-04\n",
            "Epoch 114/1000\n",
            "551/551 [==============================] - ETA: 0s - loss: 4.9728\n",
            "Epoch 114: val_loss did not improve from 9.13844\n",
            "\n",
            "Epoch 114: ReduceLROnPlateau reducing learning rate to 1.0000000474974514e-05.\n",
            "551/551 [==============================] - 96s 173ms/step - loss: 4.9728 - val_loss: 9.3567 - lr: 1.0000e-04\n",
            "Epoch 115/1000\n",
            "551/551 [==============================] - ETA: 0s - loss: 4.8928\n",
            "Epoch 115: val_loss did not improve from 9.13844\n",
            "551/551 [==============================] - 100s 181ms/step - loss: 4.8928 - val_loss: 9.2943 - lr: 1.0000e-05\n",
            "Epoch 116/1000\n",
            "551/551 [==============================] - ETA: 0s - loss: 4.9624\n",
            "Epoch 116: val_loss did not improve from 9.13844\n",
            "551/551 [==============================] - 96s 174ms/step - loss: 4.9624 - val_loss: 9.2794 - lr: 1.0000e-05\n",
            "Epoch 117/1000\n",
            "551/551 [==============================] - ETA: 0s - loss: 4.9541\n",
            "Epoch 117: val_loss did not improve from 9.13844\n",
            "551/551 [==============================] - 96s 174ms/step - loss: 4.9541 - val_loss: 9.2697 - lr: 1.0000e-05\n",
            "Epoch 118/1000\n",
            "551/551 [==============================] - ETA: 0s - loss: 4.9006\n",
            "Epoch 118: val_loss did not improve from 9.13844\n",
            "551/551 [==============================] - 99s 180ms/step - loss: 4.9006 - val_loss: 9.2903 - lr: 1.0000e-05\n",
            "Epoch 119/1000\n",
            "551/551 [==============================] - ETA: 0s - loss: 4.8153\n",
            "Epoch 119: val_loss did not improve from 9.13844\n",
            "Restoring model weights from the end of the best epoch: 99.\n",
            "551/551 [==============================] - 96s 174ms/step - loss: 4.8153 - val_loss: 9.2863 - lr: 1.0000e-05\n",
            "Epoch 119: early stopping\n",
            "Total train images:      8807\n",
            "Total validation images: 1372\n",
            "Batch:                   16\n",
            "\n",
            "Total time:              3:16:28.478133\n",
            "Time per epoch:          0:01:39.062841\n",
            "Time per item:           0:00:00.009732\n",
            "\n",
            "Total epochs:            119\n",
            "Best epoch               99\n",
            "\n",
            "Training loss:           5.53973818\n",
            "Validation loss:         9.13843536\n"
          ]
        }
      ]
    },
    {
      "cell_type": "markdown",
      "source": [
        "## 3.5 prediction"
      ],
      "metadata": {
        "id": "SsZUCBJw-uwX"
      }
    },
    {
      "cell_type": "code",
      "source": [
        "from google.colab.patches import cv2_imshow\n",
        "\n",
        "start_time = datetime.datetime.now()\n",
        "\n",
        "# predict() function will return the predicts with the probabilities\n",
        "predicts, _ = model.predict(x=dtgen.next_test_batch(),\n",
        "                            steps=dtgen.steps['test'],\n",
        "                            ctc_decode=True,\n",
        "                            verbose=1)\n",
        "\n",
        "# decode to string\n",
        "predicts = [dtgen.tokenizer.decode(x[0]) for x in predicts]\n",
        "ground_truth = [x.decode() for x in dtgen.dataset['test']['gt']]\n",
        "\n",
        "total_time = datetime.datetime.now() - start_time\n",
        "\n",
        "# mount predict corpus file\n",
        "with open(os.path.join(output_path, \"predict.txt\"), \"w\") as lg:\n",
        "    for pd, gt in zip(predicts, ground_truth):\n",
        "        lg.write(f\"TE_L {gt}\\nTE_P {pd}\\n\")\n",
        "   \n",
        "for i, item in enumerate(dtgen.dataset['test']['dt'][:10]):\n",
        "    print(\"=\" * 1024, \"\\n\")\n",
        "    cv2_imshow(adjust_to_see(item))\n",
        "    print(ground_truth[i])\n",
        "    print(predicts[i], \"\\n\")"
      ],
      "metadata": {
        "id": "J5R-sDPx-r1k",
        "colab": {
          "base_uri": "https://localhost:8080/",
          "height": 1000
        },
        "outputId": "ca35aa21-38bb-4aa5-cffb-38a884d15dec"
      },
      "execution_count": null,
      "outputs": [
        {
          "output_type": "stream",
          "name": "stdout",
          "text": [
            "Model Predict\n",
            "52/52 [==============================] - 6s 64ms/step\n",
            "CTC Decode\n",
            " 1/52 [..............................] - ETA: 56s"
          ]
        },
        {
          "output_type": "stream",
          "name": "stderr",
          "text": [
            "/usr/local/lib/python3.8/dist-packages/numpy/core/fromnumeric.py:43: VisibleDeprecationWarning: Creating an ndarray from ragged nested sequences (which is a list-or-tuple of lists-or-tuples-or ndarrays with different lengths or shapes) is deprecated. If you meant to do this, you must specify 'dtype=object' when creating the ndarray.\n",
            "  result = getattr(asarray(obj), method)(*args, **kwds)\n"
          ]
        },
        {
          "output_type": "stream",
          "name": "stdout",
          "text": [
            "52/52 [==============================] - 56s 1s/step\n",
            "================================================================================================================================================================================================================================================================================================================================================================================================================================================================================================================================================================================================================================================================================================================================================================================================================================================================================================================================================================================================================================================================ \n",
            "\n"
          ]
        },
        {
          "output_type": "display_data",
          "data": {
            "text/plain": [
              "<PIL.Image.Image image mode=L size=1024x128 at 0x7F92F5A609A0>"
            ],
            "image/png": "[encoded data removed]"
          },
          "metadata": {}
        },
        {
          "output_type": "stream",
          "name": "stdout",
          "text": [
            "brain.\n",
            "Crain . \n",
            "\n",
            "================================================================================================================================================================================================================================================================================================================================================================================================================================================================================================================================================================================================================================================================================================================================================================================================================================================================================================================================================================================================================================================================ \n",
            "\n"
          ]
        },
        {
          "output_type": "display_data",
          "data": {
            "text/plain": [
              "<PIL.Image.Image image mode=L size=1024x128 at 0x7F92F5A609A0>"
            ],
            "image/png": "[encoded data removed]"
          },
          "metadata": {}
        },
        {
          "output_type": "stream",
          "name": "stdout",
          "text": [
            "From this review then it appears, that\n",
            "From this reirew then it appears that \n",
            "\n",
            "================================================================================================================================================================================================================================================================================================================================================================================================================================================================================================================================================================================================================================================================================================================================================================================================================================================================================================================================================================================================================================================================ \n",
            "\n"
          ]
        },
        {
          "output_type": "display_data",
          "data": {
            "text/plain": [
              "<PIL.Image.Image image mode=L size=1024x128 at 0x7F92F4F032E0>"
            ],
            "image/png": "[encoded data removed]"
          },
          "metadata": {}
        },
        {
          "output_type": "stream",
          "name": "stdout",
          "text": [
            "in paving the way to the consideration of\n",
            "in paving heway to the conpderatic of \n",
            "\n",
            "================================================================================================================================================================================================================================================================================================================================================================================================================================================================================================================================================================================================================================================================================================================================================================================================================================================================================================================================================================================================================================================================ \n",
            "\n"
          ]
        },
        {
          "output_type": "display_data",
          "data": {
            "text/plain": [
              "<PIL.Image.Image image mode=L size=1024x128 at 0x7F936323BD60>"
            ],
            "image/png": "[encoded data removed]"
          },
          "metadata": {}
        },
        {
          "output_type": "stream",
          "name": "stdout",
          "text": [
            "municipal Law, our Author has spent\n",
            "municpal Law , our Author hars part \n",
            "\n",
            "================================================================================================================================================================================================================================================================================================================================================================================================================================================================================================================================================================================================================================================================================================================================================================================================================================================================================================================================================================================================================================================================ \n",
            "\n"
          ]
        },
        {
          "output_type": "display_data",
          "data": {
            "text/plain": [
              "<PIL.Image.Image image mode=L size=1024x128 at 0x7F92F4F03A30>"
            ],
            "image/png": "[encoded data removed]"
          },
          "metadata": {}
        },
        {
          "output_type": "stream",
          "name": "stdout",
          "text": [
            "supposed\n",
            "sappred \n",
            "\n",
            "================================================================================================================================================================================================================================================================================================================================================================================================================================================================================================================================================================================================================================================================================================================================================================================================================================================================================================================================================================================================================================================================ \n",
            "\n"
          ]
        },
        {
          "output_type": "display_data",
          "data": {
            "text/plain": [
              "<PIL.Image.Image image mode=L size=1024x128 at 0x7F92FC558400>"
            ],
            "image/png": "[encoded data removed]"
          },
          "metadata": {}
        },
        {
          "output_type": "stream",
          "name": "stdout",
          "text": [
            "much time in explaining the nature &\n",
            "onutime in explaining the nature  \n",
            "\n",
            "================================================================================================================================================================================================================================================================================================================================================================================================================================================================================================================================================================================================================================================================================================================================================================================================================================================================================================================================================================================================================================================================ \n",
            "\n"
          ]
        },
        {
          "output_type": "display_data",
          "data": {
            "text/plain": [
              "<PIL.Image.Image image mode=L size=1024x128 at 0x7F92F4F13280>"
            ],
            "image/png": "[encoded data removed]"
          },
          "metadata": {}
        },
        {
          "output_type": "stream",
          "name": "stdout",
          "text": [
            "Properties of Laws which do not exist &\n",
            "Everties of Laws whih do robexist : a \n",
            "\n",
            "================================================================================================================================================================================================================================================================================================================================================================================================================================================================================================================================================================================================================================================================================================================================================================================================================================================================================================================================================================================================================================================================ \n",
            "\n"
          ]
        },
        {
          "output_type": "display_data",
          "data": {
            "text/plain": [
              "<PIL.Image.Image image mode=L size=1024x128 at 0x7F92F5A609A0>"
            ],
            "image/png": "[encoded data removed]"
          },
          "metadata": {}
        },
        {
          "output_type": "stream",
          "name": "stdout",
          "text": [
            "in misapplying those which do: & therefore,\n",
            "in misapplying thore which de : o herefore ) \n",
            "\n",
            "================================================================================================================================================================================================================================================================================================================================================================================================================================================================================================================================================================================================================================================================================================================================================================================================================================================================================================================================================================================================================================================================ \n",
            "\n"
          ]
        },
        {
          "output_type": "display_data",
          "data": {
            "text/plain": [
              "<PIL.Image.Image image mode=L size=1024x128 at 0x7F92FC55A6A0>"
            ],
            "image/png": "[encoded data removed]"
          },
          "metadata": {}
        },
        {
          "output_type": "stream",
          "name": "stdout",
          "text": [
            "that the best thing which a Student of the\n",
            "pal he best thing which a Student of due \n",
            "\n",
            "================================================================================================================================================================================================================================================================================================================================================================================================================================================================================================================================================================================================================================================================================================================================================================================================================================================================================================================================================================================================================================================================ \n",
            "\n"
          ]
        },
        {
          "output_type": "display_data",
          "data": {
            "text/plain": [
              "<PIL.Image.Image image mode=L size=1024x128 at 0x7F92F4F03A30>"
            ],
            "image/png": "[encoded data removed]"
          },
          "metadata": {}
        },
        {
          "output_type": "stream",
          "name": "stdout",
          "text": [
            "Law can do is to forget all that our Author\n",
            "Law cando is to forset all pal our dather \n",
            "\n"
          ]
        }
      ]
    },
    {
      "cell_type": "markdown",
      "source": [
        "## 3.6 Evaluation"
      ],
      "metadata": {
        "id": "GJ_A_Uss-zgE"
      }
    },
    {
      "cell_type": "code",
      "source": [
        "evaluate = ocr_metrics(predicts, ground_truth)\n",
        "\n",
        "e_corpus = \"\\n\".join([\n",
        "    f\"Total test images:    {dtgen.size['test']}\",\n",
        "    f\"Total time:           {total_time}\",\n",
        "    f\"Time per item:        {total_time / dtgen.size['test']}\\n\",\n",
        "    f\"Metrics:\",\n",
        "    f\"Character Error Rate: {evaluate[0]:.8f}\",\n",
        "    f\"Word Error Rate:      {evaluate[1]:.8f}\",\n",
        "    f\"Sequence Error Rate:  {evaluate[2]:.8f}\"\n",
        "])\n",
        "\n",
        "with open(os.path.join(output_path, \"evaluate.txt\"), \"w\") as lg:\n",
        "    lg.write(e_corpus)\n",
        "    print(e_corpus)"
      ],
      "metadata": {
        "id": "zmkxQl43-yni",
        "colab": {
          "base_uri": "https://localhost:8080/"
        },
        "outputId": "629ea69d-2322-419c-aa86-d15ad0b7c869"
      },
      "execution_count": null,
      "outputs": [
        {
          "output_type": "stream",
          "name": "stdout",
          "text": [
            "Total test images:    820\n",
            "Total time:           0:01:02.556162\n",
            "Time per item:        0:00:00.076288\n",
            "\n",
            "Metrics:\n",
            "Character Error Rate: 0.07538685\n",
            "Word Error Rate:      0.31930305\n",
            "Sequence Error Rate:  0.80853659\n"
          ]
        }
      ]
    },
    {
      "cell_type": "markdown",
      "source": [
        "# IAM dataset"
      ],
      "metadata": {
        "id": "HcwXCZjNWCXF"
      }
    },
    {
      "cell_type": "markdown",
      "source": [
        "## 4.1 Dataset Preparation"
      ],
      "metadata": {
        "id": "g86SNSkkWGSO"
      }
    },
    {
      "cell_type": "code",
      "source": [
        "import os\n",
        "import datetime\n",
        "import string\n",
        "\n",
        "# define parameters\n",
        "source = \"iam\"\n",
        "\n",
        "epochs = 1000\n",
        "batch_size = 16\n",
        "\n",
        "# define paths\n",
        "source_path = os.path.join(\"data\", f\"{source}.hdf5\") ## preprocess  ## data/\n",
        "output_path = os.path.join( \"output\", source, arch)\n",
        "target_path = os.path.join(output_path, \"checkpoint_weights.hdf5\") ## checkpoint output\n",
        "os.makedirs(output_path, exist_ok=True)\n",
        "\n",
        "# define input size, number max of chars per line and list of valid chars\n",
        "input_size = (1024, 128, 1)\n",
        "max_text_length = 128\n",
        "charset_base = string.printable[:95]\n",
        "\n",
        "print(\"source:\", source_path)\n",
        "print(\"output\", output_path)\n",
        "print(\"target\", target_path)\n",
        "print(\"charset:\", charset_base)"
      ],
      "metadata": {
        "id": "bxTQNJv9-6jl",
        "colab": {
          "base_uri": "https://localhost:8080/"
        },
        "outputId": "c458b2d2-d73f-44d4-b979-83b695beb485"
      },
      "execution_count": null,
      "outputs": [
        {
          "output_type": "stream",
          "name": "stdout",
          "text": [
            "source: data/iam.hdf5\n",
            "output output/iam/puigcerver\n",
            "target output/iam/puigcerver/checkpoint_weights.hdf5\n",
            "charset: 0123456789abcdefghijklmnopqrstuvwxyzABCDEFGHIJKLMNOPQRSTUVWXYZ!\"#$%&'()*+,-./:;<=>?@[\\]^_`{|}~ \n"
          ]
        }
      ]
    },
    {
      "cell_type": "markdown",
      "source": [
        "## 4.2 Dataset generator"
      ],
      "metadata": {
        "id": "L3iC_3k_XNzt"
      }
    },
    {
      "cell_type": "code",
      "source": [
        "source_path = \"iam.hdf5\"\n",
        "\n",
        "dtgen = DataGenerator(source=source_path,\n",
        "                      batch_size=batch_size,\n",
        "                      charset=charset_base,\n",
        "                      max_text_length=max_text_length)\n",
        "\n",
        "print(f\"Train images: {dtgen.size['train']}\")\n",
        "print(f\"Validation images: {dtgen.size['valid']}\")\n",
        "print(f\"Test images: {dtgen.size['test']}\")"
      ],
      "metadata": {
        "colab": {
          "base_uri": "https://localhost:8080/"
        },
        "id": "RE-YWXyiXQYu",
        "outputId": "39f184c8-2e6f-4f77-ac21-fe36613f6979"
      },
      "execution_count": null,
      "outputs": [
        {
          "output_type": "stream",
          "name": "stdout",
          "text": [
            "Train images: 6161\n",
            "Validation images: 1840\n",
            "Test images: 1861\n"
          ]
        }
      ]
    },
    {
      "cell_type": "markdown",
      "source": [
        "## 4.3 Model Architecture"
      ],
      "metadata": {
        "id": "x3khJAb3XaO3"
      }
    },
    {
      "cell_type": "code",
      "source": [
        "# create and compile HTRModel\n",
        "model = HTRModel(architecture=arch,\n",
        "                 input_size=input_size,\n",
        "                 vocab_size=dtgen.tokenizer.vocab_size,\n",
        "                 beam_width=10,\n",
        "                 stop_tolerance=20,\n",
        "                 reduce_tolerance=15,\n",
        "                 reduce_factor=0.1)\n",
        "\n",
        "model.compile(learning_rate=0.001)\n",
        "model.summary(output_path, \"summary.txt\")\n",
        "\n",
        "# get default callbacks and load checkpoint weights file (HDF5) if exists\n",
        "model.load_checkpoint(target=target_path)\n",
        "\n",
        "callbacks = model.get_callbacks(logdir=output_path, checkpoint=target_path, verbose=1)"
      ],
      "metadata": {
        "colab": {
          "base_uri": "https://localhost:8080/"
        },
        "id": "0ByRkX6YXdcV",
        "outputId": "decce98e-7a76-4393-9bb1-f5bb361db48a"
      },
      "execution_count": null,
      "outputs": [
        {
          "output_type": "stream",
          "name": "stdout",
          "text": [
            "Model: \"model\"\n",
            "_________________________________________________________________\n",
            " Layer (type)                Output Shape              Param #   \n",
            "=================================================================\n",
            " input (InputLayer)          [(None, 1024, 128, 1)]    0         \n",
            "                                                                 \n",
            " conv2d (Conv2D)             (None, 1024, 128, 16)     160       \n",
            "                                                                 \n",
            " batch_normalization (BatchN  (None, 1024, 128, 16)    64        \n",
            " ormalization)                                                   \n",
            "                                                                 \n",
            " leaky_re_lu (LeakyReLU)     (None, 1024, 128, 16)     0         \n",
            "                                                                 \n",
            " max_pooling2d (MaxPooling2D  (None, 512, 64, 16)      0         \n",
            " )                                                               \n",
            "                                                                 \n",
            " conv2d_1 (Conv2D)           (None, 512, 64, 32)       4640      \n",
            "                                                                 \n",
            " batch_normalization_1 (Batc  (None, 512, 64, 32)      128       \n",
            " hNormalization)                                                 \n",
            "                                                                 \n",
            " leaky_re_lu_1 (LeakyReLU)   (None, 512, 64, 32)       0         \n",
            "                                                                 \n",
            " max_pooling2d_1 (MaxPooling  (None, 256, 32, 32)      0         \n",
            " 2D)                                                             \n",
            "                                                                 \n",
            " dropout (Dropout)           (None, 256, 32, 32)       0         \n",
            "                                                                 \n",
            " conv2d_2 (Conv2D)           (None, 256, 32, 48)       13872     \n",
            "                                                                 \n",
            " batch_normalization_2 (Batc  (None, 256, 32, 48)      192       \n",
            " hNormalization)                                                 \n",
            "                                                                 \n",
            " leaky_re_lu_2 (LeakyReLU)   (None, 256, 32, 48)       0         \n",
            "                                                                 \n",
            " max_pooling2d_2 (MaxPooling  (None, 128, 16, 48)      0         \n",
            " 2D)                                                             \n",
            "                                                                 \n",
            " dropout_1 (Dropout)         (None, 128, 16, 48)       0         \n",
            "                                                                 \n",
            " conv2d_3 (Conv2D)           (None, 128, 16, 64)       27712     \n",
            "                                                                 \n",
            " batch_normalization_3 (Batc  (None, 128, 16, 64)      256       \n",
            " hNormalization)                                                 \n",
            "                                                                 \n",
            " leaky_re_lu_3 (LeakyReLU)   (None, 128, 16, 64)       0         \n",
            "                                                                 \n",
            " dropout_2 (Dropout)         (None, 128, 16, 64)       0         \n",
            "                                                                 \n",
            " conv2d_4 (Conv2D)           (None, 128, 16, 80)       46160     \n",
            "                                                                 \n",
            " batch_normalization_4 (Batc  (None, 128, 16, 80)      320       \n",
            " hNormalization)                                                 \n",
            "                                                                 \n",
            " leaky_re_lu_4 (LeakyReLU)   (None, 128, 16, 80)       0         \n",
            "                                                                 \n",
            " reshape (Reshape)           (None, 128, 1280)         0         \n",
            "                                                                 \n",
            " bidirectional (Bidirectiona  (None, 128, 512)         3147776   \n",
            " l)                                                              \n",
            "                                                                 \n",
            " bidirectional_1 (Bidirectio  (None, 128, 512)         1574912   \n",
            " nal)                                                            \n",
            "                                                                 \n",
            " bidirectional_2 (Bidirectio  (None, 128, 512)         1574912   \n",
            " nal)                                                            \n",
            "                                                                 \n",
            " bidirectional_3 (Bidirectio  (None, 128, 512)         1574912   \n",
            " nal)                                                            \n",
            "                                                                 \n",
            " bidirectional_4 (Bidirectio  (None, 128, 512)         1574912   \n",
            " nal)                                                            \n",
            "                                                                 \n",
            " dropout_3 (Dropout)         (None, 128, 512)          0         \n",
            "                                                                 \n",
            " dense (Dense)               (None, 128, 98)           50274     \n",
            "                                                                 \n",
            "=================================================================\n",
            "Total params: 9,591,202\n",
            "Trainable params: 9,590,722\n",
            "Non-trainable params: 480\n",
            "_________________________________________________________________\n"
          ]
        }
      ]
    },
    {
      "cell_type": "markdown",
      "source": [
        "## 4.4 Training"
      ],
      "metadata": {
        "id": "KJMyTq7RXh1O"
      }
    },
    {
      "cell_type": "code",
      "source": [
        "output_path"
      ],
      "metadata": {
        "colab": {
          "base_uri": "https://localhost:8080/",
          "height": 35
        },
        "id": "3djhx_5we-tL",
        "outputId": "6a93e204-36c4-4436-c2b2-f08178a02c7d"
      },
      "execution_count": null,
      "outputs": [
        {
          "output_type": "execute_result",
          "data": {
            "text/plain": [
              "'output/iam/puigcerver'"
            ],
            "application/vnd.google.colaboratory.intrinsic+json": {
              "type": "string"
            }
          },
          "metadata": {},
          "execution_count": 14
        }
      ]
    },
    {
      "cell_type": "code",
      "source": [
        "# to calculate total and average time per epoch\n",
        "start_time = datetime.datetime.now()\n",
        "\n",
        "h = model.fit(x=dtgen.next_train_batch(),\n",
        "              epochs=epochs,\n",
        "              steps_per_epoch=dtgen.steps['train'],\n",
        "              validation_data=dtgen.next_valid_batch(),\n",
        "              validation_steps=dtgen.steps['valid'],\n",
        "              callbacks=callbacks,\n",
        "              shuffle=True,\n",
        "              verbose=1)\n",
        "\n",
        "total_time = datetime.datetime.now() - start_time\n",
        "\n",
        "loss = h.history['loss']\n",
        "val_loss = h.history['val_loss']\n",
        "\n",
        "min_val_loss = min(val_loss)\n",
        "min_val_loss_i = val_loss.index(min_val_loss)\n",
        "\n",
        "time_epoch = (total_time / len(loss))\n",
        "total_item = (dtgen.size['train'] + dtgen.size['valid'])\n",
        "\n",
        "t_corpus = \"\\n\".join([\n",
        "    f\"Total train images:      {dtgen.size['train']}\",\n",
        "    f\"Total validation images: {dtgen.size['valid']}\",\n",
        "    f\"Batch:                   {dtgen.batch_size}\\n\",\n",
        "    f\"Total time:              {total_time}\",\n",
        "    f\"Time per epoch:          {time_epoch}\",\n",
        "    f\"Time per item:           {time_epoch / total_item}\\n\",\n",
        "    f\"Total epochs:            {len(loss)}\",\n",
        "    f\"Best epoch               {min_val_loss_i + 1}\\n\",\n",
        "    f\"Training loss:           {loss[min_val_loss_i]:.8f}\",\n",
        "    f\"Validation loss:         {min_val_loss:.8f}\"\n",
        "])\n",
        "\n",
        "with open(os.path.join(output_path, \"train.txt\"), \"w\") as lg:\n",
        "    lg.write(t_corpus)\n",
        "    print(t_corpus)"
      ],
      "metadata": {
        "id": "62fvq_tIXkFC",
        "colab": {
          "base_uri": "https://localhost:8080/"
        },
        "outputId": "afd622fa-eec9-495a-920f-90eda933b447"
      },
      "execution_count": null,
      "outputs": [
        {
          "output_type": "stream",
          "name": "stdout",
          "text": [
            "Epoch 1/1000\n",
            "386/386 [==============================] - ETA: 0s - loss: 159.3400\n",
            "Epoch 1: val_loss improved from inf to 136.65799, saving model to output/iam/puigcerver/checkpoint_weights.hdf5\n",
            "386/386 [==============================] - 104s 205ms/step - loss: 159.3400 - val_loss: 136.6580 - lr: 0.0010\n",
            "Epoch 2/1000\n",
            "386/386 [==============================] - ETA: 0s - loss: 120.4365\n",
            "Epoch 2: val_loss did not improve from 136.65799\n",
            "386/386 [==============================] - 75s 195ms/step - loss: 120.4365 - val_loss: 157.8126 - lr: 0.0010\n",
            "Epoch 3/1000\n",
            "386/386 [==============================] - ETA: 0s - loss: 104.0699\n",
            "Epoch 3: val_loss improved from 136.65799 to 101.58734, saving model to output/iam/puigcerver/checkpoint_weights.hdf5\n",
            "386/386 [==============================] - 79s 204ms/step - loss: 104.0699 - val_loss: 101.5873 - lr: 0.0010\n",
            "Epoch 4/1000\n",
            "386/386 [==============================] - ETA: 0s - loss: 93.2011\n",
            "Epoch 4: val_loss improved from 101.58734 to 88.31357, saving model to output/iam/puigcerver/checkpoint_weights.hdf5\n",
            "386/386 [==============================] - 74s 192ms/step - loss: 93.2011 - val_loss: 88.3136 - lr: 0.0010\n",
            "Epoch 5/1000\n",
            "386/386 [==============================] - ETA: 0s - loss: 81.3751\n",
            "Epoch 5: val_loss improved from 88.31357 to 80.15738, saving model to output/iam/puigcerver/checkpoint_weights.hdf5\n",
            "386/386 [==============================] - 76s 196ms/step - loss: 81.3751 - val_loss: 80.1574 - lr: 0.0010\n",
            "Epoch 6/1000\n",
            "386/386 [==============================] - ETA: 0s - loss: 70.9058\n",
            "Epoch 6: val_loss improved from 80.15738 to 65.20044, saving model to output/iam/puigcerver/checkpoint_weights.hdf5\n",
            "386/386 [==============================] - 74s 192ms/step - loss: 70.9058 - val_loss: 65.2004 - lr: 0.0010\n",
            "Epoch 7/1000\n",
            "386/386 [==============================] - ETA: 0s - loss: 62.2599\n",
            "Epoch 7: val_loss improved from 65.20044 to 58.77888, saving model to output/iam/puigcerver/checkpoint_weights.hdf5\n",
            "386/386 [==============================] - 77s 199ms/step - loss: 62.2599 - val_loss: 58.7789 - lr: 0.0010\n",
            "Epoch 8/1000\n",
            "386/386 [==============================] - ETA: 0s - loss: 55.1347\n",
            "Epoch 8: val_loss improved from 58.77888 to 47.74748, saving model to output/iam/puigcerver/checkpoint_weights.hdf5\n",
            "386/386 [==============================] - 76s 197ms/step - loss: 55.1347 - val_loss: 47.7475 - lr: 0.0010\n",
            "Epoch 9/1000\n",
            "386/386 [==============================] - ETA: 0s - loss: 50.3086\n",
            "Epoch 9: val_loss improved from 47.74748 to 45.96525, saving model to output/iam/puigcerver/checkpoint_weights.hdf5\n",
            "386/386 [==============================] - 74s 191ms/step - loss: 50.3086 - val_loss: 45.9652 - lr: 0.0010\n",
            "Epoch 10/1000\n",
            "386/386 [==============================] - ETA: 0s - loss: 45.6816\n",
            "Epoch 10: val_loss improved from 45.96525 to 42.68026, saving model to output/iam/puigcerver/checkpoint_weights.hdf5\n",
            "386/386 [==============================] - 73s 190ms/step - loss: 45.6816 - val_loss: 42.6803 - lr: 0.0010\n",
            "Epoch 11/1000\n",
            "386/386 [==============================] - ETA: 0s - loss: 41.6374\n",
            "Epoch 11: val_loss improved from 42.68026 to 34.41087, saving model to output/iam/puigcerver/checkpoint_weights.hdf5\n",
            "386/386 [==============================] - 76s 196ms/step - loss: 41.6374 - val_loss: 34.4109 - lr: 0.0010\n",
            "Epoch 12/1000\n",
            "386/386 [==============================] - ETA: 0s - loss: 38.5755\n",
            "Epoch 12: val_loss improved from 34.41087 to 33.40757, saving model to output/iam/puigcerver/checkpoint_weights.hdf5\n",
            "386/386 [==============================] - 78s 201ms/step - loss: 38.5755 - val_loss: 33.4076 - lr: 0.0010\n",
            "Epoch 13/1000\n",
            "386/386 [==============================] - ETA: 0s - loss: 35.9161\n",
            "Epoch 13: val_loss improved from 33.40757 to 31.65018, saving model to output/iam/puigcerver/checkpoint_weights.hdf5\n",
            "386/386 [==============================] - 75s 193ms/step - loss: 35.9161 - val_loss: 31.6502 - lr: 0.0010\n",
            "Epoch 14/1000\n",
            "386/386 [==============================] - ETA: 0s - loss: 34.0897\n",
            "Epoch 14: val_loss improved from 31.65018 to 29.61269, saving model to output/iam/puigcerver/checkpoint_weights.hdf5\n",
            "386/386 [==============================] - 75s 196ms/step - loss: 34.0897 - val_loss: 29.6127 - lr: 0.0010\n",
            "Epoch 15/1000\n",
            "386/386 [==============================] - ETA: 0s - loss: 31.9050\n",
            "Epoch 15: val_loss improved from 29.61269 to 26.30069, saving model to output/iam/puigcerver/checkpoint_weights.hdf5\n",
            "386/386 [==============================] - 76s 195ms/step - loss: 31.9050 - val_loss: 26.3007 - lr: 0.0010\n",
            "Epoch 16/1000\n",
            "386/386 [==============================] - ETA: 0s - loss: 30.1912\n",
            "Epoch 16: val_loss did not improve from 26.30069\n",
            "386/386 [==============================] - 75s 195ms/step - loss: 30.1912 - val_loss: 29.3672 - lr: 0.0010\n",
            "Epoch 17/1000\n",
            "386/386 [==============================] - ETA: 0s - loss: 28.7697\n",
            "Epoch 17: val_loss did not improve from 26.30069\n",
            "386/386 [==============================] - 74s 191ms/step - loss: 28.7697 - val_loss: 31.8389 - lr: 0.0010\n",
            "Epoch 18/1000\n",
            "386/386 [==============================] - ETA: 0s - loss: 27.5431\n",
            "Epoch 18: val_loss improved from 26.30069 to 22.59369, saving model to output/iam/puigcerver/checkpoint_weights.hdf5\n",
            "386/386 [==============================] - 75s 194ms/step - loss: 27.5431 - val_loss: 22.5937 - lr: 0.0010\n",
            "Epoch 19/1000\n",
            "386/386 [==============================] - ETA: 0s - loss: 26.1294\n",
            "Epoch 19: val_loss improved from 22.59369 to 22.49319, saving model to output/iam/puigcerver/checkpoint_weights.hdf5\n",
            "386/386 [==============================] - 75s 195ms/step - loss: 26.1294 - val_loss: 22.4932 - lr: 0.0010\n",
            "Epoch 20/1000\n",
            "386/386 [==============================] - ETA: 0s - loss: 25.1811\n",
            "Epoch 20: val_loss did not improve from 22.49319\n",
            "386/386 [==============================] - 73s 188ms/step - loss: 25.1811 - val_loss: 23.2572 - lr: 0.0010\n",
            "Epoch 21/1000\n",
            "386/386 [==============================] - ETA: 0s - loss: 24.1673\n",
            "Epoch 21: val_loss improved from 22.49319 to 22.36703, saving model to output/iam/puigcerver/checkpoint_weights.hdf5\n",
            "386/386 [==============================] - 78s 202ms/step - loss: 24.1673 - val_loss: 22.3670 - lr: 0.0010\n",
            "Epoch 22/1000\n",
            "386/386 [==============================] - ETA: 0s - loss: 23.5663\n",
            "Epoch 22: val_loss did not improve from 22.36703\n",
            "386/386 [==============================] - 74s 192ms/step - loss: 23.5663 - val_loss: 23.4712 - lr: 0.0010\n",
            "Epoch 23/1000\n",
            "386/386 [==============================] - ETA: 0s - loss: 22.5902\n",
            "Epoch 23: val_loss improved from 22.36703 to 22.26617, saving model to output/iam/puigcerver/checkpoint_weights.hdf5\n",
            "386/386 [==============================] - 73s 189ms/step - loss: 22.5902 - val_loss: 22.2662 - lr: 0.0010\n",
            "Epoch 24/1000\n",
            "386/386 [==============================] - ETA: 0s - loss: 21.8206\n",
            "Epoch 24: val_loss did not improve from 22.26617\n",
            "386/386 [==============================] - 72s 186ms/step - loss: 21.8206 - val_loss: 24.2444 - lr: 0.0010\n",
            "Epoch 25/1000\n",
            "386/386 [==============================] - ETA: 0s - loss: 21.3701\n",
            "Epoch 25: val_loss improved from 22.26617 to 21.07410, saving model to output/iam/puigcerver/checkpoint_weights.hdf5\n",
            "386/386 [==============================] - 75s 196ms/step - loss: 21.3701 - val_loss: 21.0741 - lr: 0.0010\n",
            "Epoch 26/1000\n",
            "157/386 [===========>..................] - ETA: 37s - loss: 20.8559"
          ]
        }
      ]
    },
    {
      "cell_type": "markdown",
      "source": [
        "## 4.5 Prediction"
      ],
      "metadata": {
        "id": "GH3bktavXv3x"
      }
    },
    {
      "cell_type": "code",
      "source": [
        "from google.colab.patches import cv2_imshow\n",
        "\n",
        "start_time = datetime.datetime.now()\n",
        "\n",
        "# predict() function will return the predicts with the probabilities\n",
        "predicts, _ = model.predict(x=dtgen.next_test_batch(),\n",
        "                            steps=dtgen.steps['test'],\n",
        "                            ctc_decode=True,\n",
        "                            verbose=1)\n",
        "\n",
        "# decode to string\n",
        "predicts = [dtgen.tokenizer.decode(x[0]) for x in predicts]\n",
        "ground_truth = [x.decode() for x in dtgen.dataset['test']['gt']]\n",
        "\n",
        "total_time = datetime.datetime.now() - start_time\n",
        "\n",
        "# mount predict corpus file\n",
        "with open(os.path.join(output_path, \"predict.txt\"), \"w\") as lg:\n",
        "    for pd, gt in zip(predicts, ground_truth):\n",
        "        lg.write(f\"TE_L {gt}\\nTE_P {pd}\\n\")\n",
        "   \n",
        "for i, item in enumerate(dtgen.dataset['test']['dt'][:10]):\n",
        "    print(\"=\" * 1024, \"\\n\")\n",
        "    cv2_imshow(adjust_to_see(item))\n",
        "    print(ground_truth[i])\n",
        "    print(predicts[i], \"\\n\")"
      ],
      "metadata": {
        "id": "tP48dY3RXzfT"
      },
      "execution_count": null,
      "outputs": []
    },
    {
      "cell_type": "markdown",
      "source": [
        "## 4.6 Evaluation"
      ],
      "metadata": {
        "id": "8FamrZuZX0nq"
      }
    },
    {
      "cell_type": "code",
      "source": [
        "evaluate = ocr_metrics(predicts, ground_truth)\n",
        "\n",
        "e_corpus = \"\\n\".join([\n",
        "    f\"Total test images:    {dtgen.size['test']}\",\n",
        "    f\"Total time:           {total_time}\",\n",
        "    f\"Time per item:        {total_time / dtgen.size['test']}\\n\",\n",
        "    f\"Metrics:\",\n",
        "    f\"Character Error Rate: {evaluate[0]:.8f}\",\n",
        "    f\"Word Error Rate:      {evaluate[1]:.8f}\",\n",
        "    f\"Sequence Error Rate:  {evaluate[2]:.8f}\"\n",
        "])\n",
        "\n",
        "with open(os.path.join(output_path, \"evaluate.txt\"), \"w\") as lg:\n",
        "    lg.write(e_corpus)\n",
        "    print(e_corpus)"
      ],
      "metadata": {
        "id": "iLdFCL-FYRQa"
      },
      "execution_count": null,
      "outputs": []
    },
    {
      "cell_type": "code",
      "source": [],
      "metadata": {
        "id": "RT8u564gfRqr"
      },
      "execution_count": null,
      "outputs": []
    },
    {
      "cell_type": "code",
      "source": [],
      "metadata": {
        "id": "ikmNAqaRVMti"
      },
      "execution_count": null,
      "outputs": []
    },
    {
      "cell_type": "code",
      "source": [],
      "metadata": {
        "id": "yJo46d7IVM1Y"
      },
      "execution_count": null,
      "outputs": []
    }
  ]
}